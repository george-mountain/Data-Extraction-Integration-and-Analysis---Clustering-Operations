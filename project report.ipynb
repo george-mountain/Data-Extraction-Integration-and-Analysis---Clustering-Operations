{
 "cells": [
  {
   "cell_type": "markdown",
   "metadata": {},
   "source": [
    "# Decision Making via Data: Project"
   ]
  },
  {
   "cell_type": "markdown",
   "metadata": {},
   "source": [
    "## Data Engineering Project: - Data Driven Decison via Clustering\n"
   ]
  },
  {
   "cell_type": "markdown",
   "metadata": {},
   "source": [
    "# Project Report"
   ]
  },
  {
   "cell_type": "markdown",
   "metadata": {},
   "source": [
    "## Introduction/Business Problem\n",
    "\n",
    "### Problem Statement: Viability of Establishing Quality and Profitable Restaurant Shop in Lagos State Nigeria"
   ]
  },
  {
   "cell_type": "markdown",
   "metadata": {},
   "source": [
    "The aim of this study is to help people planning to open a new restaurant shop in Lagos state Nigeria to chose the right location by providing data about the income and population of each neighborhood as well as the competitors already present on the same regions.\n",
    "\n",
    " Lagos state is one of the most renowned commercial cities not only in Nigeria but also in Africa. It is one of the best places one can consider setting up a new business because of the high population density of the city and its commercial nature. Thus in this study, I will explore the whole city of Lagos which is made up of many local government and administrative quarters and determine out of all these regions in Lagos state, the area/region that might be viable enough for the establishment of new restaurant business with the hope of getting a high return and maximizing profit though the business while adding value. This study is hoped to give an insight in taking the best decision as to which place is suitable for setting up this kind of business.\n",
    "\n",
    "#### Target Audience\n",
    " What type of clients or a group of people would be interested in this project?\n",
    " The people/audience that might be interested in this study are as follows:\n",
    "1. Business personnel who wants to invest or establish restaurant shop business. This analysis will be a comprehensive guide to start or expand restaurant shop considering the commercial nature of lagos and its population density.\n",
    "2. Entrepreneurs who love to have their own restaurant as a business enterprise. This analysis will give a clue, how beneficial it is to open restaurant shop and some of the pros and cons associated with the business considering the geograpical region of Lagos state.\n",
    "3. Researchers/Marketers who want to learn more about the geographical influence of restaurant business in Lagos state Nigeria can also find this analysis very useful.\n",
    " 4.Software Developers and  Data Scientists, who want to learn on the use of four square API to solve location problems, implement some of the most used Exploratory Data Analysis techniques to obtain necessary data, analyze it, and, finally be able to tell a story out of it."
   ]
  },
  {
   "cell_type": "markdown",
   "metadata": {},
   "source": [
    "### Data Sourcing and Scrapping\n",
    "\n",
    "To be able to analyse and proffer solution to the stated problem statement and also provide the stakeholders/target audience the necessary information needed for the establishment of restaurant shop in Lagos state Nigeria, I'll be combining Lagos state local governments datasheet that contains Population, Area, Administrative Capital and Postal  Code with Lagos state local government postal codes and coordinates data and also Foursquare API to collect competitors on the same neighborhoods.\n",
    "\n",
    "I first make use of Lagos state local government datasheet page from Wikipedia to scrap the table to create a data-frame. For this, I’ve used requests and Beautifulsoup4 library to scrape the data from the wikipedia page https://en.wikipedia.org/wiki/Lagos_State. I also got the other needed data of lagos state from https://nigeria.opendataforafrica.org/zvbmbhe/information-and-communication?states=1000250-lagos by downloading a csv file. I also got the geographical coordinates of the 20 local government areas in Lagos state through google search and compliled them in a csv file. Also, I would make use of the Foursquare API to collect data about each of the neighbourhoods and even get the competitors in the same electronic business in some of the areas of Lagos state. With the Foursquare API, I will be querying the number of venues in each category in a 500m radius around each area. This radius will be chosen to ensure I get nearby competitors that might compete agressively with the business."
   ]
  },
  {
   "cell_type": "markdown",
   "metadata": {},
   "source": [
    "## Methodology"
   ]
  },
  {
   "cell_type": "markdown",
   "metadata": {},
   "source": [
    "For this analysis, I used some data visualization tools like bar chart and area plot to compare the different local governmenta areas in Lagos density in terms of their population density and landmass. This enabled me to get an overview of how the areas may determine the viability of our business. Also, I used a few different maps in addition to the plots as it is said that a picture can convey more than a thousand messages. Thus, providing a means that could help a new investor to decide the best neighborhood to open a restaurant in Lagos State based on it's income, population and available competitors. In order to do that I've used the 2006 Census information combined with choropleth maps to visually display the wealthier and more populational neighborhoods and Foursquare data to display the current restaurants in each region.\n",
    "\n",
    "Also, I will be using k-means clustering and Segmentation Machine Learning Algorithm to cluster and segment the different areas of Lagos state. This algorithm uses attributes and features to find data points that are most similar to the target variable. I choose these algorithms since Segmentation and clustering classifies given data points into groups, or clusters, that are internally similar and externally dissimilar. In other words, data points within a cluster are similar based on a given attribute or attributes; however, clusters are separated based on dissimilarities from each other. With this, we can know the areas that have some certain attributes in common and those that are disimilar so that we can make appropriate observations and take the right decisions as pertaining to the intended business."
   ]
  },
  {
   "cell_type": "markdown",
   "metadata": {},
   "source": [
    "## Results"
   ]
  },
  {
   "cell_type": "markdown",
   "metadata": {},
   "source": [
    "Having carried out the analysis and cluster the areas of Lagos State Nigeria using Machine Learning algorithms on the foursquare data used, we got an overview of the 5 major areas/regions of Lagos State and, as the business problem started with benefits and drawbacks of opening a restaurant shop in one of the busiest districts, the data exploration was mostly concentrated on the restaurants. From this clusters, we can see that —\n",
    "\n",
    "1. Fast Food restaurants and African Restaurants top the charts of most common venues in the 5 areas/regions.\n",
    "2.Kosote has the lowest cluster unit and has \"spa\" as the most common venue and \"fast food restaurant\" as the least common venue. \n",
    "3. Oshodi-Isolo area/region also has the fast food restaurant as not a common venue but bakery, spa and shopping mall as the most common venues in the regions\n",
    "4. Agege and Apapa region have fast food restaurants and park as the most common venues in the region\n",
    "5. Ikeja and Lagos Mainland regions have the African Restaurant and Fast Food Restaurant respectively as the most common and trendy venues in the region\n",
    "6. Lagos Island has hotels as the most common and trendy venues in the region while there restaurants are not common at all in the region\n",
    "7. Surulere has bars and bakery as the most common venues in the region.\n",
    "8. Alismosho, Mushin and Ikorodu region have bar and bakery as the most common venues while restaurants as the least common venues.\n",
    "9. From the exploratory data analysis, we saw from the bar chat that Alimosho, Ajeromi and Kosofe have the highest population and from the area plot, we can see that Epe,Ibeju-Lekki and Ikorodu have the highest landmass"
   ]
  },
  {
   "cell_type": "markdown",
   "metadata": {},
   "source": [
    "## Discussion"
   ]
  },
  {
   "cell_type": "markdown",
   "metadata": {},
   "source": [
    "From the  analysis carried out, Alismosho, Mushin and Ikorodu areas will provide minimal competition for an upcoming restaurant wether Fast Food Restaurant or African Restaurant as restaurant is not common in these regions. The frequency of restaurants as common venue are very low compared to the remaining districts. Also seen from the web-scrapped data, the average land price in and around these three regions is much lower compared to the other areas of Lagos. So, definitely this region could potentially be a target for starting quality restaurants as the competition will be low and these regions like Alimosho has the highest population considering other regions. Thus, there might be enough patronage since these regions has high population and competition very low. Some drawbacks of this analysis are — the clustering is completely based on the most common venues obtained from Foursquare data. Since land price, income of the residents, social and economical status, number of potential customers could be other determinant factors in determining the business setup but the analysis didn't do justice to that. Thus, this analysis is definitely far from being conclusory. However, it certainly gives us some very important preliminary information on possibilities of opening restaurants in some areas of Lagos compared to other areas. Furthermore, these results also could potentially vary if we use some other clustering techniques like DBSCAN.\n",
    "Also, Foursquare data isn’t all-encompassing. Data doesn’t take into account a venue’s size."
   ]
  },
  {
   "cell_type": "markdown",
   "metadata": {},
   "source": [
    "## Conclusion"
   ]
  },
  {
   "cell_type": "markdown",
   "metadata": {},
   "source": [
    "Foursquare data is limited but can provide insights into a city’s development. This data could be combined with other sources (e.g. city data on number of residents) to provide more accurate results. Also, this analysis and report may be helpful for someone planning on opening a restaurant in Lagos State Nigeria to ascertain the viability and profitability of the business taking patronage and competitors in the same business into considerations, by comparing the current offers and neighborhoods profiles. However it may not cover all variables such as access to public transportation or even the restaurants profiles, so it shall not be used as a single decision factor but can give a strong clue on where to establish restaurant business in Lagos state."
   ]
  }
 ],
 "metadata": {
  "kernelspec": {
   "display_name": "Python 3",
   "language": "python",
   "name": "python3"
  },
  "language_info": {
   "codemirror_mode": {
    "name": "ipython",
    "version": 3
   },
   "file_extension": ".py",
   "mimetype": "text/x-python",
   "name": "python",
   "nbconvert_exporter": "python",
   "pygments_lexer": "ipython3",
   "version": "3.7.4"
  }
 },
 "nbformat": 4,
 "nbformat_minor": 2
}
