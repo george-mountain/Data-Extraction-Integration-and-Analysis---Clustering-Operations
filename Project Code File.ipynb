{
 "cells": [
  {
   "cell_type": "markdown",
   "metadata": {},
   "source": [
    "## Project Code Notebook for the Project"
   ]
  },
  {
   "cell_type": "code",
   "execution_count": 80,
   "metadata": {},
   "outputs": [],
   "source": [
    "# importing the necessary libraries for this project as shown below\n",
    "\n",
    "import pandas as pd\n",
    "from bs4 import BeautifulSoup\n",
    "import requests\n",
    "import numpy as np\n",
    "#import pandas as pd # library for data analsysis\n",
    "pd.set_option('display.max_columns', None)\n",
    "pd.set_option('display.max_rows', None)\n",
    "\n",
    "import json # library to handle JSON files\n",
    "from geopy.geocoders import Nominatim # convert an address into latitude and longitude values\n",
    "from pandas.io.json import json_normalize  # tranform JSON file into a pandas dataframe\n",
    "\n",
    "import folium # map rendering library\n",
    "\n",
    "# import k-means from clustering stage\n",
    "from sklearn.cluster import KMeans\n",
    "\n",
    "# Matplotlib and associated plotting modules\n",
    "import matplotlib.cm as cm\n",
    "import matplotlib.colors as colors"
   ]
  },
  {
   "cell_type": "markdown",
   "metadata": {},
   "source": [
    "### Scrapping the Contents of the wikipedia page containing the table using BeautifulSoup as shown below"
   ]
  },
  {
   "cell_type": "code",
   "execution_count": 81,
   "metadata": {},
   "outputs": [],
   "source": [
    "from urllib.request import urlopen as uReg\n",
    "source = uReg(\"https://en.wikipedia.org/wiki/Lagos_State\") #wikipedia page to be scrapped\n",
    "page_html = source.read()\n",
    "source.close()\n",
    "soup = BeautifulSoup(page_html, 'html.parser') #loading the entire wikipedia page for the desired data\n",
    "table = soup.findAll(\"table\") #getting the table portion of the loaded wikipedia page \n",
    "#print (soup.prettify())\n",
    "table = table[2]\n",
    "#table\n",
    " "
   ]
  },
  {
   "cell_type": "code",
   "execution_count": 82,
   "metadata": {},
   "outputs": [
    {
     "data": {
      "text/html": [
       "<div>\n",
       "<style scoped>\n",
       "    .dataframe tbody tr th:only-of-type {\n",
       "        vertical-align: middle;\n",
       "    }\n",
       "\n",
       "    .dataframe tbody tr th {\n",
       "        vertical-align: top;\n",
       "    }\n",
       "\n",
       "    .dataframe thead th {\n",
       "        text-align: right;\n",
       "    }\n",
       "</style>\n",
       "<table border=\"1\" class=\"dataframe\">\n",
       "  <thead>\n",
       "    <tr style=\"text-align: right;\">\n",
       "      <th></th>\n",
       "      <th>LGA name</th>\n",
       "      <th>Area(KM SQUARE)</th>\n",
       "      <th>CENSUS 2006 POPULATION</th>\n",
       "      <th>ADMINISTRATIVE CAPITAL</th>\n",
       "      <th>POSTAL CODE</th>\n",
       "    </tr>\n",
       "  </thead>\n",
       "  <tbody>\n",
       "    <tr>\n",
       "      <td>0</td>\n",
       "      <td>Agege\\n</td>\n",
       "      <td>11\\n</td>\n",
       "      <td>459,939\\n</td>\n",
       "      <td>Agege\\n</td>\n",
       "      <td>100\\n</td>\n",
       "    </tr>\n",
       "    <tr>\n",
       "      <td>1</td>\n",
       "      <td>Alimosho\\n</td>\n",
       "      <td>185\\n</td>\n",
       "      <td>1,277,714\\n</td>\n",
       "      <td>Ikotun\\n</td>\n",
       "      <td>100\\n</td>\n",
       "    </tr>\n",
       "    <tr>\n",
       "      <td>2</td>\n",
       "      <td>Ifako-Ijaye\\n</td>\n",
       "      <td>27\\n</td>\n",
       "      <td>427,878\\n</td>\n",
       "      <td>Ifako\\n</td>\n",
       "      <td>100\\n</td>\n",
       "    </tr>\n",
       "    <tr>\n",
       "      <td>3</td>\n",
       "      <td>Ikeja\\n</td>\n",
       "      <td>46\\n</td>\n",
       "      <td>313,196\\n</td>\n",
       "      <td>Ikeja\\n</td>\n",
       "      <td>100\\n</td>\n",
       "    </tr>\n",
       "    <tr>\n",
       "      <td>4</td>\n",
       "      <td>Kosofe\\n</td>\n",
       "      <td>81\\n</td>\n",
       "      <td>665,393\\n</td>\n",
       "      <td>Kosofe\\n</td>\n",
       "      <td>100\\n</td>\n",
       "    </tr>\n",
       "    <tr>\n",
       "      <td>5</td>\n",
       "      <td>Mushin\\n</td>\n",
       "      <td>17\\n</td>\n",
       "      <td>633,009\\n</td>\n",
       "      <td>Mushin\\n</td>\n",
       "      <td>100\\n</td>\n",
       "    </tr>\n",
       "    <tr>\n",
       "      <td>6</td>\n",
       "      <td>Oshodi-Isolo\\n</td>\n",
       "      <td>45\\n</td>\n",
       "      <td>621,509\\n</td>\n",
       "      <td>Oshodi/Isolo\\n</td>\n",
       "      <td>100\\n</td>\n",
       "    </tr>\n",
       "    <tr>\n",
       "      <td>7</td>\n",
       "      <td>Shomolu\\n</td>\n",
       "      <td>12\\n</td>\n",
       "      <td>402,673\\n</td>\n",
       "      <td>Shomolu\\n</td>\n",
       "      <td>101\\n</td>\n",
       "    </tr>\n",
       "    <tr>\n",
       "      <td>8</td>\n",
       "      <td>Ikeja Division\\n</td>\n",
       "      <td>424\\n</td>\n",
       "      <td>4,801,311\\n</td>\n",
       "      <td>\\n</td>\n",
       "      <td>\\n</td>\n",
       "    </tr>\n",
       "    <tr>\n",
       "      <td>9</td>\n",
       "      <td>Apapa\\n</td>\n",
       "      <td>27\\n</td>\n",
       "      <td>217,362\\n</td>\n",
       "      <td>Apapa\\n</td>\n",
       "      <td>101\\n</td>\n",
       "    </tr>\n",
       "    <tr>\n",
       "      <td>10</td>\n",
       "      <td>Eti-Osa\\n</td>\n",
       "      <td>192\\n</td>\n",
       "      <td>287,785\\n</td>\n",
       "      <td>Ikoyi\\n</td>\n",
       "      <td>101\\n</td>\n",
       "    </tr>\n",
       "    <tr>\n",
       "      <td>11</td>\n",
       "      <td>Lagos Island\\n</td>\n",
       "      <td>9\\n</td>\n",
       "      <td>209,437\\n</td>\n",
       "      <td>Lagos Island\\n</td>\n",
       "      <td>101\\n</td>\n",
       "    </tr>\n",
       "    <tr>\n",
       "      <td>12</td>\n",
       "      <td>Lagos Mainland\\n</td>\n",
       "      <td>19\\n</td>\n",
       "      <td>317,720\\n</td>\n",
       "      <td>Lagos Mainland\\n</td>\n",
       "      <td>101\\n</td>\n",
       "    </tr>\n",
       "    <tr>\n",
       "      <td>13</td>\n",
       "      <td>Surulere\\n</td>\n",
       "      <td>23\\n</td>\n",
       "      <td>503,975\\n</td>\n",
       "      <td>Surulere\\n</td>\n",
       "      <td>101\\n</td>\n",
       "    </tr>\n",
       "    <tr>\n",
       "      <td>14</td>\n",
       "      <td>Lagos Division\\n</td>\n",
       "      <td>270\\n</td>\n",
       "      <td>1,542,279\\n</td>\n",
       "      <td>\\n</td>\n",
       "      <td>\\n</td>\n",
       "    </tr>\n",
       "    <tr>\n",
       "      <td>15</td>\n",
       "      <td>Ajeromi-Ifelodun\\n</td>\n",
       "      <td>12\\n</td>\n",
       "      <td>684,105\\n</td>\n",
       "      <td>Ajeromi/Ifelodun\\n</td>\n",
       "      <td>102\\n</td>\n",
       "    </tr>\n",
       "    <tr>\n",
       "      <td>16</td>\n",
       "      <td>Amuwo-Odofin\\n</td>\n",
       "      <td>135\\n</td>\n",
       "      <td>318,166\\n</td>\n",
       "      <td>Festac Town\\n</td>\n",
       "      <td>102\\n</td>\n",
       "    </tr>\n",
       "    <tr>\n",
       "      <td>17</td>\n",
       "      <td>Ojo\\n</td>\n",
       "      <td>158\\n</td>\n",
       "      <td>598,071\\n</td>\n",
       "      <td>Ojo\\n</td>\n",
       "      <td>102\\n</td>\n",
       "    </tr>\n",
       "    <tr>\n",
       "      <td>18</td>\n",
       "      <td>Badagry\\n</td>\n",
       "      <td>441\\n</td>\n",
       "      <td>241,093\\n</td>\n",
       "      <td>Badagry\\n</td>\n",
       "      <td>103\\n</td>\n",
       "    </tr>\n",
       "    <tr>\n",
       "      <td>19</td>\n",
       "      <td>Badagry Division\\n</td>\n",
       "      <td>746\\n</td>\n",
       "      <td>1,841,435\\n</td>\n",
       "      <td>\\n</td>\n",
       "      <td>\\n</td>\n",
       "    </tr>\n",
       "    <tr>\n",
       "      <td>20</td>\n",
       "      <td>Ikorodu\\n</td>\n",
       "      <td>394\\n</td>\n",
       "      <td>535,619\\n</td>\n",
       "      <td>Ikorodu\\n</td>\n",
       "      <td>104\\n</td>\n",
       "    </tr>\n",
       "    <tr>\n",
       "      <td>21</td>\n",
       "      <td>Ikorodu Division\\n</td>\n",
       "      <td>394\\n</td>\n",
       "      <td>535,619\\n</td>\n",
       "      <td>\\n</td>\n",
       "      <td>\\n</td>\n",
       "    </tr>\n",
       "    <tr>\n",
       "      <td>22</td>\n",
       "      <td>Ibeju-Lekki\\n</td>\n",
       "      <td>455\\n</td>\n",
       "      <td>117,481\\n</td>\n",
       "      <td>Akodo\\n</td>\n",
       "      <td>105\\n</td>\n",
       "    </tr>\n",
       "    <tr>\n",
       "      <td>23</td>\n",
       "      <td>Epe\\n</td>\n",
       "      <td>1,185\\n</td>\n",
       "      <td>181,409\\n</td>\n",
       "      <td>Epe\\n</td>\n",
       "      <td>106\\n</td>\n",
       "    </tr>\n",
       "    <tr>\n",
       "      <td>24</td>\n",
       "      <td>Epe Division\\n</td>\n",
       "      <td>1,640\\n</td>\n",
       "      <td>298,890\\n</td>\n",
       "      <td>\\n</td>\n",
       "      <td>\\n</td>\n",
       "    </tr>\n",
       "    <tr>\n",
       "      <td>25</td>\n",
       "      <td>Total\\n</td>\n",
       "      <td>3,474\\n</td>\n",
       "      <td>9,019,534\\n</td>\n",
       "      <td>Ikeja\\n</td>\n",
       "      <td>\\n</td>\n",
       "    </tr>\n",
       "  </tbody>\n",
       "</table>\n",
       "</div>"
      ],
      "text/plain": [
       "              LGA name Area(KM SQUARE) CENSUS 2006 POPULATION  \\\n",
       "0              Agege\\n            11\\n              459,939\\n   \n",
       "1           Alimosho\\n           185\\n            1,277,714\\n   \n",
       "2        Ifako-Ijaye\\n            27\\n              427,878\\n   \n",
       "3              Ikeja\\n            46\\n              313,196\\n   \n",
       "4             Kosofe\\n            81\\n              665,393\\n   \n",
       "5             Mushin\\n            17\\n              633,009\\n   \n",
       "6       Oshodi-Isolo\\n            45\\n              621,509\\n   \n",
       "7            Shomolu\\n            12\\n              402,673\\n   \n",
       "8     Ikeja Division\\n           424\\n            4,801,311\\n   \n",
       "9              Apapa\\n            27\\n              217,362\\n   \n",
       "10           Eti-Osa\\n           192\\n              287,785\\n   \n",
       "11      Lagos Island\\n             9\\n              209,437\\n   \n",
       "12    Lagos Mainland\\n            19\\n              317,720\\n   \n",
       "13          Surulere\\n            23\\n              503,975\\n   \n",
       "14    Lagos Division\\n           270\\n            1,542,279\\n   \n",
       "15  Ajeromi-Ifelodun\\n            12\\n              684,105\\n   \n",
       "16      Amuwo-Odofin\\n           135\\n              318,166\\n   \n",
       "17               Ojo\\n           158\\n              598,071\\n   \n",
       "18           Badagry\\n           441\\n              241,093\\n   \n",
       "19  Badagry Division\\n           746\\n            1,841,435\\n   \n",
       "20           Ikorodu\\n           394\\n              535,619\\n   \n",
       "21  Ikorodu Division\\n           394\\n              535,619\\n   \n",
       "22       Ibeju-Lekki\\n           455\\n              117,481\\n   \n",
       "23               Epe\\n         1,185\\n              181,409\\n   \n",
       "24      Epe Division\\n         1,640\\n              298,890\\n   \n",
       "25             Total\\n         3,474\\n            9,019,534\\n   \n",
       "\n",
       "   ADMINISTRATIVE CAPITAL POSTAL CODE  \n",
       "0                 Agege\\n       100\\n  \n",
       "1                Ikotun\\n       100\\n  \n",
       "2                 Ifako\\n       100\\n  \n",
       "3                 Ikeja\\n       100\\n  \n",
       "4                Kosofe\\n       100\\n  \n",
       "5                Mushin\\n       100\\n  \n",
       "6          Oshodi/Isolo\\n       100\\n  \n",
       "7               Shomolu\\n       101\\n  \n",
       "8                      \\n          \\n  \n",
       "9                 Apapa\\n       101\\n  \n",
       "10                Ikoyi\\n       101\\n  \n",
       "11         Lagos Island\\n       101\\n  \n",
       "12       Lagos Mainland\\n       101\\n  \n",
       "13             Surulere\\n       101\\n  \n",
       "14                     \\n          \\n  \n",
       "15     Ajeromi/Ifelodun\\n       102\\n  \n",
       "16          Festac Town\\n       102\\n  \n",
       "17                  Ojo\\n       102\\n  \n",
       "18              Badagry\\n       103\\n  \n",
       "19                     \\n          \\n  \n",
       "20              Ikorodu\\n       104\\n  \n",
       "21                     \\n          \\n  \n",
       "22                Akodo\\n       105\\n  \n",
       "23                  Epe\\n       106\\n  \n",
       "24                     \\n          \\n  \n",
       "25                Ikeja\\n          \\n  "
      ]
     },
     "execution_count": 82,
     "metadata": {},
     "output_type": "execute_result"
    }
   ],
   "source": [
    "table_rows = table.tbody.find_all(\"tr\") #getting all the rows from the table\n",
    "\n",
    "# now, I will iterate through the whole table I have scrapped as shown below\n",
    "\n",
    "res = []\n",
    "for tr in table_rows:\n",
    "    td = tr.find_all(\"td\")\n",
    "    row = [l.text for l in td]\n",
    "    if row != []:\n",
    "        res.append(row)\n",
    "\n",
    "# Dataframe with 5 columns\n",
    "pd.set_option('display.max_rows',None)\n",
    "df = pd.DataFrame(res, columns = [\"LGA name\",\"Area(KM SQUARE)\",\"CENSUS 2006 POPULATION\",\"ADMINISTRATIVE CAPITAL\",\"POSTAL CODE\"])\n",
    "df"
   ]
  },
  {
   "cell_type": "markdown",
   "metadata": {},
   "source": [
    "### Data Preparation and Data Cleaning"
   ]
  },
  {
   "cell_type": "code",
   "execution_count": 83,
   "metadata": {},
   "outputs": [
    {
     "data": {
      "text/html": [
       "<div>\n",
       "<style scoped>\n",
       "    .dataframe tbody tr th:only-of-type {\n",
       "        vertical-align: middle;\n",
       "    }\n",
       "\n",
       "    .dataframe tbody tr th {\n",
       "        vertical-align: top;\n",
       "    }\n",
       "\n",
       "    .dataframe thead th {\n",
       "        text-align: right;\n",
       "    }\n",
       "</style>\n",
       "<table border=\"1\" class=\"dataframe\">\n",
       "  <thead>\n",
       "    <tr style=\"text-align: right;\">\n",
       "      <th></th>\n",
       "      <th>LGA name</th>\n",
       "      <th>Area(KM SQUARE)</th>\n",
       "      <th>CENSUS 2006 POPULATION</th>\n",
       "      <th>ADMINISTRATIVE CAPITAL</th>\n",
       "      <th>POSTAL CODE</th>\n",
       "    </tr>\n",
       "  </thead>\n",
       "  <tbody>\n",
       "    <tr>\n",
       "      <td>0</td>\n",
       "      <td>Agege</td>\n",
       "      <td>11</td>\n",
       "      <td>459,939</td>\n",
       "      <td>Agege</td>\n",
       "      <td>100</td>\n",
       "    </tr>\n",
       "    <tr>\n",
       "      <td>1</td>\n",
       "      <td>Alimosho</td>\n",
       "      <td>185</td>\n",
       "      <td>1,277,714</td>\n",
       "      <td>Ikotun</td>\n",
       "      <td>100</td>\n",
       "    </tr>\n",
       "    <tr>\n",
       "      <td>2</td>\n",
       "      <td>Ifako-Ijaye</td>\n",
       "      <td>27</td>\n",
       "      <td>427,878</td>\n",
       "      <td>Ifako</td>\n",
       "      <td>100</td>\n",
       "    </tr>\n",
       "    <tr>\n",
       "      <td>3</td>\n",
       "      <td>Ikeja</td>\n",
       "      <td>46</td>\n",
       "      <td>313,196</td>\n",
       "      <td>Ikeja</td>\n",
       "      <td>100</td>\n",
       "    </tr>\n",
       "    <tr>\n",
       "      <td>4</td>\n",
       "      <td>Kosofe</td>\n",
       "      <td>81</td>\n",
       "      <td>665,393</td>\n",
       "      <td>Kosofe</td>\n",
       "      <td>100</td>\n",
       "    </tr>\n",
       "  </tbody>\n",
       "</table>\n",
       "</div>"
      ],
      "text/plain": [
       "      LGA name Area(KM SQUARE) CENSUS 2006 POPULATION ADMINISTRATIVE CAPITAL  \\\n",
       "0        Agege              11                459,939                  Agege   \n",
       "1     Alimosho             185              1,277,714                 Ikotun   \n",
       "2  Ifako-Ijaye              27                427,878                  Ifako   \n",
       "3        Ikeja              46                313,196                  Ikeja   \n",
       "4       Kosofe              81                665,393                 Kosofe   \n",
       "\n",
       "  POSTAL CODE  \n",
       "0         100  \n",
       "1         100  \n",
       "2         100  \n",
       "3         100  \n",
       "4         100  "
      ]
     },
     "execution_count": 83,
     "metadata": {},
     "output_type": "execute_result"
    }
   ],
   "source": [
    "#removing the trailing white space from the above dataframe as shown below\n",
    "\n",
    "df['LGA name'] = df['LGA name'].str.replace(\"\\n\",\"\")\n",
    "df['Area(KM SQUARE)'] = df['Area(KM SQUARE)'].str.replace(\"\\n\",\"\")\n",
    "df['CENSUS 2006 POPULATION'] = df['CENSUS 2006 POPULATION'].str.replace(\"\\n\",\"\")\n",
    "df['ADMINISTRATIVE CAPITAL'] = df['ADMINISTRATIVE CAPITAL'].str.replace(\"\\n\",\"\")\n",
    "df['POSTAL CODE'] = df['POSTAL CODE'].str.replace(\"\\n\",\"\")\n",
    "df.head()"
   ]
  },
  {
   "cell_type": "code",
   "execution_count": null,
   "metadata": {},
   "outputs": [],
   "source": []
  },
  {
   "cell_type": "markdown",
   "metadata": {},
   "source": [
    "#### All the neighbourhoods with the same postal codes should be grouped together as shown below"
   ]
  },
  {
   "cell_type": "code",
   "execution_count": 84,
   "metadata": {},
   "outputs": [
    {
     "data": {
      "text/html": [
       "<div>\n",
       "<style scoped>\n",
       "    .dataframe tbody tr th:only-of-type {\n",
       "        vertical-align: middle;\n",
       "    }\n",
       "\n",
       "    .dataframe tbody tr th {\n",
       "        vertical-align: top;\n",
       "    }\n",
       "\n",
       "    .dataframe thead th {\n",
       "        text-align: right;\n",
       "    }\n",
       "</style>\n",
       "<table border=\"1\" class=\"dataframe\">\n",
       "  <thead>\n",
       "    <tr style=\"text-align: right;\">\n",
       "      <th></th>\n",
       "      <th>POSTAL CODE</th>\n",
       "      <th>LGA name</th>\n",
       "    </tr>\n",
       "  </thead>\n",
       "  <tbody>\n",
       "    <tr>\n",
       "      <td>0</td>\n",
       "      <td></td>\n",
       "      <td>Ikeja Division, Lagos Division, Badagry Divisi...</td>\n",
       "    </tr>\n",
       "    <tr>\n",
       "      <td>1</td>\n",
       "      <td>100</td>\n",
       "      <td>Agege, Alimosho, Ifako-Ijaye, Ikeja, Kosofe, M...</td>\n",
       "    </tr>\n",
       "    <tr>\n",
       "      <td>2</td>\n",
       "      <td>101</td>\n",
       "      <td>Shomolu, Apapa, Eti-Osa, Lagos Island, Lagos M...</td>\n",
       "    </tr>\n",
       "    <tr>\n",
       "      <td>3</td>\n",
       "      <td>102</td>\n",
       "      <td>Ajeromi-Ifelodun, Amuwo-Odofin, Ojo</td>\n",
       "    </tr>\n",
       "    <tr>\n",
       "      <td>4</td>\n",
       "      <td>103</td>\n",
       "      <td>Badagry</td>\n",
       "    </tr>\n",
       "    <tr>\n",
       "      <td>5</td>\n",
       "      <td>104</td>\n",
       "      <td>Ikorodu</td>\n",
       "    </tr>\n",
       "    <tr>\n",
       "      <td>6</td>\n",
       "      <td>105</td>\n",
       "      <td>Ibeju-Lekki</td>\n",
       "    </tr>\n",
       "    <tr>\n",
       "      <td>7</td>\n",
       "      <td>106</td>\n",
       "      <td>Epe</td>\n",
       "    </tr>\n",
       "  </tbody>\n",
       "</table>\n",
       "</div>"
      ],
      "text/plain": [
       "  POSTAL CODE                                           LGA name\n",
       "0              Ikeja Division, Lagos Division, Badagry Divisi...\n",
       "1         100  Agege, Alimosho, Ifako-Ijaye, Ikeja, Kosofe, M...\n",
       "2         101  Shomolu, Apapa, Eti-Osa, Lagos Island, Lagos M...\n",
       "3         102                Ajeromi-Ifelodun, Amuwo-Odofin, Ojo\n",
       "4         103                                            Badagry\n",
       "5         104                                            Ikorodu\n",
       "6         105                                        Ibeju-Lekki\n",
       "7         106                                                Epe"
      ]
     },
     "execution_count": 84,
     "metadata": {},
     "output_type": "execute_result"
    }
   ],
   "source": [
    "df_new = df.groupby([\"POSTAL CODE\"])[\"LGA name\"].apply(\", \".join).reset_index()\n",
    "df_new"
   ]
  },
  {
   "cell_type": "code",
   "execution_count": 85,
   "metadata": {},
   "outputs": [
    {
     "data": {
      "text/html": [
       "<div>\n",
       "<style scoped>\n",
       "    .dataframe tbody tr th:only-of-type {\n",
       "        vertical-align: middle;\n",
       "    }\n",
       "\n",
       "    .dataframe tbody tr th {\n",
       "        vertical-align: top;\n",
       "    }\n",
       "\n",
       "    .dataframe thead th {\n",
       "        text-align: right;\n",
       "    }\n",
       "</style>\n",
       "<table border=\"1\" class=\"dataframe\">\n",
       "  <thead>\n",
       "    <tr style=\"text-align: right;\">\n",
       "      <th></th>\n",
       "      <th>index</th>\n",
       "      <th>POSTAL CODE</th>\n",
       "      <th>LGA name</th>\n",
       "    </tr>\n",
       "  </thead>\n",
       "  <tbody>\n",
       "    <tr>\n",
       "      <td>0</td>\n",
       "      <td>1</td>\n",
       "      <td>100</td>\n",
       "      <td>Agege, Alimosho, Ifako-Ijaye, Ikeja, Kosofe, M...</td>\n",
       "    </tr>\n",
       "    <tr>\n",
       "      <td>1</td>\n",
       "      <td>2</td>\n",
       "      <td>101</td>\n",
       "      <td>Shomolu, Apapa, Eti-Osa, Lagos Island, Lagos M...</td>\n",
       "    </tr>\n",
       "    <tr>\n",
       "      <td>2</td>\n",
       "      <td>3</td>\n",
       "      <td>102</td>\n",
       "      <td>Ajeromi-Ifelodun, Amuwo-Odofin, Ojo</td>\n",
       "    </tr>\n",
       "    <tr>\n",
       "      <td>3</td>\n",
       "      <td>4</td>\n",
       "      <td>103</td>\n",
       "      <td>Badagry</td>\n",
       "    </tr>\n",
       "    <tr>\n",
       "      <td>4</td>\n",
       "      <td>5</td>\n",
       "      <td>104</td>\n",
       "      <td>Ikorodu</td>\n",
       "    </tr>\n",
       "    <tr>\n",
       "      <td>5</td>\n",
       "      <td>6</td>\n",
       "      <td>105</td>\n",
       "      <td>Ibeju-Lekki</td>\n",
       "    </tr>\n",
       "    <tr>\n",
       "      <td>6</td>\n",
       "      <td>7</td>\n",
       "      <td>106</td>\n",
       "      <td>Epe</td>\n",
       "    </tr>\n",
       "  </tbody>\n",
       "</table>\n",
       "</div>"
      ],
      "text/plain": [
       "   index POSTAL CODE                                           LGA name\n",
       "0      1         100  Agege, Alimosho, Ifako-Ijaye, Ikeja, Kosofe, M...\n",
       "1      2         101  Shomolu, Apapa, Eti-Osa, Lagos Island, Lagos M...\n",
       "2      3         102                Ajeromi-Ifelodun, Amuwo-Odofin, Ojo\n",
       "3      4         103                                            Badagry\n",
       "4      5         104                                            Ikorodu\n",
       "5      6         105                                        Ibeju-Lekki\n",
       "6      7         106                                                Epe"
      ]
     },
     "execution_count": 85,
     "metadata": {},
     "output_type": "execute_result"
    }
   ],
   "source": [
    "\n",
    "df_new = df_new.drop([df.index[0]]).reset_index()\n",
    "df_new"
   ]
  },
  {
   "cell_type": "code",
   "execution_count": 86,
   "metadata": {},
   "outputs": [
    {
     "data": {
      "text/html": [
       "<div>\n",
       "<style scoped>\n",
       "    .dataframe tbody tr th:only-of-type {\n",
       "        vertical-align: middle;\n",
       "    }\n",
       "\n",
       "    .dataframe tbody tr th {\n",
       "        vertical-align: top;\n",
       "    }\n",
       "\n",
       "    .dataframe thead th {\n",
       "        text-align: right;\n",
       "    }\n",
       "</style>\n",
       "<table border=\"1\" class=\"dataframe\">\n",
       "  <thead>\n",
       "    <tr style=\"text-align: right;\">\n",
       "      <th></th>\n",
       "      <th>POSTAL CODE</th>\n",
       "      <th>LGA name</th>\n",
       "    </tr>\n",
       "  </thead>\n",
       "  <tbody>\n",
       "    <tr>\n",
       "      <td>0</td>\n",
       "      <td>100</td>\n",
       "      <td>Agege, Alimosho, Ifako-Ijaye, Ikeja, Kosofe, M...</td>\n",
       "    </tr>\n",
       "    <tr>\n",
       "      <td>1</td>\n",
       "      <td>101</td>\n",
       "      <td>Shomolu, Apapa, Eti-Osa, Lagos Island, Lagos M...</td>\n",
       "    </tr>\n",
       "    <tr>\n",
       "      <td>2</td>\n",
       "      <td>102</td>\n",
       "      <td>Ajeromi-Ifelodun, Amuwo-Odofin, Ojo</td>\n",
       "    </tr>\n",
       "    <tr>\n",
       "      <td>3</td>\n",
       "      <td>103</td>\n",
       "      <td>Badagry</td>\n",
       "    </tr>\n",
       "    <tr>\n",
       "      <td>4</td>\n",
       "      <td>104</td>\n",
       "      <td>Ikorodu</td>\n",
       "    </tr>\n",
       "    <tr>\n",
       "      <td>5</td>\n",
       "      <td>105</td>\n",
       "      <td>Ibeju-Lekki</td>\n",
       "    </tr>\n",
       "    <tr>\n",
       "      <td>6</td>\n",
       "      <td>106</td>\n",
       "      <td>Epe</td>\n",
       "    </tr>\n",
       "  </tbody>\n",
       "</table>\n",
       "</div>"
      ],
      "text/plain": [
       "  POSTAL CODE                                           LGA name\n",
       "0         100  Agege, Alimosho, Ifako-Ijaye, Ikeja, Kosofe, M...\n",
       "1         101  Shomolu, Apapa, Eti-Osa, Lagos Island, Lagos M...\n",
       "2         102                Ajeromi-Ifelodun, Amuwo-Odofin, Ojo\n",
       "3         103                                            Badagry\n",
       "4         104                                            Ikorodu\n",
       "5         105                                        Ibeju-Lekki\n",
       "6         106                                                Epe"
      ]
     },
     "execution_count": 86,
     "metadata": {},
     "output_type": "execute_result"
    }
   ],
   "source": [
    "df_new.drop(\"index\", axis = 1,inplace=True)\n",
    "df_new"
   ]
  },
  {
   "cell_type": "markdown",
   "metadata": {},
   "source": [
    "#### 3. Get the latitude and the longitude coordinates of each neighborhood.\n",
    "\n",
    "##### Getting the geographical coordinates of the neighbourhoods using the csv file (Check attached link on project report) instead of using the geocoder package as shown below. I make use of pandas to read the provided csv file."
   ]
  },
  {
   "cell_type": "code",
   "execution_count": 87,
   "metadata": {},
   "outputs": [
    {
     "data": {
      "text/html": [
       "<div>\n",
       "<style scoped>\n",
       "    .dataframe tbody tr th:only-of-type {\n",
       "        vertical-align: middle;\n",
       "    }\n",
       "\n",
       "    .dataframe tbody tr th {\n",
       "        vertical-align: top;\n",
       "    }\n",
       "\n",
       "    .dataframe thead th {\n",
       "        text-align: right;\n",
       "    }\n",
       "</style>\n",
       "<table border=\"1\" class=\"dataframe\">\n",
       "  <thead>\n",
       "    <tr style=\"text-align: right;\">\n",
       "      <th></th>\n",
       "      <th>Local Govt</th>\n",
       "      <th>latitude</th>\n",
       "      <th>longitude</th>\n",
       "    </tr>\n",
       "  </thead>\n",
       "  <tbody>\n",
       "    <tr>\n",
       "      <td>0</td>\n",
       "      <td>Agege</td>\n",
       "      <td>6.6180</td>\n",
       "      <td>3.3209</td>\n",
       "    </tr>\n",
       "    <tr>\n",
       "      <td>1</td>\n",
       "      <td>Alimosho</td>\n",
       "      <td>6.5744</td>\n",
       "      <td>3.2570</td>\n",
       "    </tr>\n",
       "    <tr>\n",
       "      <td>2</td>\n",
       "      <td>Ifako-Ijaye</td>\n",
       "      <td>6.6850</td>\n",
       "      <td>3.2885</td>\n",
       "    </tr>\n",
       "    <tr>\n",
       "      <td>3</td>\n",
       "      <td>Ikeja</td>\n",
       "      <td>6.6018</td>\n",
       "      <td>3.3515</td>\n",
       "    </tr>\n",
       "    <tr>\n",
       "      <td>4</td>\n",
       "      <td>Kosofe</td>\n",
       "      <td>6.5691</td>\n",
       "      <td>3.3793</td>\n",
       "    </tr>\n",
       "    <tr>\n",
       "      <td>5</td>\n",
       "      <td>Mushin</td>\n",
       "      <td>6.5273</td>\n",
       "      <td>3.3414</td>\n",
       "    </tr>\n",
       "    <tr>\n",
       "      <td>6</td>\n",
       "      <td>Oshodi-Isolo</td>\n",
       "      <td>6.5355</td>\n",
       "      <td>3.3087</td>\n",
       "    </tr>\n",
       "    <tr>\n",
       "      <td>7</td>\n",
       "      <td>Shomolu</td>\n",
       "      <td>6.5392</td>\n",
       "      <td>3.3842</td>\n",
       "    </tr>\n",
       "    <tr>\n",
       "      <td>8</td>\n",
       "      <td>Apapa</td>\n",
       "      <td>6.4553</td>\n",
       "      <td>3.3641</td>\n",
       "    </tr>\n",
       "    <tr>\n",
       "      <td>9</td>\n",
       "      <td>Eti-Osa</td>\n",
       "      <td>6.4590</td>\n",
       "      <td>3.6015</td>\n",
       "    </tr>\n",
       "    <tr>\n",
       "      <td>10</td>\n",
       "      <td>Lagos Island</td>\n",
       "      <td>6.4549</td>\n",
       "      <td>3.4246</td>\n",
       "    </tr>\n",
       "    <tr>\n",
       "      <td>11</td>\n",
       "      <td>Lagos Mainland</td>\n",
       "      <td>6.5059</td>\n",
       "      <td>3.3781</td>\n",
       "    </tr>\n",
       "    <tr>\n",
       "      <td>12</td>\n",
       "      <td>Surulere</td>\n",
       "      <td>6.4983</td>\n",
       "      <td>3.3486</td>\n",
       "    </tr>\n",
       "    <tr>\n",
       "      <td>13</td>\n",
       "      <td>Ajeromi-Ifelodun</td>\n",
       "      <td>6.4555</td>\n",
       "      <td>3.3339</td>\n",
       "    </tr>\n",
       "    <tr>\n",
       "      <td>14</td>\n",
       "      <td>Amuwo-Odofin</td>\n",
       "      <td>6.4293</td>\n",
       "      <td>3.2684</td>\n",
       "    </tr>\n",
       "    <tr>\n",
       "      <td>15</td>\n",
       "      <td>Ojo</td>\n",
       "      <td>6.4579</td>\n",
       "      <td>3.1580</td>\n",
       "    </tr>\n",
       "    <tr>\n",
       "      <td>16</td>\n",
       "      <td>Badagry</td>\n",
       "      <td>6.4316</td>\n",
       "      <td>2.8876</td>\n",
       "    </tr>\n",
       "    <tr>\n",
       "      <td>17</td>\n",
       "      <td>Ikorodu</td>\n",
       "      <td>6.6194</td>\n",
       "      <td>3.5105</td>\n",
       "    </tr>\n",
       "    <tr>\n",
       "      <td>18</td>\n",
       "      <td>Ibeju-Lekki</td>\n",
       "      <td>6.5001</td>\n",
       "      <td>3.8045</td>\n",
       "    </tr>\n",
       "    <tr>\n",
       "      <td>19</td>\n",
       "      <td>Epe</td>\n",
       "      <td>6.6055</td>\n",
       "      <td>3.9470</td>\n",
       "    </tr>\n",
       "  </tbody>\n",
       "</table>\n",
       "</div>"
      ],
      "text/plain": [
       "          Local Govt  latitude  longitude\n",
       "0              Agege    6.6180     3.3209\n",
       "1           Alimosho    6.5744     3.2570\n",
       "2        Ifako-Ijaye    6.6850     3.2885\n",
       "3              Ikeja    6.6018     3.3515\n",
       "4             Kosofe    6.5691     3.3793\n",
       "5             Mushin    6.5273     3.3414\n",
       "6       Oshodi-Isolo    6.5355     3.3087\n",
       "7            Shomolu    6.5392     3.3842\n",
       "8              Apapa    6.4553     3.3641\n",
       "9            Eti-Osa    6.4590     3.6015\n",
       "10      Lagos Island    6.4549     3.4246\n",
       "11    Lagos Mainland    6.5059     3.3781\n",
       "12          Surulere    6.4983     3.3486\n",
       "13  Ajeromi-Ifelodun    6.4555     3.3339\n",
       "14      Amuwo-Odofin    6.4293     3.2684\n",
       "15               Ojo    6.4579     3.1580\n",
       "16           Badagry    6.4316     2.8876\n",
       "17           Ikorodu    6.6194     3.5105\n",
       "18       Ibeju-Lekki    6.5001     3.8045\n",
       "19               Epe    6.6055     3.9470"
      ]
     },
     "execution_count": 87,
     "metadata": {},
     "output_type": "execute_result"
    }
   ],
   "source": [
    "import pandas as pd\n",
    "geo_df = pd.read_excel(\"Lagos Coordinates.xlsx\")\n",
    "pd.set_option(\"display.max_rows\",None)\n",
    "geo_df"
   ]
  },
  {
   "cell_type": "markdown",
   "metadata": {},
   "source": [
    "#### Now, I will merge two of the dataframes i.e the df and geo_df as a one dataframe as shown below. I want to retain all the information in the df dataframe and only part of the information in the geo_df dataframe that matches a given condition using a left join"
   ]
  },
  {
   "cell_type": "code",
   "execution_count": 88,
   "metadata": {},
   "outputs": [
    {
     "data": {
      "text/html": [
       "<div>\n",
       "<style scoped>\n",
       "    .dataframe tbody tr th:only-of-type {\n",
       "        vertical-align: middle;\n",
       "    }\n",
       "\n",
       "    .dataframe tbody tr th {\n",
       "        vertical-align: top;\n",
       "    }\n",
       "\n",
       "    .dataframe thead th {\n",
       "        text-align: right;\n",
       "    }\n",
       "</style>\n",
       "<table border=\"1\" class=\"dataframe\">\n",
       "  <thead>\n",
       "    <tr style=\"text-align: right;\">\n",
       "      <th></th>\n",
       "      <th>LGA name</th>\n",
       "      <th>Area(KM SQUARE)</th>\n",
       "      <th>CENSUS 2006 POPULATION</th>\n",
       "      <th>ADMINISTRATIVE CAPITAL</th>\n",
       "      <th>POSTAL CODE</th>\n",
       "      <th>Local Govt</th>\n",
       "      <th>latitude</th>\n",
       "      <th>longitude</th>\n",
       "    </tr>\n",
       "  </thead>\n",
       "  <tbody>\n",
       "    <tr>\n",
       "      <td>0</td>\n",
       "      <td>Agege</td>\n",
       "      <td>11</td>\n",
       "      <td>459,939</td>\n",
       "      <td>Agege</td>\n",
       "      <td>100</td>\n",
       "      <td>Agege</td>\n",
       "      <td>6.6180</td>\n",
       "      <td>3.3209</td>\n",
       "    </tr>\n",
       "    <tr>\n",
       "      <td>1</td>\n",
       "      <td>Alimosho</td>\n",
       "      <td>185</td>\n",
       "      <td>1,277,714</td>\n",
       "      <td>Ikotun</td>\n",
       "      <td>100</td>\n",
       "      <td>Alimosho</td>\n",
       "      <td>6.5744</td>\n",
       "      <td>3.2570</td>\n",
       "    </tr>\n",
       "    <tr>\n",
       "      <td>2</td>\n",
       "      <td>Ifako-Ijaye</td>\n",
       "      <td>27</td>\n",
       "      <td>427,878</td>\n",
       "      <td>Ifako</td>\n",
       "      <td>100</td>\n",
       "      <td>Ifako-Ijaye</td>\n",
       "      <td>6.6850</td>\n",
       "      <td>3.2885</td>\n",
       "    </tr>\n",
       "    <tr>\n",
       "      <td>3</td>\n",
       "      <td>Ikeja</td>\n",
       "      <td>46</td>\n",
       "      <td>313,196</td>\n",
       "      <td>Ikeja</td>\n",
       "      <td>100</td>\n",
       "      <td>Ikeja</td>\n",
       "      <td>6.6018</td>\n",
       "      <td>3.3515</td>\n",
       "    </tr>\n",
       "    <tr>\n",
       "      <td>4</td>\n",
       "      <td>Kosofe</td>\n",
       "      <td>81</td>\n",
       "      <td>665,393</td>\n",
       "      <td>Kosofe</td>\n",
       "      <td>100</td>\n",
       "      <td>Kosofe</td>\n",
       "      <td>6.5691</td>\n",
       "      <td>3.3793</td>\n",
       "    </tr>\n",
       "  </tbody>\n",
       "</table>\n",
       "</div>"
      ],
      "text/plain": [
       "      LGA name Area(KM SQUARE) CENSUS 2006 POPULATION ADMINISTRATIVE CAPITAL  \\\n",
       "0        Agege              11                459,939                  Agege   \n",
       "1     Alimosho             185              1,277,714                 Ikotun   \n",
       "2  Ifako-Ijaye              27                427,878                  Ifako   \n",
       "3        Ikeja              46                313,196                  Ikeja   \n",
       "4       Kosofe              81                665,393                 Kosofe   \n",
       "\n",
       "  POSTAL CODE   Local Govt  latitude  longitude  \n",
       "0         100        Agege    6.6180     3.3209  \n",
       "1         100     Alimosho    6.5744     3.2570  \n",
       "2         100  Ifako-Ijaye    6.6850     3.2885  \n",
       "3         100        Ikeja    6.6018     3.3515  \n",
       "4         100       Kosofe    6.5691     3.3793  "
      ]
     },
     "execution_count": 88,
     "metadata": {},
     "output_type": "execute_result"
    }
   ],
   "source": [
    "lagos_complete_df = pd.merge(df,geo_df,how='left',left_on ='LGA name',right_on = 'Local Govt')\n",
    "lagos_complete_df.head()"
   ]
  },
  {
   "cell_type": "code",
   "execution_count": 89,
   "metadata": {},
   "outputs": [
    {
     "data": {
      "text/html": [
       "<div>\n",
       "<style scoped>\n",
       "    .dataframe tbody tr th:only-of-type {\n",
       "        vertical-align: middle;\n",
       "    }\n",
       "\n",
       "    .dataframe tbody tr th {\n",
       "        vertical-align: top;\n",
       "    }\n",
       "\n",
       "    .dataframe thead th {\n",
       "        text-align: right;\n",
       "    }\n",
       "</style>\n",
       "<table border=\"1\" class=\"dataframe\">\n",
       "  <thead>\n",
       "    <tr style=\"text-align: right;\">\n",
       "      <th></th>\n",
       "      <th>LGA name</th>\n",
       "      <th>Area(KM SQUARE)</th>\n",
       "      <th>CENSUS 2006 POPULATION</th>\n",
       "      <th>ADMINISTRATIVE CAPITAL</th>\n",
       "      <th>POSTAL CODE</th>\n",
       "      <th>latitude</th>\n",
       "      <th>longitude</th>\n",
       "    </tr>\n",
       "  </thead>\n",
       "  <tbody>\n",
       "    <tr>\n",
       "      <td>0</td>\n",
       "      <td>Agege</td>\n",
       "      <td>11</td>\n",
       "      <td>459,939</td>\n",
       "      <td>Agege</td>\n",
       "      <td>100</td>\n",
       "      <td>6.6180</td>\n",
       "      <td>3.3209</td>\n",
       "    </tr>\n",
       "    <tr>\n",
       "      <td>1</td>\n",
       "      <td>Alimosho</td>\n",
       "      <td>185</td>\n",
       "      <td>1,277,714</td>\n",
       "      <td>Ikotun</td>\n",
       "      <td>100</td>\n",
       "      <td>6.5744</td>\n",
       "      <td>3.2570</td>\n",
       "    </tr>\n",
       "    <tr>\n",
       "      <td>2</td>\n",
       "      <td>Ifako-Ijaye</td>\n",
       "      <td>27</td>\n",
       "      <td>427,878</td>\n",
       "      <td>Ifako</td>\n",
       "      <td>100</td>\n",
       "      <td>6.6850</td>\n",
       "      <td>3.2885</td>\n",
       "    </tr>\n",
       "    <tr>\n",
       "      <td>3</td>\n",
       "      <td>Ikeja</td>\n",
       "      <td>46</td>\n",
       "      <td>313,196</td>\n",
       "      <td>Ikeja</td>\n",
       "      <td>100</td>\n",
       "      <td>6.6018</td>\n",
       "      <td>3.3515</td>\n",
       "    </tr>\n",
       "    <tr>\n",
       "      <td>4</td>\n",
       "      <td>Kosofe</td>\n",
       "      <td>81</td>\n",
       "      <td>665,393</td>\n",
       "      <td>Kosofe</td>\n",
       "      <td>100</td>\n",
       "      <td>6.5691</td>\n",
       "      <td>3.3793</td>\n",
       "    </tr>\n",
       "    <tr>\n",
       "      <td>5</td>\n",
       "      <td>Mushin</td>\n",
       "      <td>17</td>\n",
       "      <td>633,009</td>\n",
       "      <td>Mushin</td>\n",
       "      <td>100</td>\n",
       "      <td>6.5273</td>\n",
       "      <td>3.3414</td>\n",
       "    </tr>\n",
       "    <tr>\n",
       "      <td>6</td>\n",
       "      <td>Oshodi-Isolo</td>\n",
       "      <td>45</td>\n",
       "      <td>621,509</td>\n",
       "      <td>Oshodi/Isolo</td>\n",
       "      <td>100</td>\n",
       "      <td>6.5355</td>\n",
       "      <td>3.3087</td>\n",
       "    </tr>\n",
       "    <tr>\n",
       "      <td>7</td>\n",
       "      <td>Shomolu</td>\n",
       "      <td>12</td>\n",
       "      <td>402,673</td>\n",
       "      <td>Shomolu</td>\n",
       "      <td>101</td>\n",
       "      <td>6.5392</td>\n",
       "      <td>3.3842</td>\n",
       "    </tr>\n",
       "    <tr>\n",
       "      <td>8</td>\n",
       "      <td>Ikeja Division</td>\n",
       "      <td>424</td>\n",
       "      <td>4,801,311</td>\n",
       "      <td></td>\n",
       "      <td></td>\n",
       "      <td>NaN</td>\n",
       "      <td>NaN</td>\n",
       "    </tr>\n",
       "    <tr>\n",
       "      <td>9</td>\n",
       "      <td>Apapa</td>\n",
       "      <td>27</td>\n",
       "      <td>217,362</td>\n",
       "      <td>Apapa</td>\n",
       "      <td>101</td>\n",
       "      <td>6.4553</td>\n",
       "      <td>3.3641</td>\n",
       "    </tr>\n",
       "    <tr>\n",
       "      <td>10</td>\n",
       "      <td>Eti-Osa</td>\n",
       "      <td>192</td>\n",
       "      <td>287,785</td>\n",
       "      <td>Ikoyi</td>\n",
       "      <td>101</td>\n",
       "      <td>6.4590</td>\n",
       "      <td>3.6015</td>\n",
       "    </tr>\n",
       "    <tr>\n",
       "      <td>11</td>\n",
       "      <td>Lagos Island</td>\n",
       "      <td>9</td>\n",
       "      <td>209,437</td>\n",
       "      <td>Lagos Island</td>\n",
       "      <td>101</td>\n",
       "      <td>6.4549</td>\n",
       "      <td>3.4246</td>\n",
       "    </tr>\n",
       "    <tr>\n",
       "      <td>12</td>\n",
       "      <td>Lagos Mainland</td>\n",
       "      <td>19</td>\n",
       "      <td>317,720</td>\n",
       "      <td>Lagos Mainland</td>\n",
       "      <td>101</td>\n",
       "      <td>6.5059</td>\n",
       "      <td>3.3781</td>\n",
       "    </tr>\n",
       "    <tr>\n",
       "      <td>13</td>\n",
       "      <td>Surulere</td>\n",
       "      <td>23</td>\n",
       "      <td>503,975</td>\n",
       "      <td>Surulere</td>\n",
       "      <td>101</td>\n",
       "      <td>6.4983</td>\n",
       "      <td>3.3486</td>\n",
       "    </tr>\n",
       "    <tr>\n",
       "      <td>14</td>\n",
       "      <td>Lagos Division</td>\n",
       "      <td>270</td>\n",
       "      <td>1,542,279</td>\n",
       "      <td></td>\n",
       "      <td></td>\n",
       "      <td>NaN</td>\n",
       "      <td>NaN</td>\n",
       "    </tr>\n",
       "    <tr>\n",
       "      <td>15</td>\n",
       "      <td>Ajeromi-Ifelodun</td>\n",
       "      <td>12</td>\n",
       "      <td>684,105</td>\n",
       "      <td>Ajeromi/Ifelodun</td>\n",
       "      <td>102</td>\n",
       "      <td>6.4555</td>\n",
       "      <td>3.3339</td>\n",
       "    </tr>\n",
       "    <tr>\n",
       "      <td>16</td>\n",
       "      <td>Amuwo-Odofin</td>\n",
       "      <td>135</td>\n",
       "      <td>318,166</td>\n",
       "      <td>Festac Town</td>\n",
       "      <td>102</td>\n",
       "      <td>6.4293</td>\n",
       "      <td>3.2684</td>\n",
       "    </tr>\n",
       "    <tr>\n",
       "      <td>17</td>\n",
       "      <td>Ojo</td>\n",
       "      <td>158</td>\n",
       "      <td>598,071</td>\n",
       "      <td>Ojo</td>\n",
       "      <td>102</td>\n",
       "      <td>6.4579</td>\n",
       "      <td>3.1580</td>\n",
       "    </tr>\n",
       "    <tr>\n",
       "      <td>18</td>\n",
       "      <td>Badagry</td>\n",
       "      <td>441</td>\n",
       "      <td>241,093</td>\n",
       "      <td>Badagry</td>\n",
       "      <td>103</td>\n",
       "      <td>6.4316</td>\n",
       "      <td>2.8876</td>\n",
       "    </tr>\n",
       "    <tr>\n",
       "      <td>19</td>\n",
       "      <td>Badagry Division</td>\n",
       "      <td>746</td>\n",
       "      <td>1,841,435</td>\n",
       "      <td></td>\n",
       "      <td></td>\n",
       "      <td>NaN</td>\n",
       "      <td>NaN</td>\n",
       "    </tr>\n",
       "    <tr>\n",
       "      <td>20</td>\n",
       "      <td>Ikorodu</td>\n",
       "      <td>394</td>\n",
       "      <td>535,619</td>\n",
       "      <td>Ikorodu</td>\n",
       "      <td>104</td>\n",
       "      <td>6.6194</td>\n",
       "      <td>3.5105</td>\n",
       "    </tr>\n",
       "    <tr>\n",
       "      <td>21</td>\n",
       "      <td>Ikorodu Division</td>\n",
       "      <td>394</td>\n",
       "      <td>535,619</td>\n",
       "      <td></td>\n",
       "      <td></td>\n",
       "      <td>NaN</td>\n",
       "      <td>NaN</td>\n",
       "    </tr>\n",
       "    <tr>\n",
       "      <td>22</td>\n",
       "      <td>Ibeju-Lekki</td>\n",
       "      <td>455</td>\n",
       "      <td>117,481</td>\n",
       "      <td>Akodo</td>\n",
       "      <td>105</td>\n",
       "      <td>6.5001</td>\n",
       "      <td>3.8045</td>\n",
       "    </tr>\n",
       "    <tr>\n",
       "      <td>23</td>\n",
       "      <td>Epe</td>\n",
       "      <td>1,185</td>\n",
       "      <td>181,409</td>\n",
       "      <td>Epe</td>\n",
       "      <td>106</td>\n",
       "      <td>6.6055</td>\n",
       "      <td>3.9470</td>\n",
       "    </tr>\n",
       "    <tr>\n",
       "      <td>24</td>\n",
       "      <td>Epe Division</td>\n",
       "      <td>1,640</td>\n",
       "      <td>298,890</td>\n",
       "      <td></td>\n",
       "      <td></td>\n",
       "      <td>NaN</td>\n",
       "      <td>NaN</td>\n",
       "    </tr>\n",
       "    <tr>\n",
       "      <td>25</td>\n",
       "      <td>Total</td>\n",
       "      <td>3,474</td>\n",
       "      <td>9,019,534</td>\n",
       "      <td>Ikeja</td>\n",
       "      <td></td>\n",
       "      <td>NaN</td>\n",
       "      <td>NaN</td>\n",
       "    </tr>\n",
       "  </tbody>\n",
       "</table>\n",
       "</div>"
      ],
      "text/plain": [
       "            LGA name Area(KM SQUARE) CENSUS 2006 POPULATION  \\\n",
       "0              Agege              11                459,939   \n",
       "1           Alimosho             185              1,277,714   \n",
       "2        Ifako-Ijaye              27                427,878   \n",
       "3              Ikeja              46                313,196   \n",
       "4             Kosofe              81                665,393   \n",
       "5             Mushin              17                633,009   \n",
       "6       Oshodi-Isolo              45                621,509   \n",
       "7            Shomolu              12                402,673   \n",
       "8     Ikeja Division             424              4,801,311   \n",
       "9              Apapa              27                217,362   \n",
       "10           Eti-Osa             192                287,785   \n",
       "11      Lagos Island               9                209,437   \n",
       "12    Lagos Mainland              19                317,720   \n",
       "13          Surulere              23                503,975   \n",
       "14    Lagos Division             270              1,542,279   \n",
       "15  Ajeromi-Ifelodun              12                684,105   \n",
       "16      Amuwo-Odofin             135                318,166   \n",
       "17               Ojo             158                598,071   \n",
       "18           Badagry             441                241,093   \n",
       "19  Badagry Division             746              1,841,435   \n",
       "20           Ikorodu             394                535,619   \n",
       "21  Ikorodu Division             394                535,619   \n",
       "22       Ibeju-Lekki             455                117,481   \n",
       "23               Epe           1,185                181,409   \n",
       "24      Epe Division           1,640                298,890   \n",
       "25             Total           3,474              9,019,534   \n",
       "\n",
       "   ADMINISTRATIVE CAPITAL POSTAL CODE  latitude  longitude  \n",
       "0                   Agege         100    6.6180     3.3209  \n",
       "1                  Ikotun         100    6.5744     3.2570  \n",
       "2                   Ifako         100    6.6850     3.2885  \n",
       "3                   Ikeja         100    6.6018     3.3515  \n",
       "4                  Kosofe         100    6.5691     3.3793  \n",
       "5                  Mushin         100    6.5273     3.3414  \n",
       "6            Oshodi/Isolo         100    6.5355     3.3087  \n",
       "7                 Shomolu         101    6.5392     3.3842  \n",
       "8                                           NaN        NaN  \n",
       "9                   Apapa         101    6.4553     3.3641  \n",
       "10                  Ikoyi         101    6.4590     3.6015  \n",
       "11           Lagos Island         101    6.4549     3.4246  \n",
       "12         Lagos Mainland         101    6.5059     3.3781  \n",
       "13               Surulere         101    6.4983     3.3486  \n",
       "14                                          NaN        NaN  \n",
       "15       Ajeromi/Ifelodun         102    6.4555     3.3339  \n",
       "16            Festac Town         102    6.4293     3.2684  \n",
       "17                    Ojo         102    6.4579     3.1580  \n",
       "18                Badagry         103    6.4316     2.8876  \n",
       "19                                          NaN        NaN  \n",
       "20                Ikorodu         104    6.6194     3.5105  \n",
       "21                                          NaN        NaN  \n",
       "22                  Akodo         105    6.5001     3.8045  \n",
       "23                    Epe         106    6.6055     3.9470  \n",
       "24                                          NaN        NaN  \n",
       "25                  Ikeja                   NaN        NaN  "
      ]
     },
     "execution_count": 89,
     "metadata": {},
     "output_type": "execute_result"
    }
   ],
   "source": [
    "# The column 'Postal Code need to be dropped completely from the above dataframe as shown below'\n",
    "\n",
    "lagos_complete_df.drop('Local Govt',axis=1,inplace=True)\n",
    "lagos_complete_df"
   ]
  },
  {
   "cell_type": "code",
   "execution_count": 90,
   "metadata": {},
   "outputs": [
    {
     "data": {
      "text/html": [
       "<div>\n",
       "<style scoped>\n",
       "    .dataframe tbody tr th:only-of-type {\n",
       "        vertical-align: middle;\n",
       "    }\n",
       "\n",
       "    .dataframe tbody tr th {\n",
       "        vertical-align: top;\n",
       "    }\n",
       "\n",
       "    .dataframe thead th {\n",
       "        text-align: right;\n",
       "    }\n",
       "</style>\n",
       "<table border=\"1\" class=\"dataframe\">\n",
       "  <thead>\n",
       "    <tr style=\"text-align: right;\">\n",
       "      <th></th>\n",
       "      <th>LGA name</th>\n",
       "      <th>Area(KM SQUARE)</th>\n",
       "      <th>CENSUS 2006 POPULATION</th>\n",
       "      <th>ADMINISTRATIVE CAPITAL</th>\n",
       "      <th>POSTAL CODE</th>\n",
       "      <th>latitude</th>\n",
       "      <th>longitude</th>\n",
       "    </tr>\n",
       "  </thead>\n",
       "  <tbody>\n",
       "    <tr>\n",
       "      <td>0</td>\n",
       "      <td>Agege</td>\n",
       "      <td>11</td>\n",
       "      <td>459,939</td>\n",
       "      <td>Agege</td>\n",
       "      <td>100</td>\n",
       "      <td>6.6180</td>\n",
       "      <td>3.3209</td>\n",
       "    </tr>\n",
       "    <tr>\n",
       "      <td>1</td>\n",
       "      <td>Alimosho</td>\n",
       "      <td>185</td>\n",
       "      <td>1,277,714</td>\n",
       "      <td>Ikotun</td>\n",
       "      <td>100</td>\n",
       "      <td>6.5744</td>\n",
       "      <td>3.2570</td>\n",
       "    </tr>\n",
       "    <tr>\n",
       "      <td>2</td>\n",
       "      <td>Ifako-Ijaye</td>\n",
       "      <td>27</td>\n",
       "      <td>427,878</td>\n",
       "      <td>Ifako</td>\n",
       "      <td>100</td>\n",
       "      <td>6.6850</td>\n",
       "      <td>3.2885</td>\n",
       "    </tr>\n",
       "    <tr>\n",
       "      <td>3</td>\n",
       "      <td>Ikeja</td>\n",
       "      <td>46</td>\n",
       "      <td>313,196</td>\n",
       "      <td>Ikeja</td>\n",
       "      <td>100</td>\n",
       "      <td>6.6018</td>\n",
       "      <td>3.3515</td>\n",
       "    </tr>\n",
       "    <tr>\n",
       "      <td>4</td>\n",
       "      <td>Kosofe</td>\n",
       "      <td>81</td>\n",
       "      <td>665,393</td>\n",
       "      <td>Kosofe</td>\n",
       "      <td>100</td>\n",
       "      <td>6.5691</td>\n",
       "      <td>3.3793</td>\n",
       "    </tr>\n",
       "    <tr>\n",
       "      <td>5</td>\n",
       "      <td>Mushin</td>\n",
       "      <td>17</td>\n",
       "      <td>633,009</td>\n",
       "      <td>Mushin</td>\n",
       "      <td>100</td>\n",
       "      <td>6.5273</td>\n",
       "      <td>3.3414</td>\n",
       "    </tr>\n",
       "    <tr>\n",
       "      <td>6</td>\n",
       "      <td>Oshodi-Isolo</td>\n",
       "      <td>45</td>\n",
       "      <td>621,509</td>\n",
       "      <td>Oshodi/Isolo</td>\n",
       "      <td>100</td>\n",
       "      <td>6.5355</td>\n",
       "      <td>3.3087</td>\n",
       "    </tr>\n",
       "    <tr>\n",
       "      <td>7</td>\n",
       "      <td>Shomolu</td>\n",
       "      <td>12</td>\n",
       "      <td>402,673</td>\n",
       "      <td>Shomolu</td>\n",
       "      <td>101</td>\n",
       "      <td>6.5392</td>\n",
       "      <td>3.3842</td>\n",
       "    </tr>\n",
       "    <tr>\n",
       "      <td>8</td>\n",
       "      <td>Apapa</td>\n",
       "      <td>27</td>\n",
       "      <td>217,362</td>\n",
       "      <td>Apapa</td>\n",
       "      <td>101</td>\n",
       "      <td>6.4553</td>\n",
       "      <td>3.3641</td>\n",
       "    </tr>\n",
       "    <tr>\n",
       "      <td>9</td>\n",
       "      <td>Eti-Osa</td>\n",
       "      <td>192</td>\n",
       "      <td>287,785</td>\n",
       "      <td>Ikoyi</td>\n",
       "      <td>101</td>\n",
       "      <td>6.4590</td>\n",
       "      <td>3.6015</td>\n",
       "    </tr>\n",
       "    <tr>\n",
       "      <td>10</td>\n",
       "      <td>Lagos Island</td>\n",
       "      <td>9</td>\n",
       "      <td>209,437</td>\n",
       "      <td>Lagos Island</td>\n",
       "      <td>101</td>\n",
       "      <td>6.4549</td>\n",
       "      <td>3.4246</td>\n",
       "    </tr>\n",
       "    <tr>\n",
       "      <td>11</td>\n",
       "      <td>Lagos Mainland</td>\n",
       "      <td>19</td>\n",
       "      <td>317,720</td>\n",
       "      <td>Lagos Mainland</td>\n",
       "      <td>101</td>\n",
       "      <td>6.5059</td>\n",
       "      <td>3.3781</td>\n",
       "    </tr>\n",
       "    <tr>\n",
       "      <td>12</td>\n",
       "      <td>Surulere</td>\n",
       "      <td>23</td>\n",
       "      <td>503,975</td>\n",
       "      <td>Surulere</td>\n",
       "      <td>101</td>\n",
       "      <td>6.4983</td>\n",
       "      <td>3.3486</td>\n",
       "    </tr>\n",
       "    <tr>\n",
       "      <td>13</td>\n",
       "      <td>Ajeromi-Ifelodun</td>\n",
       "      <td>12</td>\n",
       "      <td>684,105</td>\n",
       "      <td>Ajeromi/Ifelodun</td>\n",
       "      <td>102</td>\n",
       "      <td>6.4555</td>\n",
       "      <td>3.3339</td>\n",
       "    </tr>\n",
       "    <tr>\n",
       "      <td>14</td>\n",
       "      <td>Amuwo-Odofin</td>\n",
       "      <td>135</td>\n",
       "      <td>318,166</td>\n",
       "      <td>Festac Town</td>\n",
       "      <td>102</td>\n",
       "      <td>6.4293</td>\n",
       "      <td>3.2684</td>\n",
       "    </tr>\n",
       "    <tr>\n",
       "      <td>15</td>\n",
       "      <td>Ojo</td>\n",
       "      <td>158</td>\n",
       "      <td>598,071</td>\n",
       "      <td>Ojo</td>\n",
       "      <td>102</td>\n",
       "      <td>6.4579</td>\n",
       "      <td>3.1580</td>\n",
       "    </tr>\n",
       "    <tr>\n",
       "      <td>16</td>\n",
       "      <td>Badagry</td>\n",
       "      <td>441</td>\n",
       "      <td>241,093</td>\n",
       "      <td>Badagry</td>\n",
       "      <td>103</td>\n",
       "      <td>6.4316</td>\n",
       "      <td>2.8876</td>\n",
       "    </tr>\n",
       "    <tr>\n",
       "      <td>17</td>\n",
       "      <td>Ikorodu</td>\n",
       "      <td>394</td>\n",
       "      <td>535,619</td>\n",
       "      <td>Ikorodu</td>\n",
       "      <td>104</td>\n",
       "      <td>6.6194</td>\n",
       "      <td>3.5105</td>\n",
       "    </tr>\n",
       "    <tr>\n",
       "      <td>18</td>\n",
       "      <td>Ibeju-Lekki</td>\n",
       "      <td>455</td>\n",
       "      <td>117,481</td>\n",
       "      <td>Akodo</td>\n",
       "      <td>105</td>\n",
       "      <td>6.5001</td>\n",
       "      <td>3.8045</td>\n",
       "    </tr>\n",
       "    <tr>\n",
       "      <td>19</td>\n",
       "      <td>Epe</td>\n",
       "      <td>1,185</td>\n",
       "      <td>181,409</td>\n",
       "      <td>Epe</td>\n",
       "      <td>106</td>\n",
       "      <td>6.6055</td>\n",
       "      <td>3.9470</td>\n",
       "    </tr>\n",
       "  </tbody>\n",
       "</table>\n",
       "</div>"
      ],
      "text/plain": [
       "            LGA name Area(KM SQUARE) CENSUS 2006 POPULATION  \\\n",
       "0              Agege              11                459,939   \n",
       "1           Alimosho             185              1,277,714   \n",
       "2        Ifako-Ijaye              27                427,878   \n",
       "3              Ikeja              46                313,196   \n",
       "4             Kosofe              81                665,393   \n",
       "5             Mushin              17                633,009   \n",
       "6       Oshodi-Isolo              45                621,509   \n",
       "7            Shomolu              12                402,673   \n",
       "8              Apapa              27                217,362   \n",
       "9            Eti-Osa             192                287,785   \n",
       "10      Lagos Island               9                209,437   \n",
       "11    Lagos Mainland              19                317,720   \n",
       "12          Surulere              23                503,975   \n",
       "13  Ajeromi-Ifelodun              12                684,105   \n",
       "14      Amuwo-Odofin             135                318,166   \n",
       "15               Ojo             158                598,071   \n",
       "16           Badagry             441                241,093   \n",
       "17           Ikorodu             394                535,619   \n",
       "18       Ibeju-Lekki             455                117,481   \n",
       "19               Epe           1,185                181,409   \n",
       "\n",
       "   ADMINISTRATIVE CAPITAL POSTAL CODE  latitude  longitude  \n",
       "0                   Agege         100    6.6180     3.3209  \n",
       "1                  Ikotun         100    6.5744     3.2570  \n",
       "2                   Ifako         100    6.6850     3.2885  \n",
       "3                   Ikeja         100    6.6018     3.3515  \n",
       "4                  Kosofe         100    6.5691     3.3793  \n",
       "5                  Mushin         100    6.5273     3.3414  \n",
       "6            Oshodi/Isolo         100    6.5355     3.3087  \n",
       "7                 Shomolu         101    6.5392     3.3842  \n",
       "8                   Apapa         101    6.4553     3.3641  \n",
       "9                   Ikoyi         101    6.4590     3.6015  \n",
       "10           Lagos Island         101    6.4549     3.4246  \n",
       "11         Lagos Mainland         101    6.5059     3.3781  \n",
       "12               Surulere         101    6.4983     3.3486  \n",
       "13       Ajeromi/Ifelodun         102    6.4555     3.3339  \n",
       "14            Festac Town         102    6.4293     3.2684  \n",
       "15                    Ojo         102    6.4579     3.1580  \n",
       "16                Badagry         103    6.4316     2.8876  \n",
       "17                Ikorodu         104    6.6194     3.5105  \n",
       "18                  Akodo         105    6.5001     3.8045  \n",
       "19                    Epe         106    6.6055     3.9470  "
      ]
     },
     "execution_count": 90,
     "metadata": {},
     "output_type": "execute_result"
    }
   ],
   "source": [
    "lagos_complete_df = lagos_complete_df.drop([8,14,19,21,24,25], axis=0)\n",
    "lagos_complete_df.reset_index(inplace=True)\n",
    "lagos_complete_df.drop(\"index\",axis=1,inplace = True)\n",
    "lagos_complete_df"
   ]
  },
  {
   "cell_type": "code",
   "execution_count": null,
   "metadata": {},
   "outputs": [],
   "source": []
  },
  {
   "cell_type": "markdown",
   "metadata": {},
   "source": [
    "## Methodology\n",
    "\n",
    "#### Exploratory Data Analysis"
   ]
  },
  {
   "cell_type": "markdown",
   "metadata": {},
   "source": [
    "##### Lets visualize the different local government areas in Lagos state with respect to their populations"
   ]
  },
  {
   "cell_type": "code",
   "execution_count": 91,
   "metadata": {},
   "outputs": [
    {
     "data": {
      "text/html": [
       "        <script type=\"text/javascript\">\n",
       "        window.PlotlyConfig = {MathJaxConfig: 'local'};\n",
       "        if (window.MathJax) {MathJax.Hub.Config({SVG: {font: \"STIX-Web\"}});}\n",
       "        if (typeof require !== 'undefined') {\n",
       "        require.undef(\"plotly\");\n",
       "        requirejs.config({\n",
       "            paths: {\n",
       "                'plotly': ['https://cdn.plot.ly/plotly-latest.min']\n",
       "            }\n",
       "        });\n",
       "        require(['plotly'], function(Plotly) {\n",
       "            window._Plotly = Plotly;\n",
       "        });\n",
       "        }\n",
       "        </script>\n",
       "        "
      ]
     },
     "metadata": {},
     "output_type": "display_data"
    },
    {
     "data": {
      "text/html": [
       "        <script type=\"text/javascript\">\n",
       "        window.PlotlyConfig = {MathJaxConfig: 'local'};\n",
       "        if (window.MathJax) {MathJax.Hub.Config({SVG: {font: \"STIX-Web\"}});}\n",
       "        if (typeof require !== 'undefined') {\n",
       "        require.undef(\"plotly\");\n",
       "        requirejs.config({\n",
       "            paths: {\n",
       "                'plotly': ['https://cdn.plot.ly/plotly-latest.min']\n",
       "            }\n",
       "        });\n",
       "        require(['plotly'], function(Plotly) {\n",
       "            window._Plotly = Plotly;\n",
       "        });\n",
       "        }\n",
       "        </script>\n",
       "        "
      ]
     },
     "metadata": {},
     "output_type": "display_data"
    }
   ],
   "source": [
    "#lets import the necessary library as shown below\n",
    "\n",
    "import matplotlib.pyplot as plt\n",
    "from matplotlib import style\n",
    "style.use(\"ggplot\")\n",
    "%matplotlib inline\n",
    "\n",
    "import plotly\n",
    "import plotly.express as px\n",
    "import plotly.graph_objects as go\n",
    "plt.rcParams['figure.figsize']=17,8\n",
    "import cufflinks as cf\n",
    "import plotly.offline as pyo\n",
    "from plotly.offline import download_plotlyjs,init_notebook_mode,plot,iplot\n",
    "pyo.init_notebook_mode(connected=True)\n",
    "cf.go_offline()"
   ]
  },
  {
   "cell_type": "code",
   "execution_count": 92,
   "metadata": {},
   "outputs": [
    {
     "data": {
      "application/vnd.plotly.v1+json": {
       "config": {
        "linkText": "Export to plot.ly",
        "plotlyServerURL": "https://plot.ly",
        "showLink": true
       },
       "data": [
        {
         "marker": {
          "color": "rgba(55, 128, 191, 0.6)",
          "line": {
           "color": "rgba(55, 128, 191, 1.0)",
           "width": 1
          }
         },
         "name": "CENSUS 2006 POPULATION",
         "orientation": "v",
         "text": "",
         "type": "bar",
         "x": [
          "Agege",
          "Alimosho",
          "Ifako-Ijaye",
          "Ikeja",
          "Kosofe",
          "Mushin",
          "Oshodi-Isolo",
          "Shomolu",
          "Apapa",
          "Eti-Osa",
          "Lagos Island",
          "Lagos Mainland",
          "Surulere",
          "Ajeromi-Ifelodun",
          "Amuwo-Odofin",
          "Ojo",
          "Badagry",
          "Ikorodu",
          "Ibeju-Lekki",
          "Epe"
         ],
         "y": [
          "459,939",
          "1,277,714",
          "427,878",
          "313,196",
          "665,393",
          "633,009",
          "621,509",
          "402,673",
          "217,362",
          "287,785",
          "209,437",
          "317,720",
          "503,975",
          "684,105",
          "318,166",
          "598,071",
          "241,093",
          "535,619",
          "117,481",
          "181,409"
         ]
        }
       ],
       "layout": {
        "legend": {
         "bgcolor": "#F5F6F9",
         "font": {
          "color": "#4D5663"
         }
        },
        "paper_bgcolor": "#F5F6F9",
        "plot_bgcolor": "#F5F6F9",
        "template": {
         "data": {
          "bar": [
           {
            "error_x": {
             "color": "#2a3f5f"
            },
            "error_y": {
             "color": "#2a3f5f"
            },
            "marker": {
             "line": {
              "color": "#E5ECF6",
              "width": 0.5
             }
            },
            "type": "bar"
           }
          ],
          "barpolar": [
           {
            "marker": {
             "line": {
              "color": "#E5ECF6",
              "width": 0.5
             }
            },
            "type": "barpolar"
           }
          ],
          "carpet": [
           {
            "aaxis": {
             "endlinecolor": "#2a3f5f",
             "gridcolor": "white",
             "linecolor": "white",
             "minorgridcolor": "white",
             "startlinecolor": "#2a3f5f"
            },
            "baxis": {
             "endlinecolor": "#2a3f5f",
             "gridcolor": "white",
             "linecolor": "white",
             "minorgridcolor": "white",
             "startlinecolor": "#2a3f5f"
            },
            "type": "carpet"
           }
          ],
          "choropleth": [
           {
            "colorbar": {
             "outlinewidth": 0,
             "ticks": ""
            },
            "type": "choropleth"
           }
          ],
          "contour": [
           {
            "colorbar": {
             "outlinewidth": 0,
             "ticks": ""
            },
            "colorscale": [
             [
              0,
              "#0d0887"
             ],
             [
              0.1111111111111111,
              "#46039f"
             ],
             [
              0.2222222222222222,
              "#7201a8"
             ],
             [
              0.3333333333333333,
              "#9c179e"
             ],
             [
              0.4444444444444444,
              "#bd3786"
             ],
             [
              0.5555555555555556,
              "#d8576b"
             ],
             [
              0.6666666666666666,
              "#ed7953"
             ],
             [
              0.7777777777777778,
              "#fb9f3a"
             ],
             [
              0.8888888888888888,
              "#fdca26"
             ],
             [
              1,
              "#f0f921"
             ]
            ],
            "type": "contour"
           }
          ],
          "contourcarpet": [
           {
            "colorbar": {
             "outlinewidth": 0,
             "ticks": ""
            },
            "type": "contourcarpet"
           }
          ],
          "heatmap": [
           {
            "colorbar": {
             "outlinewidth": 0,
             "ticks": ""
            },
            "colorscale": [
             [
              0,
              "#0d0887"
             ],
             [
              0.1111111111111111,
              "#46039f"
             ],
             [
              0.2222222222222222,
              "#7201a8"
             ],
             [
              0.3333333333333333,
              "#9c179e"
             ],
             [
              0.4444444444444444,
              "#bd3786"
             ],
             [
              0.5555555555555556,
              "#d8576b"
             ],
             [
              0.6666666666666666,
              "#ed7953"
             ],
             [
              0.7777777777777778,
              "#fb9f3a"
             ],
             [
              0.8888888888888888,
              "#fdca26"
             ],
             [
              1,
              "#f0f921"
             ]
            ],
            "type": "heatmap"
           }
          ],
          "heatmapgl": [
           {
            "colorbar": {
             "outlinewidth": 0,
             "ticks": ""
            },
            "colorscale": [
             [
              0,
              "#0d0887"
             ],
             [
              0.1111111111111111,
              "#46039f"
             ],
             [
              0.2222222222222222,
              "#7201a8"
             ],
             [
              0.3333333333333333,
              "#9c179e"
             ],
             [
              0.4444444444444444,
              "#bd3786"
             ],
             [
              0.5555555555555556,
              "#d8576b"
             ],
             [
              0.6666666666666666,
              "#ed7953"
             ],
             [
              0.7777777777777778,
              "#fb9f3a"
             ],
             [
              0.8888888888888888,
              "#fdca26"
             ],
             [
              1,
              "#f0f921"
             ]
            ],
            "type": "heatmapgl"
           }
          ],
          "histogram": [
           {
            "marker": {
             "colorbar": {
              "outlinewidth": 0,
              "ticks": ""
             }
            },
            "type": "histogram"
           }
          ],
          "histogram2d": [
           {
            "colorbar": {
             "outlinewidth": 0,
             "ticks": ""
            },
            "colorscale": [
             [
              0,
              "#0d0887"
             ],
             [
              0.1111111111111111,
              "#46039f"
             ],
             [
              0.2222222222222222,
              "#7201a8"
             ],
             [
              0.3333333333333333,
              "#9c179e"
             ],
             [
              0.4444444444444444,
              "#bd3786"
             ],
             [
              0.5555555555555556,
              "#d8576b"
             ],
             [
              0.6666666666666666,
              "#ed7953"
             ],
             [
              0.7777777777777778,
              "#fb9f3a"
             ],
             [
              0.8888888888888888,
              "#fdca26"
             ],
             [
              1,
              "#f0f921"
             ]
            ],
            "type": "histogram2d"
           }
          ],
          "histogram2dcontour": [
           {
            "colorbar": {
             "outlinewidth": 0,
             "ticks": ""
            },
            "colorscale": [
             [
              0,
              "#0d0887"
             ],
             [
              0.1111111111111111,
              "#46039f"
             ],
             [
              0.2222222222222222,
              "#7201a8"
             ],
             [
              0.3333333333333333,
              "#9c179e"
             ],
             [
              0.4444444444444444,
              "#bd3786"
             ],
             [
              0.5555555555555556,
              "#d8576b"
             ],
             [
              0.6666666666666666,
              "#ed7953"
             ],
             [
              0.7777777777777778,
              "#fb9f3a"
             ],
             [
              0.8888888888888888,
              "#fdca26"
             ],
             [
              1,
              "#f0f921"
             ]
            ],
            "type": "histogram2dcontour"
           }
          ],
          "mesh3d": [
           {
            "colorbar": {
             "outlinewidth": 0,
             "ticks": ""
            },
            "type": "mesh3d"
           }
          ],
          "parcoords": [
           {
            "line": {
             "colorbar": {
              "outlinewidth": 0,
              "ticks": ""
             }
            },
            "type": "parcoords"
           }
          ],
          "pie": [
           {
            "automargin": true,
            "type": "pie"
           }
          ],
          "scatter": [
           {
            "marker": {
             "colorbar": {
              "outlinewidth": 0,
              "ticks": ""
             }
            },
            "type": "scatter"
           }
          ],
          "scatter3d": [
           {
            "line": {
             "colorbar": {
              "outlinewidth": 0,
              "ticks": ""
             }
            },
            "marker": {
             "colorbar": {
              "outlinewidth": 0,
              "ticks": ""
             }
            },
            "type": "scatter3d"
           }
          ],
          "scattercarpet": [
           {
            "marker": {
             "colorbar": {
              "outlinewidth": 0,
              "ticks": ""
             }
            },
            "type": "scattercarpet"
           }
          ],
          "scattergeo": [
           {
            "marker": {
             "colorbar": {
              "outlinewidth": 0,
              "ticks": ""
             }
            },
            "type": "scattergeo"
           }
          ],
          "scattergl": [
           {
            "marker": {
             "colorbar": {
              "outlinewidth": 0,
              "ticks": ""
             }
            },
            "type": "scattergl"
           }
          ],
          "scattermapbox": [
           {
            "marker": {
             "colorbar": {
              "outlinewidth": 0,
              "ticks": ""
             }
            },
            "type": "scattermapbox"
           }
          ],
          "scatterpolar": [
           {
            "marker": {
             "colorbar": {
              "outlinewidth": 0,
              "ticks": ""
             }
            },
            "type": "scatterpolar"
           }
          ],
          "scatterpolargl": [
           {
            "marker": {
             "colorbar": {
              "outlinewidth": 0,
              "ticks": ""
             }
            },
            "type": "scatterpolargl"
           }
          ],
          "scatterternary": [
           {
            "marker": {
             "colorbar": {
              "outlinewidth": 0,
              "ticks": ""
             }
            },
            "type": "scatterternary"
           }
          ],
          "surface": [
           {
            "colorbar": {
             "outlinewidth": 0,
             "ticks": ""
            },
            "colorscale": [
             [
              0,
              "#0d0887"
             ],
             [
              0.1111111111111111,
              "#46039f"
             ],
             [
              0.2222222222222222,
              "#7201a8"
             ],
             [
              0.3333333333333333,
              "#9c179e"
             ],
             [
              0.4444444444444444,
              "#bd3786"
             ],
             [
              0.5555555555555556,
              "#d8576b"
             ],
             [
              0.6666666666666666,
              "#ed7953"
             ],
             [
              0.7777777777777778,
              "#fb9f3a"
             ],
             [
              0.8888888888888888,
              "#fdca26"
             ],
             [
              1,
              "#f0f921"
             ]
            ],
            "type": "surface"
           }
          ],
          "table": [
           {
            "cells": {
             "fill": {
              "color": "#EBF0F8"
             },
             "line": {
              "color": "white"
             }
            },
            "header": {
             "fill": {
              "color": "#C8D4E3"
             },
             "line": {
              "color": "white"
             }
            },
            "type": "table"
           }
          ]
         },
         "layout": {
          "annotationdefaults": {
           "arrowcolor": "#2a3f5f",
           "arrowhead": 0,
           "arrowwidth": 1
          },
          "coloraxis": {
           "colorbar": {
            "outlinewidth": 0,
            "ticks": ""
           }
          },
          "colorscale": {
           "diverging": [
            [
             0,
             "#8e0152"
            ],
            [
             0.1,
             "#c51b7d"
            ],
            [
             0.2,
             "#de77ae"
            ],
            [
             0.3,
             "#f1b6da"
            ],
            [
             0.4,
             "#fde0ef"
            ],
            [
             0.5,
             "#f7f7f7"
            ],
            [
             0.6,
             "#e6f5d0"
            ],
            [
             0.7,
             "#b8e186"
            ],
            [
             0.8,
             "#7fbc41"
            ],
            [
             0.9,
             "#4d9221"
            ],
            [
             1,
             "#276419"
            ]
           ],
           "sequential": [
            [
             0,
             "#0d0887"
            ],
            [
             0.1111111111111111,
             "#46039f"
            ],
            [
             0.2222222222222222,
             "#7201a8"
            ],
            [
             0.3333333333333333,
             "#9c179e"
            ],
            [
             0.4444444444444444,
             "#bd3786"
            ],
            [
             0.5555555555555556,
             "#d8576b"
            ],
            [
             0.6666666666666666,
             "#ed7953"
            ],
            [
             0.7777777777777778,
             "#fb9f3a"
            ],
            [
             0.8888888888888888,
             "#fdca26"
            ],
            [
             1,
             "#f0f921"
            ]
           ],
           "sequentialminus": [
            [
             0,
             "#0d0887"
            ],
            [
             0.1111111111111111,
             "#46039f"
            ],
            [
             0.2222222222222222,
             "#7201a8"
            ],
            [
             0.3333333333333333,
             "#9c179e"
            ],
            [
             0.4444444444444444,
             "#bd3786"
            ],
            [
             0.5555555555555556,
             "#d8576b"
            ],
            [
             0.6666666666666666,
             "#ed7953"
            ],
            [
             0.7777777777777778,
             "#fb9f3a"
            ],
            [
             0.8888888888888888,
             "#fdca26"
            ],
            [
             1,
             "#f0f921"
            ]
           ]
          },
          "colorway": [
           "#636efa",
           "#EF553B",
           "#00cc96",
           "#ab63fa",
           "#FFA15A",
           "#19d3f3",
           "#FF6692",
           "#B6E880",
           "#FF97FF",
           "#FECB52"
          ],
          "font": {
           "color": "#2a3f5f"
          },
          "geo": {
           "bgcolor": "white",
           "lakecolor": "white",
           "landcolor": "#E5ECF6",
           "showlakes": true,
           "showland": true,
           "subunitcolor": "white"
          },
          "hoverlabel": {
           "align": "left"
          },
          "hovermode": "closest",
          "mapbox": {
           "style": "light"
          },
          "paper_bgcolor": "white",
          "plot_bgcolor": "#E5ECF6",
          "polar": {
           "angularaxis": {
            "gridcolor": "white",
            "linecolor": "white",
            "ticks": ""
           },
           "bgcolor": "#E5ECF6",
           "radialaxis": {
            "gridcolor": "white",
            "linecolor": "white",
            "ticks": ""
           }
          },
          "scene": {
           "xaxis": {
            "backgroundcolor": "#E5ECF6",
            "gridcolor": "white",
            "gridwidth": 2,
            "linecolor": "white",
            "showbackground": true,
            "ticks": "",
            "zerolinecolor": "white"
           },
           "yaxis": {
            "backgroundcolor": "#E5ECF6",
            "gridcolor": "white",
            "gridwidth": 2,
            "linecolor": "white",
            "showbackground": true,
            "ticks": "",
            "zerolinecolor": "white"
           },
           "zaxis": {
            "backgroundcolor": "#E5ECF6",
            "gridcolor": "white",
            "gridwidth": 2,
            "linecolor": "white",
            "showbackground": true,
            "ticks": "",
            "zerolinecolor": "white"
           }
          },
          "shapedefaults": {
           "line": {
            "color": "#2a3f5f"
           }
          },
          "ternary": {
           "aaxis": {
            "gridcolor": "white",
            "linecolor": "white",
            "ticks": ""
           },
           "baxis": {
            "gridcolor": "white",
            "linecolor": "white",
            "ticks": ""
           },
           "bgcolor": "#E5ECF6",
           "caxis": {
            "gridcolor": "white",
            "linecolor": "white",
            "ticks": ""
           }
          },
          "title": {
           "x": 0.05
          },
          "xaxis": {
           "automargin": true,
           "gridcolor": "white",
           "linecolor": "white",
           "ticks": "",
           "title": {
            "standoff": 15
           },
           "zerolinecolor": "white",
           "zerolinewidth": 2
          },
          "yaxis": {
           "automargin": true,
           "gridcolor": "white",
           "linecolor": "white",
           "ticks": "",
           "title": {
            "standoff": 15
           },
           "zerolinecolor": "white",
           "zerolinewidth": 2
          }
         }
        },
        "title": {
         "font": {
          "color": "#4D5663"
         },
         "text": "Lagos LGA Populations"
        },
        "xaxis": {
         "gridcolor": "#E1E5ED",
         "showgrid": true,
         "tickfont": {
          "color": "#4D5663"
         },
         "title": {
          "font": {
           "color": "#4D5663"
          },
          "text": "Lagos State Local Govt Areas"
         },
         "zerolinecolor": "#E1E5ED"
        },
        "yaxis": {
         "gridcolor": "#E1E5ED",
         "showgrid": true,
         "tickfont": {
          "color": "#4D5663"
         },
         "title": {
          "font": {
           "color": "#4D5663"
          },
          "text": "Population Density"
         },
         "zerolinecolor": "#E1E5ED"
        }
       }
      },
      "text/html": [
       "<div>\n",
       "        \n",
       "        \n",
       "            <div id=\"2d9ee278-cb5b-45fe-8bb4-0c811948fadf\" class=\"plotly-graph-div\" style=\"height:525px; width:100%;\"></div>\n",
       "            <script type=\"text/javascript\">\n",
       "                require([\"plotly\"], function(Plotly) {\n",
       "                    window.PLOTLYENV=window.PLOTLYENV || {};\n",
       "                    window.PLOTLYENV.BASE_URL='https://plot.ly';\n",
       "                    \n",
       "                if (document.getElementById(\"2d9ee278-cb5b-45fe-8bb4-0c811948fadf\")) {\n",
       "                    Plotly.newPlot(\n",
       "                        '2d9ee278-cb5b-45fe-8bb4-0c811948fadf',\n",
       "                        [{\"marker\": {\"color\": \"rgba(55, 128, 191, 0.6)\", \"line\": {\"color\": \"rgba(55, 128, 191, 1.0)\", \"width\": 1}}, \"name\": \"CENSUS 2006 POPULATION\", \"orientation\": \"v\", \"text\": \"\", \"type\": \"bar\", \"x\": [\"Agege\", \"Alimosho\", \"Ifako-Ijaye\", \"Ikeja\", \"Kosofe\", \"Mushin\", \"Oshodi-Isolo\", \"Shomolu\", \"Apapa\", \"Eti-Osa\", \"Lagos Island\", \"Lagos Mainland\", \"Surulere\", \"Ajeromi-Ifelodun\", \"Amuwo-Odofin\", \"Ojo\", \"Badagry\", \"Ikorodu\", \"Ibeju-Lekki\", \"Epe\"], \"y\": [\"459,939\", \"1,277,714\", \"427,878\", \"313,196\", \"665,393\", \"633,009\", \"621,509\", \"402,673\", \"217,362\", \"287,785\", \"209,437\", \"317,720\", \"503,975\", \"684,105\", \"318,166\", \"598,071\", \"241,093\", \"535,619\", \"117,481\", \"181,409\"]}],\n",
       "                        {\"legend\": {\"bgcolor\": \"#F5F6F9\", \"font\": {\"color\": \"#4D5663\"}}, \"paper_bgcolor\": \"#F5F6F9\", \"plot_bgcolor\": \"#F5F6F9\", \"template\": {\"data\": {\"bar\": [{\"error_x\": {\"color\": \"#2a3f5f\"}, \"error_y\": {\"color\": \"#2a3f5f\"}, \"marker\": {\"line\": {\"color\": \"#E5ECF6\", \"width\": 0.5}}, \"type\": \"bar\"}], \"barpolar\": [{\"marker\": {\"line\": {\"color\": \"#E5ECF6\", \"width\": 0.5}}, \"type\": \"barpolar\"}], \"carpet\": [{\"aaxis\": {\"endlinecolor\": \"#2a3f5f\", \"gridcolor\": \"white\", \"linecolor\": \"white\", \"minorgridcolor\": \"white\", \"startlinecolor\": \"#2a3f5f\"}, \"baxis\": {\"endlinecolor\": \"#2a3f5f\", \"gridcolor\": \"white\", \"linecolor\": \"white\", \"minorgridcolor\": \"white\", \"startlinecolor\": \"#2a3f5f\"}, \"type\": \"carpet\"}], \"choropleth\": [{\"colorbar\": {\"outlinewidth\": 0, \"ticks\": \"\"}, \"type\": \"choropleth\"}], \"contour\": [{\"colorbar\": {\"outlinewidth\": 0, \"ticks\": \"\"}, \"colorscale\": [[0.0, \"#0d0887\"], [0.1111111111111111, \"#46039f\"], [0.2222222222222222, \"#7201a8\"], [0.3333333333333333, \"#9c179e\"], [0.4444444444444444, \"#bd3786\"], [0.5555555555555556, \"#d8576b\"], [0.6666666666666666, \"#ed7953\"], [0.7777777777777778, \"#fb9f3a\"], [0.8888888888888888, \"#fdca26\"], [1.0, \"#f0f921\"]], \"type\": \"contour\"}], \"contourcarpet\": [{\"colorbar\": {\"outlinewidth\": 0, \"ticks\": \"\"}, \"type\": \"contourcarpet\"}], \"heatmap\": [{\"colorbar\": {\"outlinewidth\": 0, \"ticks\": \"\"}, \"colorscale\": [[0.0, \"#0d0887\"], [0.1111111111111111, \"#46039f\"], [0.2222222222222222, \"#7201a8\"], [0.3333333333333333, \"#9c179e\"], [0.4444444444444444, \"#bd3786\"], [0.5555555555555556, \"#d8576b\"], [0.6666666666666666, \"#ed7953\"], [0.7777777777777778, \"#fb9f3a\"], [0.8888888888888888, \"#fdca26\"], [1.0, \"#f0f921\"]], \"type\": \"heatmap\"}], \"heatmapgl\": [{\"colorbar\": {\"outlinewidth\": 0, \"ticks\": \"\"}, \"colorscale\": [[0.0, \"#0d0887\"], [0.1111111111111111, \"#46039f\"], [0.2222222222222222, \"#7201a8\"], [0.3333333333333333, \"#9c179e\"], [0.4444444444444444, \"#bd3786\"], [0.5555555555555556, \"#d8576b\"], [0.6666666666666666, \"#ed7953\"], [0.7777777777777778, \"#fb9f3a\"], [0.8888888888888888, \"#fdca26\"], [1.0, \"#f0f921\"]], \"type\": \"heatmapgl\"}], \"histogram\": [{\"marker\": {\"colorbar\": {\"outlinewidth\": 0, \"ticks\": \"\"}}, \"type\": \"histogram\"}], \"histogram2d\": [{\"colorbar\": {\"outlinewidth\": 0, \"ticks\": \"\"}, \"colorscale\": [[0.0, \"#0d0887\"], [0.1111111111111111, \"#46039f\"], [0.2222222222222222, \"#7201a8\"], [0.3333333333333333, \"#9c179e\"], [0.4444444444444444, \"#bd3786\"], [0.5555555555555556, \"#d8576b\"], [0.6666666666666666, \"#ed7953\"], [0.7777777777777778, \"#fb9f3a\"], [0.8888888888888888, \"#fdca26\"], [1.0, \"#f0f921\"]], \"type\": \"histogram2d\"}], \"histogram2dcontour\": [{\"colorbar\": {\"outlinewidth\": 0, \"ticks\": \"\"}, \"colorscale\": [[0.0, \"#0d0887\"], [0.1111111111111111, \"#46039f\"], [0.2222222222222222, \"#7201a8\"], [0.3333333333333333, \"#9c179e\"], [0.4444444444444444, \"#bd3786\"], [0.5555555555555556, \"#d8576b\"], [0.6666666666666666, \"#ed7953\"], [0.7777777777777778, \"#fb9f3a\"], [0.8888888888888888, \"#fdca26\"], [1.0, \"#f0f921\"]], \"type\": \"histogram2dcontour\"}], \"mesh3d\": [{\"colorbar\": {\"outlinewidth\": 0, \"ticks\": \"\"}, \"type\": \"mesh3d\"}], \"parcoords\": [{\"line\": {\"colorbar\": {\"outlinewidth\": 0, \"ticks\": \"\"}}, \"type\": \"parcoords\"}], \"pie\": [{\"automargin\": true, \"type\": \"pie\"}], \"scatter\": [{\"marker\": {\"colorbar\": {\"outlinewidth\": 0, \"ticks\": \"\"}}, \"type\": \"scatter\"}], \"scatter3d\": [{\"line\": {\"colorbar\": {\"outlinewidth\": 0, \"ticks\": \"\"}}, \"marker\": {\"colorbar\": {\"outlinewidth\": 0, \"ticks\": \"\"}}, \"type\": \"scatter3d\"}], \"scattercarpet\": [{\"marker\": {\"colorbar\": {\"outlinewidth\": 0, \"ticks\": \"\"}}, \"type\": \"scattercarpet\"}], \"scattergeo\": [{\"marker\": {\"colorbar\": {\"outlinewidth\": 0, \"ticks\": \"\"}}, \"type\": \"scattergeo\"}], \"scattergl\": [{\"marker\": {\"colorbar\": {\"outlinewidth\": 0, \"ticks\": \"\"}}, \"type\": \"scattergl\"}], \"scattermapbox\": [{\"marker\": {\"colorbar\": {\"outlinewidth\": 0, \"ticks\": \"\"}}, \"type\": \"scattermapbox\"}], \"scatterpolar\": [{\"marker\": {\"colorbar\": {\"outlinewidth\": 0, \"ticks\": \"\"}}, \"type\": \"scatterpolar\"}], \"scatterpolargl\": [{\"marker\": {\"colorbar\": {\"outlinewidth\": 0, \"ticks\": \"\"}}, \"type\": \"scatterpolargl\"}], \"scatterternary\": [{\"marker\": {\"colorbar\": {\"outlinewidth\": 0, \"ticks\": \"\"}}, \"type\": \"scatterternary\"}], \"surface\": [{\"colorbar\": {\"outlinewidth\": 0, \"ticks\": \"\"}, \"colorscale\": [[0.0, \"#0d0887\"], [0.1111111111111111, \"#46039f\"], [0.2222222222222222, \"#7201a8\"], [0.3333333333333333, \"#9c179e\"], [0.4444444444444444, \"#bd3786\"], [0.5555555555555556, \"#d8576b\"], [0.6666666666666666, \"#ed7953\"], [0.7777777777777778, \"#fb9f3a\"], [0.8888888888888888, \"#fdca26\"], [1.0, \"#f0f921\"]], \"type\": \"surface\"}], \"table\": [{\"cells\": {\"fill\": {\"color\": \"#EBF0F8\"}, \"line\": {\"color\": \"white\"}}, \"header\": {\"fill\": {\"color\": \"#C8D4E3\"}, \"line\": {\"color\": \"white\"}}, \"type\": \"table\"}]}, \"layout\": {\"annotationdefaults\": {\"arrowcolor\": \"#2a3f5f\", \"arrowhead\": 0, \"arrowwidth\": 1}, \"coloraxis\": {\"colorbar\": {\"outlinewidth\": 0, \"ticks\": \"\"}}, \"colorscale\": {\"diverging\": [[0, \"#8e0152\"], [0.1, \"#c51b7d\"], [0.2, \"#de77ae\"], [0.3, \"#f1b6da\"], [0.4, \"#fde0ef\"], [0.5, \"#f7f7f7\"], [0.6, \"#e6f5d0\"], [0.7, \"#b8e186\"], [0.8, \"#7fbc41\"], [0.9, \"#4d9221\"], [1, \"#276419\"]], \"sequential\": [[0.0, \"#0d0887\"], [0.1111111111111111, \"#46039f\"], [0.2222222222222222, \"#7201a8\"], [0.3333333333333333, \"#9c179e\"], [0.4444444444444444, \"#bd3786\"], [0.5555555555555556, \"#d8576b\"], [0.6666666666666666, \"#ed7953\"], [0.7777777777777778, \"#fb9f3a\"], [0.8888888888888888, \"#fdca26\"], [1.0, \"#f0f921\"]], \"sequentialminus\": [[0.0, \"#0d0887\"], [0.1111111111111111, \"#46039f\"], [0.2222222222222222, \"#7201a8\"], [0.3333333333333333, \"#9c179e\"], [0.4444444444444444, \"#bd3786\"], [0.5555555555555556, \"#d8576b\"], [0.6666666666666666, \"#ed7953\"], [0.7777777777777778, \"#fb9f3a\"], [0.8888888888888888, \"#fdca26\"], [1.0, \"#f0f921\"]]}, \"colorway\": [\"#636efa\", \"#EF553B\", \"#00cc96\", \"#ab63fa\", \"#FFA15A\", \"#19d3f3\", \"#FF6692\", \"#B6E880\", \"#FF97FF\", \"#FECB52\"], \"font\": {\"color\": \"#2a3f5f\"}, \"geo\": {\"bgcolor\": \"white\", \"lakecolor\": \"white\", \"landcolor\": \"#E5ECF6\", \"showlakes\": true, \"showland\": true, \"subunitcolor\": \"white\"}, \"hoverlabel\": {\"align\": \"left\"}, \"hovermode\": \"closest\", \"mapbox\": {\"style\": \"light\"}, \"paper_bgcolor\": \"white\", \"plot_bgcolor\": \"#E5ECF6\", \"polar\": {\"angularaxis\": {\"gridcolor\": \"white\", \"linecolor\": \"white\", \"ticks\": \"\"}, \"bgcolor\": \"#E5ECF6\", \"radialaxis\": {\"gridcolor\": \"white\", \"linecolor\": \"white\", \"ticks\": \"\"}}, \"scene\": {\"xaxis\": {\"backgroundcolor\": \"#E5ECF6\", \"gridcolor\": \"white\", \"gridwidth\": 2, \"linecolor\": \"white\", \"showbackground\": true, \"ticks\": \"\", \"zerolinecolor\": \"white\"}, \"yaxis\": {\"backgroundcolor\": \"#E5ECF6\", \"gridcolor\": \"white\", \"gridwidth\": 2, \"linecolor\": \"white\", \"showbackground\": true, \"ticks\": \"\", \"zerolinecolor\": \"white\"}, \"zaxis\": {\"backgroundcolor\": \"#E5ECF6\", \"gridcolor\": \"white\", \"gridwidth\": 2, \"linecolor\": \"white\", \"showbackground\": true, \"ticks\": \"\", \"zerolinecolor\": \"white\"}}, \"shapedefaults\": {\"line\": {\"color\": \"#2a3f5f\"}}, \"ternary\": {\"aaxis\": {\"gridcolor\": \"white\", \"linecolor\": \"white\", \"ticks\": \"\"}, \"baxis\": {\"gridcolor\": \"white\", \"linecolor\": \"white\", \"ticks\": \"\"}, \"bgcolor\": \"#E5ECF6\", \"caxis\": {\"gridcolor\": \"white\", \"linecolor\": \"white\", \"ticks\": \"\"}}, \"title\": {\"x\": 0.05}, \"xaxis\": {\"automargin\": true, \"gridcolor\": \"white\", \"linecolor\": \"white\", \"ticks\": \"\", \"title\": {\"standoff\": 15}, \"zerolinecolor\": \"white\", \"zerolinewidth\": 2}, \"yaxis\": {\"automargin\": true, \"gridcolor\": \"white\", \"linecolor\": \"white\", \"ticks\": \"\", \"title\": {\"standoff\": 15}, \"zerolinecolor\": \"white\", \"zerolinewidth\": 2}}}, \"title\": {\"font\": {\"color\": \"#4D5663\"}, \"text\": \"Lagos LGA Populations\"}, \"xaxis\": {\"gridcolor\": \"#E1E5ED\", \"showgrid\": true, \"tickfont\": {\"color\": \"#4D5663\"}, \"title\": {\"font\": {\"color\": \"#4D5663\"}, \"text\": \"Lagos State Local Govt Areas\"}, \"zerolinecolor\": \"#E1E5ED\"}, \"yaxis\": {\"gridcolor\": \"#E1E5ED\", \"showgrid\": true, \"tickfont\": {\"color\": \"#4D5663\"}, \"title\": {\"font\": {\"color\": \"#4D5663\"}, \"text\": \"Population Density\"}, \"zerolinecolor\": \"#E1E5ED\"}},\n",
       "                        {\"showLink\": true, \"linkText\": \"Export to plot.ly\", \"plotlyServerURL\": \"https://plot.ly\", \"responsive\": true}\n",
       "                    ).then(function(){\n",
       "                            \n",
       "var gd = document.getElementById('2d9ee278-cb5b-45fe-8bb4-0c811948fadf');\n",
       "var x = new MutationObserver(function (mutations, observer) {{\n",
       "        var display = window.getComputedStyle(gd).display;\n",
       "        if (!display || display === 'none') {{\n",
       "            console.log([gd, 'removed!']);\n",
       "            Plotly.purge(gd);\n",
       "            observer.disconnect();\n",
       "        }}\n",
       "}});\n",
       "\n",
       "// Listen for the removal of the full notebook cells\n",
       "var notebookContainer = gd.closest('#notebook-container');\n",
       "if (notebookContainer) {{\n",
       "    x.observe(notebookContainer, {childList: true});\n",
       "}}\n",
       "\n",
       "// Listen for the clearing of the current output cell\n",
       "var outputEl = gd.closest('.output');\n",
       "if (outputEl) {{\n",
       "    x.observe(outputEl, {childList: true});\n",
       "}}\n",
       "\n",
       "                        })\n",
       "                };\n",
       "                });\n",
       "            </script>\n",
       "        </div>"
      ]
     },
     "metadata": {},
     "output_type": "display_data"
    }
   ],
   "source": [
    "#lets visualize the local governments with respect to their population using bar chart as shown below\n",
    "lagos_complete_df.iplot(kind='bar',x='LGA name',y='CENSUS 2006 POPULATION', title=\"Lagos LGA Populations\",\n",
    "                        xTitle=\"Lagos State Local Govt Areas\",yTitle=\"Population Density\",colors = \"blue\")\n"
   ]
  },
  {
   "cell_type": "markdown",
   "metadata": {},
   "source": [
    "*just hover on each of the bar above and you can see that Alimosho has the highest population. This might be a good place for setting our business considering the high population density though we can't conclude yet until we have done futher analysis. just an overview*"
   ]
  },
  {
   "cell_type": "code",
   "execution_count": 93,
   "metadata": {},
   "outputs": [
    {
     "data": {
      "text/html": [
       "<div>\n",
       "<style scoped>\n",
       "    .dataframe tbody tr th:only-of-type {\n",
       "        vertical-align: middle;\n",
       "    }\n",
       "\n",
       "    .dataframe tbody tr th {\n",
       "        vertical-align: top;\n",
       "    }\n",
       "\n",
       "    .dataframe thead th {\n",
       "        text-align: right;\n",
       "    }\n",
       "</style>\n",
       "<table border=\"1\" class=\"dataframe\">\n",
       "  <thead>\n",
       "    <tr style=\"text-align: right;\">\n",
       "      <th></th>\n",
       "      <th>LGA name</th>\n",
       "      <th>Area(KM SQUARE)</th>\n",
       "      <th>CENSUS 2006 POPULATION</th>\n",
       "      <th>ADMINISTRATIVE CAPITAL</th>\n",
       "      <th>POSTAL CODE</th>\n",
       "      <th>latitude</th>\n",
       "      <th>longitude</th>\n",
       "    </tr>\n",
       "  </thead>\n",
       "  <tbody>\n",
       "    <tr>\n",
       "      <td>0</td>\n",
       "      <td>Agege</td>\n",
       "      <td>11</td>\n",
       "      <td>459939</td>\n",
       "      <td>Agege</td>\n",
       "      <td>100</td>\n",
       "      <td>6.6180</td>\n",
       "      <td>3.3209</td>\n",
       "    </tr>\n",
       "    <tr>\n",
       "      <td>1</td>\n",
       "      <td>Alimosho</td>\n",
       "      <td>185</td>\n",
       "      <td>1277714</td>\n",
       "      <td>Ikotun</td>\n",
       "      <td>100</td>\n",
       "      <td>6.5744</td>\n",
       "      <td>3.2570</td>\n",
       "    </tr>\n",
       "    <tr>\n",
       "      <td>2</td>\n",
       "      <td>Ifako-Ijaye</td>\n",
       "      <td>27</td>\n",
       "      <td>427878</td>\n",
       "      <td>Ifako</td>\n",
       "      <td>100</td>\n",
       "      <td>6.6850</td>\n",
       "      <td>3.2885</td>\n",
       "    </tr>\n",
       "    <tr>\n",
       "      <td>3</td>\n",
       "      <td>Ikeja</td>\n",
       "      <td>46</td>\n",
       "      <td>313196</td>\n",
       "      <td>Ikeja</td>\n",
       "      <td>100</td>\n",
       "      <td>6.6018</td>\n",
       "      <td>3.3515</td>\n",
       "    </tr>\n",
       "    <tr>\n",
       "      <td>4</td>\n",
       "      <td>Kosofe</td>\n",
       "      <td>81</td>\n",
       "      <td>665393</td>\n",
       "      <td>Kosofe</td>\n",
       "      <td>100</td>\n",
       "      <td>6.5691</td>\n",
       "      <td>3.3793</td>\n",
       "    </tr>\n",
       "  </tbody>\n",
       "</table>\n",
       "</div>"
      ],
      "text/plain": [
       "      LGA name  Area(KM SQUARE)  CENSUS 2006 POPULATION  \\\n",
       "0        Agege               11                  459939   \n",
       "1     Alimosho              185                 1277714   \n",
       "2  Ifako-Ijaye               27                  427878   \n",
       "3        Ikeja               46                  313196   \n",
       "4       Kosofe               81                  665393   \n",
       "\n",
       "  ADMINISTRATIVE CAPITAL POSTAL CODE  latitude  longitude  \n",
       "0                  Agege         100    6.6180     3.3209  \n",
       "1                 Ikotun         100    6.5744     3.2570  \n",
       "2                  Ifako         100    6.6850     3.2885  \n",
       "3                  Ikeja         100    6.6018     3.3515  \n",
       "4                 Kosofe         100    6.5691     3.3793  "
      ]
     },
     "execution_count": 93,
     "metadata": {},
     "output_type": "execute_result"
    }
   ],
   "source": [
    "\n",
    "lagos_complete_df['Area(KM SQUARE)'] = lagos_complete_df['Area(KM SQUARE)'].str.replace(',','')\n",
    "lagos_complete_df['CENSUS 2006 POPULATION'] = lagos_complete_df['CENSUS 2006 POPULATION'].str.replace(',','')\n",
    "lagos_complete_df['Area(KM SQUARE)'] = pd.to_numeric(lagos_complete_df['Area(KM SQUARE)'])\n",
    "lagos_complete_df['CENSUS 2006 POPULATION'] = pd.to_numeric(lagos_complete_df['CENSUS 2006 POPULATION'])\n",
    "lagos_complete_df.head()\n"
   ]
  },
  {
   "cell_type": "code",
   "execution_count": 94,
   "metadata": {},
   "outputs": [
    {
     "data": {
      "application/vnd.plotly.v1+json": {
       "config": {
        "linkText": "Export to plot.ly",
        "plotlyServerURL": "https://plot.ly",
        "showLink": true
       },
       "data": [
        {
         "line": {
          "color": "rgba(219, 64, 82, 1.0)",
          "dash": "solid",
          "shape": "linear",
          "width": 1.3
         },
         "mode": "lines",
         "name": "Area(KM SQUARE)",
         "text": "",
         "type": "scatter",
         "x": [
          "Agege",
          "Alimosho",
          "Ifako-Ijaye",
          "Ikeja",
          "Kosofe",
          "Mushin",
          "Oshodi-Isolo",
          "Shomolu",
          "Apapa",
          "Eti-Osa",
          "Lagos Island",
          "Lagos Mainland",
          "Surulere",
          "Ajeromi-Ifelodun",
          "Amuwo-Odofin",
          "Ojo",
          "Badagry",
          "Ikorodu",
          "Ibeju-Lekki",
          "Epe"
         ],
         "y": [
          11,
          196,
          223,
          269,
          350,
          367,
          412,
          424,
          451,
          643,
          652,
          671,
          694,
          706,
          841,
          999,
          1440,
          1834,
          2289,
          3474
         ]
        }
       ],
       "layout": {
        "legend": {
         "bgcolor": "#F5F6F9",
         "font": {
          "color": "#4D5663"
         }
        },
        "paper_bgcolor": "#F5F6F9",
        "plot_bgcolor": "#F5F6F9",
        "template": {
         "data": {
          "bar": [
           {
            "error_x": {
             "color": "#2a3f5f"
            },
            "error_y": {
             "color": "#2a3f5f"
            },
            "marker": {
             "line": {
              "color": "#E5ECF6",
              "width": 0.5
             }
            },
            "type": "bar"
           }
          ],
          "barpolar": [
           {
            "marker": {
             "line": {
              "color": "#E5ECF6",
              "width": 0.5
             }
            },
            "type": "barpolar"
           }
          ],
          "carpet": [
           {
            "aaxis": {
             "endlinecolor": "#2a3f5f",
             "gridcolor": "white",
             "linecolor": "white",
             "minorgridcolor": "white",
             "startlinecolor": "#2a3f5f"
            },
            "baxis": {
             "endlinecolor": "#2a3f5f",
             "gridcolor": "white",
             "linecolor": "white",
             "minorgridcolor": "white",
             "startlinecolor": "#2a3f5f"
            },
            "type": "carpet"
           }
          ],
          "choropleth": [
           {
            "colorbar": {
             "outlinewidth": 0,
             "ticks": ""
            },
            "type": "choropleth"
           }
          ],
          "contour": [
           {
            "colorbar": {
             "outlinewidth": 0,
             "ticks": ""
            },
            "colorscale": [
             [
              0,
              "#0d0887"
             ],
             [
              0.1111111111111111,
              "#46039f"
             ],
             [
              0.2222222222222222,
              "#7201a8"
             ],
             [
              0.3333333333333333,
              "#9c179e"
             ],
             [
              0.4444444444444444,
              "#bd3786"
             ],
             [
              0.5555555555555556,
              "#d8576b"
             ],
             [
              0.6666666666666666,
              "#ed7953"
             ],
             [
              0.7777777777777778,
              "#fb9f3a"
             ],
             [
              0.8888888888888888,
              "#fdca26"
             ],
             [
              1,
              "#f0f921"
             ]
            ],
            "type": "contour"
           }
          ],
          "contourcarpet": [
           {
            "colorbar": {
             "outlinewidth": 0,
             "ticks": ""
            },
            "type": "contourcarpet"
           }
          ],
          "heatmap": [
           {
            "colorbar": {
             "outlinewidth": 0,
             "ticks": ""
            },
            "colorscale": [
             [
              0,
              "#0d0887"
             ],
             [
              0.1111111111111111,
              "#46039f"
             ],
             [
              0.2222222222222222,
              "#7201a8"
             ],
             [
              0.3333333333333333,
              "#9c179e"
             ],
             [
              0.4444444444444444,
              "#bd3786"
             ],
             [
              0.5555555555555556,
              "#d8576b"
             ],
             [
              0.6666666666666666,
              "#ed7953"
             ],
             [
              0.7777777777777778,
              "#fb9f3a"
             ],
             [
              0.8888888888888888,
              "#fdca26"
             ],
             [
              1,
              "#f0f921"
             ]
            ],
            "type": "heatmap"
           }
          ],
          "heatmapgl": [
           {
            "colorbar": {
             "outlinewidth": 0,
             "ticks": ""
            },
            "colorscale": [
             [
              0,
              "#0d0887"
             ],
             [
              0.1111111111111111,
              "#46039f"
             ],
             [
              0.2222222222222222,
              "#7201a8"
             ],
             [
              0.3333333333333333,
              "#9c179e"
             ],
             [
              0.4444444444444444,
              "#bd3786"
             ],
             [
              0.5555555555555556,
              "#d8576b"
             ],
             [
              0.6666666666666666,
              "#ed7953"
             ],
             [
              0.7777777777777778,
              "#fb9f3a"
             ],
             [
              0.8888888888888888,
              "#fdca26"
             ],
             [
              1,
              "#f0f921"
             ]
            ],
            "type": "heatmapgl"
           }
          ],
          "histogram": [
           {
            "marker": {
             "colorbar": {
              "outlinewidth": 0,
              "ticks": ""
             }
            },
            "type": "histogram"
           }
          ],
          "histogram2d": [
           {
            "colorbar": {
             "outlinewidth": 0,
             "ticks": ""
            },
            "colorscale": [
             [
              0,
              "#0d0887"
             ],
             [
              0.1111111111111111,
              "#46039f"
             ],
             [
              0.2222222222222222,
              "#7201a8"
             ],
             [
              0.3333333333333333,
              "#9c179e"
             ],
             [
              0.4444444444444444,
              "#bd3786"
             ],
             [
              0.5555555555555556,
              "#d8576b"
             ],
             [
              0.6666666666666666,
              "#ed7953"
             ],
             [
              0.7777777777777778,
              "#fb9f3a"
             ],
             [
              0.8888888888888888,
              "#fdca26"
             ],
             [
              1,
              "#f0f921"
             ]
            ],
            "type": "histogram2d"
           }
          ],
          "histogram2dcontour": [
           {
            "colorbar": {
             "outlinewidth": 0,
             "ticks": ""
            },
            "colorscale": [
             [
              0,
              "#0d0887"
             ],
             [
              0.1111111111111111,
              "#46039f"
             ],
             [
              0.2222222222222222,
              "#7201a8"
             ],
             [
              0.3333333333333333,
              "#9c179e"
             ],
             [
              0.4444444444444444,
              "#bd3786"
             ],
             [
              0.5555555555555556,
              "#d8576b"
             ],
             [
              0.6666666666666666,
              "#ed7953"
             ],
             [
              0.7777777777777778,
              "#fb9f3a"
             ],
             [
              0.8888888888888888,
              "#fdca26"
             ],
             [
              1,
              "#f0f921"
             ]
            ],
            "type": "histogram2dcontour"
           }
          ],
          "mesh3d": [
           {
            "colorbar": {
             "outlinewidth": 0,
             "ticks": ""
            },
            "type": "mesh3d"
           }
          ],
          "parcoords": [
           {
            "line": {
             "colorbar": {
              "outlinewidth": 0,
              "ticks": ""
             }
            },
            "type": "parcoords"
           }
          ],
          "pie": [
           {
            "automargin": true,
            "type": "pie"
           }
          ],
          "scatter": [
           {
            "marker": {
             "colorbar": {
              "outlinewidth": 0,
              "ticks": ""
             }
            },
            "type": "scatter"
           }
          ],
          "scatter3d": [
           {
            "line": {
             "colorbar": {
              "outlinewidth": 0,
              "ticks": ""
             }
            },
            "marker": {
             "colorbar": {
              "outlinewidth": 0,
              "ticks": ""
             }
            },
            "type": "scatter3d"
           }
          ],
          "scattercarpet": [
           {
            "marker": {
             "colorbar": {
              "outlinewidth": 0,
              "ticks": ""
             }
            },
            "type": "scattercarpet"
           }
          ],
          "scattergeo": [
           {
            "marker": {
             "colorbar": {
              "outlinewidth": 0,
              "ticks": ""
             }
            },
            "type": "scattergeo"
           }
          ],
          "scattergl": [
           {
            "marker": {
             "colorbar": {
              "outlinewidth": 0,
              "ticks": ""
             }
            },
            "type": "scattergl"
           }
          ],
          "scattermapbox": [
           {
            "marker": {
             "colorbar": {
              "outlinewidth": 0,
              "ticks": ""
             }
            },
            "type": "scattermapbox"
           }
          ],
          "scatterpolar": [
           {
            "marker": {
             "colorbar": {
              "outlinewidth": 0,
              "ticks": ""
             }
            },
            "type": "scatterpolar"
           }
          ],
          "scatterpolargl": [
           {
            "marker": {
             "colorbar": {
              "outlinewidth": 0,
              "ticks": ""
             }
            },
            "type": "scatterpolargl"
           }
          ],
          "scatterternary": [
           {
            "marker": {
             "colorbar": {
              "outlinewidth": 0,
              "ticks": ""
             }
            },
            "type": "scatterternary"
           }
          ],
          "surface": [
           {
            "colorbar": {
             "outlinewidth": 0,
             "ticks": ""
            },
            "colorscale": [
             [
              0,
              "#0d0887"
             ],
             [
              0.1111111111111111,
              "#46039f"
             ],
             [
              0.2222222222222222,
              "#7201a8"
             ],
             [
              0.3333333333333333,
              "#9c179e"
             ],
             [
              0.4444444444444444,
              "#bd3786"
             ],
             [
              0.5555555555555556,
              "#d8576b"
             ],
             [
              0.6666666666666666,
              "#ed7953"
             ],
             [
              0.7777777777777778,
              "#fb9f3a"
             ],
             [
              0.8888888888888888,
              "#fdca26"
             ],
             [
              1,
              "#f0f921"
             ]
            ],
            "type": "surface"
           }
          ],
          "table": [
           {
            "cells": {
             "fill": {
              "color": "#EBF0F8"
             },
             "line": {
              "color": "white"
             }
            },
            "header": {
             "fill": {
              "color": "#C8D4E3"
             },
             "line": {
              "color": "white"
             }
            },
            "type": "table"
           }
          ]
         },
         "layout": {
          "annotationdefaults": {
           "arrowcolor": "#2a3f5f",
           "arrowhead": 0,
           "arrowwidth": 1
          },
          "coloraxis": {
           "colorbar": {
            "outlinewidth": 0,
            "ticks": ""
           }
          },
          "colorscale": {
           "diverging": [
            [
             0,
             "#8e0152"
            ],
            [
             0.1,
             "#c51b7d"
            ],
            [
             0.2,
             "#de77ae"
            ],
            [
             0.3,
             "#f1b6da"
            ],
            [
             0.4,
             "#fde0ef"
            ],
            [
             0.5,
             "#f7f7f7"
            ],
            [
             0.6,
             "#e6f5d0"
            ],
            [
             0.7,
             "#b8e186"
            ],
            [
             0.8,
             "#7fbc41"
            ],
            [
             0.9,
             "#4d9221"
            ],
            [
             1,
             "#276419"
            ]
           ],
           "sequential": [
            [
             0,
             "#0d0887"
            ],
            [
             0.1111111111111111,
             "#46039f"
            ],
            [
             0.2222222222222222,
             "#7201a8"
            ],
            [
             0.3333333333333333,
             "#9c179e"
            ],
            [
             0.4444444444444444,
             "#bd3786"
            ],
            [
             0.5555555555555556,
             "#d8576b"
            ],
            [
             0.6666666666666666,
             "#ed7953"
            ],
            [
             0.7777777777777778,
             "#fb9f3a"
            ],
            [
             0.8888888888888888,
             "#fdca26"
            ],
            [
             1,
             "#f0f921"
            ]
           ],
           "sequentialminus": [
            [
             0,
             "#0d0887"
            ],
            [
             0.1111111111111111,
             "#46039f"
            ],
            [
             0.2222222222222222,
             "#7201a8"
            ],
            [
             0.3333333333333333,
             "#9c179e"
            ],
            [
             0.4444444444444444,
             "#bd3786"
            ],
            [
             0.5555555555555556,
             "#d8576b"
            ],
            [
             0.6666666666666666,
             "#ed7953"
            ],
            [
             0.7777777777777778,
             "#fb9f3a"
            ],
            [
             0.8888888888888888,
             "#fdca26"
            ],
            [
             1,
             "#f0f921"
            ]
           ]
          },
          "colorway": [
           "#636efa",
           "#EF553B",
           "#00cc96",
           "#ab63fa",
           "#FFA15A",
           "#19d3f3",
           "#FF6692",
           "#B6E880",
           "#FF97FF",
           "#FECB52"
          ],
          "font": {
           "color": "#2a3f5f"
          },
          "geo": {
           "bgcolor": "white",
           "lakecolor": "white",
           "landcolor": "#E5ECF6",
           "showlakes": true,
           "showland": true,
           "subunitcolor": "white"
          },
          "hoverlabel": {
           "align": "left"
          },
          "hovermode": "closest",
          "mapbox": {
           "style": "light"
          },
          "paper_bgcolor": "white",
          "plot_bgcolor": "#E5ECF6",
          "polar": {
           "angularaxis": {
            "gridcolor": "white",
            "linecolor": "white",
            "ticks": ""
           },
           "bgcolor": "#E5ECF6",
           "radialaxis": {
            "gridcolor": "white",
            "linecolor": "white",
            "ticks": ""
           }
          },
          "scene": {
           "xaxis": {
            "backgroundcolor": "#E5ECF6",
            "gridcolor": "white",
            "gridwidth": 2,
            "linecolor": "white",
            "showbackground": true,
            "ticks": "",
            "zerolinecolor": "white"
           },
           "yaxis": {
            "backgroundcolor": "#E5ECF6",
            "gridcolor": "white",
            "gridwidth": 2,
            "linecolor": "white",
            "showbackground": true,
            "ticks": "",
            "zerolinecolor": "white"
           },
           "zaxis": {
            "backgroundcolor": "#E5ECF6",
            "gridcolor": "white",
            "gridwidth": 2,
            "linecolor": "white",
            "showbackground": true,
            "ticks": "",
            "zerolinecolor": "white"
           }
          },
          "shapedefaults": {
           "line": {
            "color": "#2a3f5f"
           }
          },
          "ternary": {
           "aaxis": {
            "gridcolor": "white",
            "linecolor": "white",
            "ticks": ""
           },
           "baxis": {
            "gridcolor": "white",
            "linecolor": "white",
            "ticks": ""
           },
           "bgcolor": "#E5ECF6",
           "caxis": {
            "gridcolor": "white",
            "linecolor": "white",
            "ticks": ""
           }
          },
          "title": {
           "x": 0.05
          },
          "xaxis": {
           "automargin": true,
           "gridcolor": "white",
           "linecolor": "white",
           "ticks": "",
           "title": {
            "standoff": 15
           },
           "zerolinecolor": "white",
           "zerolinewidth": 2
          },
          "yaxis": {
           "automargin": true,
           "gridcolor": "white",
           "linecolor": "white",
           "ticks": "",
           "title": {
            "standoff": 15
           },
           "zerolinecolor": "white",
           "zerolinewidth": 2
          }
         }
        },
        "title": {
         "font": {
          "color": "#4D5663"
         },
         "text": "Lagos LGA LandMass"
        },
        "xaxis": {
         "gridcolor": "#E1E5ED",
         "showgrid": true,
         "tickfont": {
          "color": "#4D5663"
         },
         "title": {
          "font": {
           "color": "#4D5663"
          },
          "text": "Lagos State Local Govt Areas"
         },
         "zerolinecolor": "#E1E5ED"
        },
        "yaxis": {
         "gridcolor": "#E1E5ED",
         "showgrid": true,
         "tickfont": {
          "color": "#4D5663"
         },
         "title": {
          "font": {
           "color": "#4D5663"
          },
          "text": "Land Area in KM SQUARE"
         },
         "zerolinecolor": "#E1E5ED"
        }
       }
      },
      "text/html": [
       "<div>\n",
       "        \n",
       "        \n",
       "            <div id=\"06f47c07-c09f-4381-b860-8935a5322aba\" class=\"plotly-graph-div\" style=\"height:525px; width:100%;\"></div>\n",
       "            <script type=\"text/javascript\">\n",
       "                require([\"plotly\"], function(Plotly) {\n",
       "                    window.PLOTLYENV=window.PLOTLYENV || {};\n",
       "                    window.PLOTLYENV.BASE_URL='https://plot.ly';\n",
       "                    \n",
       "                if (document.getElementById(\"06f47c07-c09f-4381-b860-8935a5322aba\")) {\n",
       "                    Plotly.newPlot(\n",
       "                        '06f47c07-c09f-4381-b860-8935a5322aba',\n",
       "                        [{\"line\": {\"color\": \"rgba(219, 64, 82, 1.0)\", \"dash\": \"solid\", \"shape\": \"linear\", \"width\": 1.3}, \"mode\": \"lines\", \"name\": \"Area(KM SQUARE)\", \"text\": \"\", \"type\": \"scatter\", \"x\": [\"Agege\", \"Alimosho\", \"Ifako-Ijaye\", \"Ikeja\", \"Kosofe\", \"Mushin\", \"Oshodi-Isolo\", \"Shomolu\", \"Apapa\", \"Eti-Osa\", \"Lagos Island\", \"Lagos Mainland\", \"Surulere\", \"Ajeromi-Ifelodun\", \"Amuwo-Odofin\", \"Ojo\", \"Badagry\", \"Ikorodu\", \"Ibeju-Lekki\", \"Epe\"], \"y\": [11, 196, 223, 269, 350, 367, 412, 424, 451, 643, 652, 671, 694, 706, 841, 999, 1440, 1834, 2289, 3474]}],\n",
       "                        {\"legend\": {\"bgcolor\": \"#F5F6F9\", \"font\": {\"color\": \"#4D5663\"}}, \"paper_bgcolor\": \"#F5F6F9\", \"plot_bgcolor\": \"#F5F6F9\", \"template\": {\"data\": {\"bar\": [{\"error_x\": {\"color\": \"#2a3f5f\"}, \"error_y\": {\"color\": \"#2a3f5f\"}, \"marker\": {\"line\": {\"color\": \"#E5ECF6\", \"width\": 0.5}}, \"type\": \"bar\"}], \"barpolar\": [{\"marker\": {\"line\": {\"color\": \"#E5ECF6\", \"width\": 0.5}}, \"type\": \"barpolar\"}], \"carpet\": [{\"aaxis\": {\"endlinecolor\": \"#2a3f5f\", \"gridcolor\": \"white\", \"linecolor\": \"white\", \"minorgridcolor\": \"white\", \"startlinecolor\": \"#2a3f5f\"}, \"baxis\": {\"endlinecolor\": \"#2a3f5f\", \"gridcolor\": \"white\", \"linecolor\": \"white\", \"minorgridcolor\": \"white\", \"startlinecolor\": \"#2a3f5f\"}, \"type\": \"carpet\"}], \"choropleth\": [{\"colorbar\": {\"outlinewidth\": 0, \"ticks\": \"\"}, \"type\": \"choropleth\"}], \"contour\": [{\"colorbar\": {\"outlinewidth\": 0, \"ticks\": \"\"}, \"colorscale\": [[0.0, \"#0d0887\"], [0.1111111111111111, \"#46039f\"], [0.2222222222222222, \"#7201a8\"], [0.3333333333333333, \"#9c179e\"], [0.4444444444444444, \"#bd3786\"], [0.5555555555555556, \"#d8576b\"], [0.6666666666666666, \"#ed7953\"], [0.7777777777777778, \"#fb9f3a\"], [0.8888888888888888, \"#fdca26\"], [1.0, \"#f0f921\"]], \"type\": \"contour\"}], \"contourcarpet\": [{\"colorbar\": {\"outlinewidth\": 0, \"ticks\": \"\"}, \"type\": \"contourcarpet\"}], \"heatmap\": [{\"colorbar\": {\"outlinewidth\": 0, \"ticks\": \"\"}, \"colorscale\": [[0.0, \"#0d0887\"], [0.1111111111111111, \"#46039f\"], [0.2222222222222222, \"#7201a8\"], [0.3333333333333333, \"#9c179e\"], [0.4444444444444444, \"#bd3786\"], [0.5555555555555556, \"#d8576b\"], [0.6666666666666666, \"#ed7953\"], [0.7777777777777778, \"#fb9f3a\"], [0.8888888888888888, \"#fdca26\"], [1.0, \"#f0f921\"]], \"type\": \"heatmap\"}], \"heatmapgl\": [{\"colorbar\": {\"outlinewidth\": 0, \"ticks\": \"\"}, \"colorscale\": [[0.0, \"#0d0887\"], [0.1111111111111111, \"#46039f\"], [0.2222222222222222, \"#7201a8\"], [0.3333333333333333, \"#9c179e\"], [0.4444444444444444, \"#bd3786\"], [0.5555555555555556, \"#d8576b\"], [0.6666666666666666, \"#ed7953\"], [0.7777777777777778, \"#fb9f3a\"], [0.8888888888888888, \"#fdca26\"], [1.0, \"#f0f921\"]], \"type\": \"heatmapgl\"}], \"histogram\": [{\"marker\": {\"colorbar\": {\"outlinewidth\": 0, \"ticks\": \"\"}}, \"type\": \"histogram\"}], \"histogram2d\": [{\"colorbar\": {\"outlinewidth\": 0, \"ticks\": \"\"}, \"colorscale\": [[0.0, \"#0d0887\"], [0.1111111111111111, \"#46039f\"], [0.2222222222222222, \"#7201a8\"], [0.3333333333333333, \"#9c179e\"], [0.4444444444444444, \"#bd3786\"], [0.5555555555555556, \"#d8576b\"], [0.6666666666666666, \"#ed7953\"], [0.7777777777777778, \"#fb9f3a\"], [0.8888888888888888, \"#fdca26\"], [1.0, \"#f0f921\"]], \"type\": \"histogram2d\"}], \"histogram2dcontour\": [{\"colorbar\": {\"outlinewidth\": 0, \"ticks\": \"\"}, \"colorscale\": [[0.0, \"#0d0887\"], [0.1111111111111111, \"#46039f\"], [0.2222222222222222, \"#7201a8\"], [0.3333333333333333, \"#9c179e\"], [0.4444444444444444, \"#bd3786\"], [0.5555555555555556, \"#d8576b\"], [0.6666666666666666, \"#ed7953\"], [0.7777777777777778, \"#fb9f3a\"], [0.8888888888888888, \"#fdca26\"], [1.0, \"#f0f921\"]], \"type\": \"histogram2dcontour\"}], \"mesh3d\": [{\"colorbar\": {\"outlinewidth\": 0, \"ticks\": \"\"}, \"type\": \"mesh3d\"}], \"parcoords\": [{\"line\": {\"colorbar\": {\"outlinewidth\": 0, \"ticks\": \"\"}}, \"type\": \"parcoords\"}], \"pie\": [{\"automargin\": true, \"type\": \"pie\"}], \"scatter\": [{\"marker\": {\"colorbar\": {\"outlinewidth\": 0, \"ticks\": \"\"}}, \"type\": \"scatter\"}], \"scatter3d\": [{\"line\": {\"colorbar\": {\"outlinewidth\": 0, \"ticks\": \"\"}}, \"marker\": {\"colorbar\": {\"outlinewidth\": 0, \"ticks\": \"\"}}, \"type\": \"scatter3d\"}], \"scattercarpet\": [{\"marker\": {\"colorbar\": {\"outlinewidth\": 0, \"ticks\": \"\"}}, \"type\": \"scattercarpet\"}], \"scattergeo\": [{\"marker\": {\"colorbar\": {\"outlinewidth\": 0, \"ticks\": \"\"}}, \"type\": \"scattergeo\"}], \"scattergl\": [{\"marker\": {\"colorbar\": {\"outlinewidth\": 0, \"ticks\": \"\"}}, \"type\": \"scattergl\"}], \"scattermapbox\": [{\"marker\": {\"colorbar\": {\"outlinewidth\": 0, \"ticks\": \"\"}}, \"type\": \"scattermapbox\"}], \"scatterpolar\": [{\"marker\": {\"colorbar\": {\"outlinewidth\": 0, \"ticks\": \"\"}}, \"type\": \"scatterpolar\"}], \"scatterpolargl\": [{\"marker\": {\"colorbar\": {\"outlinewidth\": 0, \"ticks\": \"\"}}, \"type\": \"scatterpolargl\"}], \"scatterternary\": [{\"marker\": {\"colorbar\": {\"outlinewidth\": 0, \"ticks\": \"\"}}, \"type\": \"scatterternary\"}], \"surface\": [{\"colorbar\": {\"outlinewidth\": 0, \"ticks\": \"\"}, \"colorscale\": [[0.0, \"#0d0887\"], [0.1111111111111111, \"#46039f\"], [0.2222222222222222, \"#7201a8\"], [0.3333333333333333, \"#9c179e\"], [0.4444444444444444, \"#bd3786\"], [0.5555555555555556, \"#d8576b\"], [0.6666666666666666, \"#ed7953\"], [0.7777777777777778, \"#fb9f3a\"], [0.8888888888888888, \"#fdca26\"], [1.0, \"#f0f921\"]], \"type\": \"surface\"}], \"table\": [{\"cells\": {\"fill\": {\"color\": \"#EBF0F8\"}, \"line\": {\"color\": \"white\"}}, \"header\": {\"fill\": {\"color\": \"#C8D4E3\"}, \"line\": {\"color\": \"white\"}}, \"type\": \"table\"}]}, \"layout\": {\"annotationdefaults\": {\"arrowcolor\": \"#2a3f5f\", \"arrowhead\": 0, \"arrowwidth\": 1}, \"coloraxis\": {\"colorbar\": {\"outlinewidth\": 0, \"ticks\": \"\"}}, \"colorscale\": {\"diverging\": [[0, \"#8e0152\"], [0.1, \"#c51b7d\"], [0.2, \"#de77ae\"], [0.3, \"#f1b6da\"], [0.4, \"#fde0ef\"], [0.5, \"#f7f7f7\"], [0.6, \"#e6f5d0\"], [0.7, \"#b8e186\"], [0.8, \"#7fbc41\"], [0.9, \"#4d9221\"], [1, \"#276419\"]], \"sequential\": [[0.0, \"#0d0887\"], [0.1111111111111111, \"#46039f\"], [0.2222222222222222, \"#7201a8\"], [0.3333333333333333, \"#9c179e\"], [0.4444444444444444, \"#bd3786\"], [0.5555555555555556, \"#d8576b\"], [0.6666666666666666, \"#ed7953\"], [0.7777777777777778, \"#fb9f3a\"], [0.8888888888888888, \"#fdca26\"], [1.0, \"#f0f921\"]], \"sequentialminus\": [[0.0, \"#0d0887\"], [0.1111111111111111, \"#46039f\"], [0.2222222222222222, \"#7201a8\"], [0.3333333333333333, \"#9c179e\"], [0.4444444444444444, \"#bd3786\"], [0.5555555555555556, \"#d8576b\"], [0.6666666666666666, \"#ed7953\"], [0.7777777777777778, \"#fb9f3a\"], [0.8888888888888888, \"#fdca26\"], [1.0, \"#f0f921\"]]}, \"colorway\": [\"#636efa\", \"#EF553B\", \"#00cc96\", \"#ab63fa\", \"#FFA15A\", \"#19d3f3\", \"#FF6692\", \"#B6E880\", \"#FF97FF\", \"#FECB52\"], \"font\": {\"color\": \"#2a3f5f\"}, \"geo\": {\"bgcolor\": \"white\", \"lakecolor\": \"white\", \"landcolor\": \"#E5ECF6\", \"showlakes\": true, \"showland\": true, \"subunitcolor\": \"white\"}, \"hoverlabel\": {\"align\": \"left\"}, \"hovermode\": \"closest\", \"mapbox\": {\"style\": \"light\"}, \"paper_bgcolor\": \"white\", \"plot_bgcolor\": \"#E5ECF6\", \"polar\": {\"angularaxis\": {\"gridcolor\": \"white\", \"linecolor\": \"white\", \"ticks\": \"\"}, \"bgcolor\": \"#E5ECF6\", \"radialaxis\": {\"gridcolor\": \"white\", \"linecolor\": \"white\", \"ticks\": \"\"}}, \"scene\": {\"xaxis\": {\"backgroundcolor\": \"#E5ECF6\", \"gridcolor\": \"white\", \"gridwidth\": 2, \"linecolor\": \"white\", \"showbackground\": true, \"ticks\": \"\", \"zerolinecolor\": \"white\"}, \"yaxis\": {\"backgroundcolor\": \"#E5ECF6\", \"gridcolor\": \"white\", \"gridwidth\": 2, \"linecolor\": \"white\", \"showbackground\": true, \"ticks\": \"\", \"zerolinecolor\": \"white\"}, \"zaxis\": {\"backgroundcolor\": \"#E5ECF6\", \"gridcolor\": \"white\", \"gridwidth\": 2, \"linecolor\": \"white\", \"showbackground\": true, \"ticks\": \"\", \"zerolinecolor\": \"white\"}}, \"shapedefaults\": {\"line\": {\"color\": \"#2a3f5f\"}}, \"ternary\": {\"aaxis\": {\"gridcolor\": \"white\", \"linecolor\": \"white\", \"ticks\": \"\"}, \"baxis\": {\"gridcolor\": \"white\", \"linecolor\": \"white\", \"ticks\": \"\"}, \"bgcolor\": \"#E5ECF6\", \"caxis\": {\"gridcolor\": \"white\", \"linecolor\": \"white\", \"ticks\": \"\"}}, \"title\": {\"x\": 0.05}, \"xaxis\": {\"automargin\": true, \"gridcolor\": \"white\", \"linecolor\": \"white\", \"ticks\": \"\", \"title\": {\"standoff\": 15}, \"zerolinecolor\": \"white\", \"zerolinewidth\": 2}, \"yaxis\": {\"automargin\": true, \"gridcolor\": \"white\", \"linecolor\": \"white\", \"ticks\": \"\", \"title\": {\"standoff\": 15}, \"zerolinecolor\": \"white\", \"zerolinewidth\": 2}}}, \"title\": {\"font\": {\"color\": \"#4D5663\"}, \"text\": \"Lagos LGA LandMass\"}, \"xaxis\": {\"gridcolor\": \"#E1E5ED\", \"showgrid\": true, \"tickfont\": {\"color\": \"#4D5663\"}, \"title\": {\"font\": {\"color\": \"#4D5663\"}, \"text\": \"Lagos State Local Govt Areas\"}, \"zerolinecolor\": \"#E1E5ED\"}, \"yaxis\": {\"gridcolor\": \"#E1E5ED\", \"showgrid\": true, \"tickfont\": {\"color\": \"#4D5663\"}, \"title\": {\"font\": {\"color\": \"#4D5663\"}, \"text\": \"Land Area in KM SQUARE\"}, \"zerolinecolor\": \"#E1E5ED\"}},\n",
       "                        {\"showLink\": true, \"linkText\": \"Export to plot.ly\", \"plotlyServerURL\": \"https://plot.ly\", \"responsive\": true}\n",
       "                    ).then(function(){\n",
       "                            \n",
       "var gd = document.getElementById('06f47c07-c09f-4381-b860-8935a5322aba');\n",
       "var x = new MutationObserver(function (mutations, observer) {{\n",
       "        var display = window.getComputedStyle(gd).display;\n",
       "        if (!display || display === 'none') {{\n",
       "            console.log([gd, 'removed!']);\n",
       "            Plotly.purge(gd);\n",
       "            observer.disconnect();\n",
       "        }}\n",
       "}});\n",
       "\n",
       "// Listen for the removal of the full notebook cells\n",
       "var notebookContainer = gd.closest('#notebook-container');\n",
       "if (notebookContainer) {{\n",
       "    x.observe(notebookContainer, {childList: true});\n",
       "}}\n",
       "\n",
       "// Listen for the clearing of the current output cell\n",
       "var outputEl = gd.closest('.output');\n",
       "if (outputEl) {{\n",
       "    x.observe(outputEl, {childList: true});\n",
       "}}\n",
       "\n",
       "                        })\n",
       "                };\n",
       "                });\n",
       "            </script>\n",
       "        </div>"
      ]
     },
     "metadata": {},
     "output_type": "display_data"
    }
   ],
   "source": [
    "df_area = lagos_complete_df.loc[:,'LGA name':'Area(KM SQUARE)']\n",
    "df_area.iplot(kind='area',x='LGA name',y='Area(KM SQUARE)', title=\"Lagos LGA LandMass\",\n",
    "                        xTitle=\"Lagos State Local Govt Areas\",yTitle=\"Land Area in KM SQUARE\",colors = \"red\")\n"
   ]
  },
  {
   "cell_type": "markdown",
   "metadata": {},
   "source": [
    "\n",
    "* from the above area plot, we can see that Epe Local govt has the highest landmass followed by Ibeju-Lekki. This in a way suggests that land for erecting buildings in Epe might be cheaper compared to other areas where the landmass is not much if all things being equal. well, we can't conclude with utmost assurance now until we do futher analysis but this can be a hint of the overall scenarios."
   ]
  },
  {
   "cell_type": "markdown",
   "metadata": {},
   "source": [
    "### Exploring and Clustering the neighbourhoods in Lagos as shown below"
   ]
  },
  {
   "cell_type": "code",
   "execution_count": 95,
   "metadata": {},
   "outputs": [
    {
     "name": "stdout",
     "output_type": "stream",
     "text": [
      "The geograpical coordinate of Lagos City are 6.4550575, 3.3941795.\n"
     ]
    }
   ],
   "source": [
    "#using geolocator to get the coordinate of lagos state Nigeria\n",
    "address = 'Lagos, NG-LA'\n",
    "\n",
    "geolocator = Nominatim(user_agent=\"ny_explorer\")\n",
    "location = geolocator.geocode(address)\n",
    "latitude = location.latitude\n",
    "longitude = location.longitude\n",
    "print('The geograpical coordinate of Lagos City are {}, {}.'.format(latitude, longitude))"
   ]
  },
  {
   "cell_type": "markdown",
   "metadata": {},
   "source": [
    "#### Creating a map of Lagos state  with neighborhood areas  superimposed on top."
   ]
  },
  {
   "cell_type": "code",
   "execution_count": 97,
   "metadata": {},
   "outputs": [
    {
     "data": {
      "text/html": [
       "<div style=\"width:100%;\"><div style=\"position:relative;width:100%;height:0;padding-bottom:60%;\"><span style=\"color:#565656\">Make this Notebook Trusted to load map: File -> Trust Notebook</span><iframe src=\"about:blank\" style=\"position:absolute;width:100%;height:100%;left:0;top:0;border:none !important;\" data-html=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 onload=\"this.contentDocument.open();this.contentDocument.write(atob(this.getAttribute('data-html')));this.contentDocument.close();\" allowfullscreen webkitallowfullscreen mozallowfullscreen></iframe></div></div>"
      ],
      "text/plain": [
       "<folium.folium.Map at 0x1b6e494b88>"
      ]
     },
     "execution_count": 97,
     "metadata": {},
     "output_type": "execute_result"
    }
   ],
   "source": [
    "# first, I will create map of Lagos using its latitude and longitude values before adding marker as shown below\n",
    "lagos_map = folium.Map(location=[latitude, longitude], zoom_start=10)\n",
    "lagos_map"
   ]
  },
  {
   "cell_type": "markdown",
   "metadata": {},
   "source": [
    "### adding markers to the Lagos State map above as shown below"
   ]
  },
  {
   "cell_type": "code",
   "execution_count": 98,
   "metadata": {},
   "outputs": [
    {
     "data": {
      "text/html": [
       "<div style=\"width:100%;\"><div style=\"position:relative;width:100%;height:0;padding-bottom:60%;\"><span style=\"color:#565656\">Make this Notebook Trusted to load map: File -> Trust Notebook</span><iframe src=\"about:blank\" style=\"position:absolute;width:100%;height:100%;left:0;top:0;border:none !important;\" data-html=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 onload=\"this.contentDocument.open();this.contentDocument.write(atob(this.getAttribute('data-html')));this.contentDocument.close();\" allowfullscreen webkitallowfullscreen mozallowfullscreen></iframe></div></div>"
      ],
      "text/plain": [
       "<folium.folium.Map at 0x1b6e494b88>"
      ]
     },
     "execution_count": 98,
     "metadata": {},
     "output_type": "execute_result"
    }
   ],
   "source": [
    "for lat, lng, lga, area,census,admin in zip(\n",
    "        lagos_complete_df['latitude'], \n",
    "        lagos_complete_df['longitude'], \n",
    "        lagos_complete_df['LGA name'],\n",
    "        lagos_complete_df['Area(KM SQUARE)'],\n",
    "        lagos_complete_df['CENSUS 2006 POPULATION'],\n",
    "        lagos_complete_df['ADMINISTRATIVE CAPITAL']):\n",
    "    label = '{}, {}'.format(lga, area,census,admin)\n",
    "    label = folium.Popup(label, parse_html=True)\n",
    "    folium.CircleMarker(\n",
    "        [lat, lng],\n",
    "        radius=5,\n",
    "        popup=label,\n",
    "        color='blue',\n",
    "        fill=True,\n",
    "        fill_color='#3186cc',\n",
    "        fill_opacity=0.7,\n",
    "        parse_html=False).add_to(lagos_map)  \n",
    "\n",
    "lagos_map"
   ]
  },
  {
   "cell_type": "markdown",
   "metadata": {},
   "source": [
    "### Exploring the first neighbourhood in the dataframe, lagos_complete_df as shown below\n"
   ]
  },
  {
   "cell_type": "code",
   "execution_count": 99,
   "metadata": {},
   "outputs": [
    {
     "name": "stdout",
     "output_type": "stream",
     "text": [
      "The first neighborhood name is 'Surulere'.\n"
     ]
    }
   ],
   "source": [
    "first_neighborhood_name = lagos_complete_df.loc[12, 'LGA name']\n",
    "print(f\"The first neighborhood name is '{first_neighborhood_name}'.\")"
   ]
  },
  {
   "cell_type": "code",
   "execution_count": 100,
   "metadata": {},
   "outputs": [
    {
     "name": "stdout",
     "output_type": "stream",
     "text": [
      "Latitude and longitude values of Surulere are 6.4983, 3.3486.\n"
     ]
    }
   ],
   "source": [
    "neighborhood_latitude = lagos_complete_df.loc[12, 'latitude'] # neighborhood latitude value\n",
    "neighborhood_longitude = lagos_complete_df.loc[12, 'longitude'] # neighborhood longitude value\n",
    "\n",
    "neighborhood_name = lagos_complete_df.loc[12, 'LGA name'] # neighborhood name\n",
    "\n",
    "print('Latitude and longitude values of {} are {}, {}.'.format(neighborhood_name, \n",
    "                                                               neighborhood_latitude, \n",
    "                                                               neighborhood_longitude))"
   ]
  },
  {
   "cell_type": "code",
   "execution_count": null,
   "metadata": {},
   "outputs": [],
   "source": []
  },
  {
   "cell_type": "markdown",
   "metadata": {},
   "source": [
    "#### Now, let's get the top 100 venues that are in The Surulere within a radius of 500 meters."
   ]
  },
  {
   "cell_type": "code",
   "execution_count": 208,
   "metadata": {},
   "outputs": [],
   "source": [
    "CLIENT_ID = '' # my Foursquare ID which I used but cleared it before posting for privacy purpose\n",
    "CLIENT_SECRET = '' # my Foursquare Secret\n",
    "VERSION = '20180605' # Foursquare API version\n",
    "radius = 500\n",
    "LIMIT = 100\n",
    "\n",
    "url = 'https://api.foursquare.com/v2/venues/explore?&client_id={}&client_secret={}&v={}&ll={},{}&radius={}&limit={}'.format(\n",
    "    CLIENT_ID, \n",
    "    CLIENT_SECRET, \n",
    "    VERSION, \n",
    "    neighborhood_latitude, \n",
    "    neighborhood_longitude, \n",
    "    radius, \n",
    "    LIMIT)"
   ]
  },
  {
   "cell_type": "code",
   "execution_count": 209,
   "metadata": {},
   "outputs": [],
   "source": [
    "results = requests.get(url).json()"
   ]
  },
  {
   "cell_type": "markdown",
   "metadata": {},
   "source": [
    "#### Writing a function that extracts the categories of the data\n"
   ]
  },
  {
   "cell_type": "code",
   "execution_count": 210,
   "metadata": {},
   "outputs": [],
   "source": [
    "def get_category_type(row):\n",
    "    try:\n",
    "        categories_list = row['categories']\n",
    "    except:\n",
    "        categories_list = row['venue.categories']\n",
    "        \n",
    "    if len(categories_list) == 0:\n",
    "        return None\n",
    "    else:\n",
    "        return categories_list[0]['name']"
   ]
  },
  {
   "cell_type": "code",
   "execution_count": 211,
   "metadata": {},
   "outputs": [
    {
     "data": {
      "text/html": [
       "<div>\n",
       "<style scoped>\n",
       "    .dataframe tbody tr th:only-of-type {\n",
       "        vertical-align: middle;\n",
       "    }\n",
       "\n",
       "    .dataframe tbody tr th {\n",
       "        vertical-align: top;\n",
       "    }\n",
       "\n",
       "    .dataframe thead th {\n",
       "        text-align: right;\n",
       "    }\n",
       "</style>\n",
       "<table border=\"1\" class=\"dataframe\">\n",
       "  <thead>\n",
       "    <tr style=\"text-align: right;\">\n",
       "      <th></th>\n",
       "      <th>name</th>\n",
       "      <th>categories</th>\n",
       "      <th>lat</th>\n",
       "      <th>lng</th>\n",
       "    </tr>\n",
       "  </thead>\n",
       "  <tbody>\n",
       "    <tr>\n",
       "      <td>0</td>\n",
       "      <td>Emem's Haven</td>\n",
       "      <td>African Restaurant</td>\n",
       "      <td>6.497461</td>\n",
       "      <td>3.349001</td>\n",
       "    </tr>\n",
       "    <tr>\n",
       "      <td>1</td>\n",
       "      <td>Nwandos Signature</td>\n",
       "      <td>Bridal Shop</td>\n",
       "      <td>6.497850</td>\n",
       "      <td>3.349907</td>\n",
       "    </tr>\n",
       "    <tr>\n",
       "      <td>2</td>\n",
       "      <td>Busy Bees</td>\n",
       "      <td>Bar</td>\n",
       "      <td>6.496751</td>\n",
       "      <td>3.346800</td>\n",
       "    </tr>\n",
       "    <tr>\n",
       "      <td>3</td>\n",
       "      <td>Bar 16</td>\n",
       "      <td>Bar</td>\n",
       "      <td>6.500071</td>\n",
       "      <td>3.346901</td>\n",
       "    </tr>\n",
       "    <tr>\n",
       "      <td>4</td>\n",
       "      <td>Mr Biggs Ijeshatedo</td>\n",
       "      <td>Fast Food Restaurant</td>\n",
       "      <td>6.499886</td>\n",
       "      <td>3.350667</td>\n",
       "    </tr>\n",
       "    <tr>\n",
       "      <td>5</td>\n",
       "      <td>Chicken Republic</td>\n",
       "      <td>Fast Food Restaurant</td>\n",
       "      <td>6.495759</td>\n",
       "      <td>3.349176</td>\n",
       "    </tr>\n",
       "    <tr>\n",
       "      <td>6</td>\n",
       "      <td>MeddySpa</td>\n",
       "      <td>Spa</td>\n",
       "      <td>6.495132</td>\n",
       "      <td>3.348180</td>\n",
       "    </tr>\n",
       "    <tr>\n",
       "      <td>7</td>\n",
       "      <td>Momentum</td>\n",
       "      <td>Lounge</td>\n",
       "      <td>6.501848</td>\n",
       "      <td>3.349575</td>\n",
       "    </tr>\n",
       "    <tr>\n",
       "      <td>8</td>\n",
       "      <td>Finicky</td>\n",
       "      <td>Cafeteria</td>\n",
       "      <td>6.501049</td>\n",
       "      <td>3.345378</td>\n",
       "    </tr>\n",
       "    <tr>\n",
       "      <td>9</td>\n",
       "      <td>Canice Hans Pharmacy</td>\n",
       "      <td>Pharmacy</td>\n",
       "      <td>6.502389</td>\n",
       "      <td>3.347469</td>\n",
       "    </tr>\n",
       "  </tbody>\n",
       "</table>\n",
       "</div>"
      ],
      "text/plain": [
       "                   name            categories       lat       lng\n",
       "0          Emem's Haven    African Restaurant  6.497461  3.349001\n",
       "1     Nwandos Signature           Bridal Shop  6.497850  3.349907\n",
       "2             Busy Bees                   Bar  6.496751  3.346800\n",
       "3                Bar 16                   Bar  6.500071  3.346901\n",
       "4   Mr Biggs Ijeshatedo  Fast Food Restaurant  6.499886  3.350667\n",
       "5      Chicken Republic  Fast Food Restaurant  6.495759  3.349176\n",
       "6              MeddySpa                   Spa  6.495132  3.348180\n",
       "7              Momentum                Lounge  6.501848  3.349575\n",
       "8               Finicky             Cafeteria  6.501049  3.345378\n",
       "9  Canice Hans Pharmacy              Pharmacy  6.502389  3.347469"
      ]
     },
     "execution_count": 211,
     "metadata": {},
     "output_type": "execute_result"
    }
   ],
   "source": [
    "venues = results['response']['groups'][0]['items']\n",
    "nearby_venues = json_normalize(venues) # flatten JSON\n",
    "# filter columns\n",
    "filtered_columns = ['venue.name', 'venue.categories', 'venue.location.lat', 'venue.location.lng']\n",
    "nearby_venues =nearby_venues.loc[:, filtered_columns]\n",
    "# filter the category for each row\n",
    "nearby_venues['venue.categories'] = nearby_venues.apply(get_category_type, axis=1)\n",
    "\n",
    "# clean columns\n",
    "nearby_venues.columns = [col.split(\".\")[-1] for col in nearby_venues.columns]\n",
    "\n",
    "nearby_venues"
   ]
  },
  {
   "cell_type": "markdown",
   "metadata": {},
   "source": [
    "##  Explore Neighborhoods in Surulere Lagos"
   ]
  },
  {
   "cell_type": "markdown",
   "metadata": {},
   "source": [
    "#### Let's create a function to repeat the same process to all the neighborhoods in Lagos"
   ]
  },
  {
   "cell_type": "code",
   "execution_count": 212,
   "metadata": {},
   "outputs": [],
   "source": [
    "def getNearbyVenues(names, latitudes, longitudes, radius=500):\n",
    "    venues_list=[]\n",
    "    \n",
    "    for name, lat, lng in zip(names, latitudes, longitudes):\n",
    "        # print(name)\n",
    "            \n",
    "        # create the API request URL\n",
    "        url = 'https://api.foursquare.com/v2/venues/explore?&client_id={}&client_secret={}&v={}&ll={},{}&radius={}&limit={}'.format(\n",
    "            CLIENT_ID, \n",
    "            CLIENT_SECRET, \n",
    "            VERSION, \n",
    "            lat, \n",
    "            lng, \n",
    "            radius, \n",
    "            LIMIT)\n",
    "            \n",
    "        # make the GET request\n",
    "        results = requests.get(url).json()[\"response\"]['groups'][0]['items']\n",
    "        \n",
    "        # return only relevant information for each nearby venue\n",
    "        venues_list.append([(\n",
    "            name, \n",
    "            lat, \n",
    "            lng, \n",
    "            v['venue']['name'], \n",
    "            v['venue']['location']['lat'], \n",
    "            v['venue']['location']['lng'],  \n",
    "            v['venue']['categories'][0]['name']) for v in results])\n",
    "\n",
    "    nearby_venues = pd.DataFrame([item for venue_list in venues_list for item in venue_list])\n",
    "    nearby_venues.columns = ['Neighborhood', \n",
    "                  'Neighborhood Latitude', \n",
    "                  'Neighborhood Longitude', \n",
    "                  'Venue', \n",
    "                  'Venue Latitude', \n",
    "                  'Venue Longitude', \n",
    "                  'Venue Category']\n",
    "    \n",
    "    return(nearby_venues)"
   ]
  },
  {
   "cell_type": "code",
   "execution_count": 213,
   "metadata": {},
   "outputs": [
    {
     "data": {
      "text/html": [
       "<div>\n",
       "<style scoped>\n",
       "    .dataframe tbody tr th:only-of-type {\n",
       "        vertical-align: middle;\n",
       "    }\n",
       "\n",
       "    .dataframe tbody tr th {\n",
       "        vertical-align: top;\n",
       "    }\n",
       "\n",
       "    .dataframe thead th {\n",
       "        text-align: right;\n",
       "    }\n",
       "</style>\n",
       "<table border=\"1\" class=\"dataframe\">\n",
       "  <thead>\n",
       "    <tr style=\"text-align: right;\">\n",
       "      <th></th>\n",
       "      <th>Neighborhood</th>\n",
       "      <th>Neighborhood Latitude</th>\n",
       "      <th>Neighborhood Longitude</th>\n",
       "      <th>Venue</th>\n",
       "      <th>Venue Latitude</th>\n",
       "      <th>Venue Longitude</th>\n",
       "      <th>Venue Category</th>\n",
       "    </tr>\n",
       "  </thead>\n",
       "  <tbody>\n",
       "    <tr>\n",
       "      <td>0</td>\n",
       "      <td>Agege</td>\n",
       "      <td>6.6180</td>\n",
       "      <td>3.3209</td>\n",
       "      <td>KFC</td>\n",
       "      <td>6.620788</td>\n",
       "      <td>3.317968</td>\n",
       "      <td>Fast Food Restaurant</td>\n",
       "    </tr>\n",
       "    <tr>\n",
       "      <td>1</td>\n",
       "      <td>Agege</td>\n",
       "      <td>6.6180</td>\n",
       "      <td>3.3209</td>\n",
       "      <td>Kelani St</td>\n",
       "      <td>6.618931</td>\n",
       "      <td>3.317609</td>\n",
       "      <td>Park</td>\n",
       "    </tr>\n",
       "    <tr>\n",
       "      <td>2</td>\n",
       "      <td>Alimosho</td>\n",
       "      <td>6.5744</td>\n",
       "      <td>3.2570</td>\n",
       "      <td>Joycelyn ice cream</td>\n",
       "      <td>6.571974</td>\n",
       "      <td>3.256003</td>\n",
       "      <td>Food Truck</td>\n",
       "    </tr>\n",
       "    <tr>\n",
       "      <td>3</td>\n",
       "      <td>Alimosho</td>\n",
       "      <td>6.5744</td>\n",
       "      <td>3.2570</td>\n",
       "      <td>7 Days Inn</td>\n",
       "      <td>6.574307</td>\n",
       "      <td>3.260634</td>\n",
       "      <td>Bar</td>\n",
       "    </tr>\n",
       "    <tr>\n",
       "      <td>4</td>\n",
       "      <td>Ikeja</td>\n",
       "      <td>6.6018</td>\n",
       "      <td>3.3515</td>\n",
       "      <td>Goat Hunters</td>\n",
       "      <td>6.601134</td>\n",
       "      <td>3.351368</td>\n",
       "      <td>African Restaurant</td>\n",
       "    </tr>\n",
       "  </tbody>\n",
       "</table>\n",
       "</div>"
      ],
      "text/plain": [
       "  Neighborhood  Neighborhood Latitude  Neighborhood Longitude  \\\n",
       "0        Agege                 6.6180                  3.3209   \n",
       "1        Agege                 6.6180                  3.3209   \n",
       "2     Alimosho                 6.5744                  3.2570   \n",
       "3     Alimosho                 6.5744                  3.2570   \n",
       "4        Ikeja                 6.6018                  3.3515   \n",
       "\n",
       "                Venue  Venue Latitude  Venue Longitude        Venue Category  \n",
       "0                 KFC        6.620788         3.317968  Fast Food Restaurant  \n",
       "1           Kelani St        6.618931         3.317609                  Park  \n",
       "2  Joycelyn ice cream        6.571974         3.256003            Food Truck  \n",
       "3          7 Days Inn        6.574307         3.260634                   Bar  \n",
       "4        Goat Hunters        6.601134         3.351368    African Restaurant  "
      ]
     },
     "execution_count": 213,
     "metadata": {},
     "output_type": "execute_result"
    }
   ],
   "source": [
    "lagos_complete_df_venue = getNearbyVenues(names=lagos_complete_df['LGA name'],\n",
    "                                   latitudes=lagos_complete_df['latitude'],\n",
    "                                   longitudes=lagos_complete_df['longitude'],\n",
    "                                   \n",
    "                                  )\n",
    "lagos_complete_df_venue.head()"
   ]
  },
  {
   "cell_type": "markdown",
   "metadata": {},
   "source": [
    "#### Let's check the size of the resulting dataframe\n"
   ]
  },
  {
   "cell_type": "code",
   "execution_count": 214,
   "metadata": {},
   "outputs": [
    {
     "data": {
      "text/plain": [
       "38"
      ]
     },
     "execution_count": 214,
     "metadata": {},
     "output_type": "execute_result"
    }
   ],
   "source": [
    "lagos_complete_df_venue.shape[0]"
   ]
  },
  {
   "cell_type": "code",
   "execution_count": 215,
   "metadata": {},
   "outputs": [
    {
     "data": {
      "text/html": [
       "<div>\n",
       "<style scoped>\n",
       "    .dataframe tbody tr th:only-of-type {\n",
       "        vertical-align: middle;\n",
       "    }\n",
       "\n",
       "    .dataframe tbody tr th {\n",
       "        vertical-align: top;\n",
       "    }\n",
       "\n",
       "    .dataframe thead th {\n",
       "        text-align: right;\n",
       "    }\n",
       "</style>\n",
       "<table border=\"1\" class=\"dataframe\">\n",
       "  <thead>\n",
       "    <tr style=\"text-align: right;\">\n",
       "      <th></th>\n",
       "      <th>Neighborhood Latitude</th>\n",
       "      <th>Neighborhood Longitude</th>\n",
       "      <th>Venue</th>\n",
       "      <th>Venue Latitude</th>\n",
       "      <th>Venue Longitude</th>\n",
       "      <th>Venue Category</th>\n",
       "    </tr>\n",
       "    <tr>\n",
       "      <th>Neighborhood</th>\n",
       "      <th></th>\n",
       "      <th></th>\n",
       "      <th></th>\n",
       "      <th></th>\n",
       "      <th></th>\n",
       "      <th></th>\n",
       "    </tr>\n",
       "  </thead>\n",
       "  <tbody>\n",
       "    <tr>\n",
       "      <td>Agege</td>\n",
       "      <td>2</td>\n",
       "      <td>2</td>\n",
       "      <td>2</td>\n",
       "      <td>2</td>\n",
       "      <td>2</td>\n",
       "      <td>2</td>\n",
       "    </tr>\n",
       "    <tr>\n",
       "      <td>Alimosho</td>\n",
       "      <td>2</td>\n",
       "      <td>2</td>\n",
       "      <td>2</td>\n",
       "      <td>2</td>\n",
       "      <td>2</td>\n",
       "      <td>2</td>\n",
       "    </tr>\n",
       "    <tr>\n",
       "      <td>Apapa</td>\n",
       "      <td>1</td>\n",
       "      <td>1</td>\n",
       "      <td>1</td>\n",
       "      <td>1</td>\n",
       "      <td>1</td>\n",
       "      <td>1</td>\n",
       "    </tr>\n",
       "    <tr>\n",
       "      <td>Ikeja</td>\n",
       "      <td>4</td>\n",
       "      <td>4</td>\n",
       "      <td>4</td>\n",
       "      <td>4</td>\n",
       "      <td>4</td>\n",
       "      <td>4</td>\n",
       "    </tr>\n",
       "    <tr>\n",
       "      <td>Ikorodu</td>\n",
       "      <td>2</td>\n",
       "      <td>2</td>\n",
       "      <td>2</td>\n",
       "      <td>2</td>\n",
       "      <td>2</td>\n",
       "      <td>2</td>\n",
       "    </tr>\n",
       "    <tr>\n",
       "      <td>Kosofe</td>\n",
       "      <td>2</td>\n",
       "      <td>2</td>\n",
       "      <td>2</td>\n",
       "      <td>2</td>\n",
       "      <td>2</td>\n",
       "      <td>2</td>\n",
       "    </tr>\n",
       "    <tr>\n",
       "      <td>Lagos Island</td>\n",
       "      <td>4</td>\n",
       "      <td>4</td>\n",
       "      <td>4</td>\n",
       "      <td>4</td>\n",
       "      <td>4</td>\n",
       "      <td>4</td>\n",
       "    </tr>\n",
       "    <tr>\n",
       "      <td>Lagos Mainland</td>\n",
       "      <td>8</td>\n",
       "      <td>8</td>\n",
       "      <td>8</td>\n",
       "      <td>8</td>\n",
       "      <td>8</td>\n",
       "      <td>8</td>\n",
       "    </tr>\n",
       "    <tr>\n",
       "      <td>Mushin</td>\n",
       "      <td>2</td>\n",
       "      <td>2</td>\n",
       "      <td>2</td>\n",
       "      <td>2</td>\n",
       "      <td>2</td>\n",
       "      <td>2</td>\n",
       "    </tr>\n",
       "    <tr>\n",
       "      <td>Oshodi-Isolo</td>\n",
       "      <td>1</td>\n",
       "      <td>1</td>\n",
       "      <td>1</td>\n",
       "      <td>1</td>\n",
       "      <td>1</td>\n",
       "      <td>1</td>\n",
       "    </tr>\n",
       "    <tr>\n",
       "      <td>Surulere</td>\n",
       "      <td>10</td>\n",
       "      <td>10</td>\n",
       "      <td>10</td>\n",
       "      <td>10</td>\n",
       "      <td>10</td>\n",
       "      <td>10</td>\n",
       "    </tr>\n",
       "  </tbody>\n",
       "</table>\n",
       "</div>"
      ],
      "text/plain": [
       "                Neighborhood Latitude  Neighborhood Longitude  Venue  \\\n",
       "Neighborhood                                                           \n",
       "Agege                               2                       2      2   \n",
       "Alimosho                            2                       2      2   \n",
       "Apapa                               1                       1      1   \n",
       "Ikeja                               4                       4      4   \n",
       "Ikorodu                             2                       2      2   \n",
       "Kosofe                              2                       2      2   \n",
       "Lagos Island                        4                       4      4   \n",
       "Lagos Mainland                      8                       8      8   \n",
       "Mushin                              2                       2      2   \n",
       "Oshodi-Isolo                        1                       1      1   \n",
       "Surulere                           10                      10     10   \n",
       "\n",
       "                Venue Latitude  Venue Longitude  Venue Category  \n",
       "Neighborhood                                                     \n",
       "Agege                        2                2               2  \n",
       "Alimosho                     2                2               2  \n",
       "Apapa                        1                1               1  \n",
       "Ikeja                        4                4               4  \n",
       "Ikorodu                      2                2               2  \n",
       "Kosofe                       2                2               2  \n",
       "Lagos Island                 4                4               4  \n",
       "Lagos Mainland               8                8               8  \n",
       "Mushin                       2                2               2  \n",
       "Oshodi-Isolo                 1                1               1  \n",
       "Surulere                    10               10              10  "
      ]
     },
     "execution_count": 215,
     "metadata": {},
     "output_type": "execute_result"
    }
   ],
   "source": [
    "lagos_complete_df_venue.groupby('Neighborhood').count()"
   ]
  },
  {
   "cell_type": "markdown",
   "metadata": {},
   "source": [
    "## 3. Analyze Each Neighborhood"
   ]
  },
  {
   "cell_type": "code",
   "execution_count": 216,
   "metadata": {},
   "outputs": [
    {
     "data": {
      "text/html": [
       "<div>\n",
       "<style scoped>\n",
       "    .dataframe tbody tr th:only-of-type {\n",
       "        vertical-align: middle;\n",
       "    }\n",
       "\n",
       "    .dataframe tbody tr th {\n",
       "        vertical-align: top;\n",
       "    }\n",
       "\n",
       "    .dataframe thead th {\n",
       "        text-align: right;\n",
       "    }\n",
       "</style>\n",
       "<table border=\"1\" class=\"dataframe\">\n",
       "  <thead>\n",
       "    <tr style=\"text-align: right;\">\n",
       "      <th></th>\n",
       "      <th>Neighborhood</th>\n",
       "      <th>African Restaurant</th>\n",
       "      <th>Bakery</th>\n",
       "      <th>Bar</th>\n",
       "      <th>Bridal Shop</th>\n",
       "      <th>Cafeteria</th>\n",
       "      <th>Candy Store</th>\n",
       "      <th>Department Store</th>\n",
       "      <th>Fast Food Restaurant</th>\n",
       "      <th>Food Truck</th>\n",
       "      <th>Hotel</th>\n",
       "      <th>Hotel Bar</th>\n",
       "      <th>Lounge</th>\n",
       "      <th>Movie Theater</th>\n",
       "      <th>Nightclub</th>\n",
       "      <th>Park</th>\n",
       "      <th>Pharmacy</th>\n",
       "      <th>Pool Hall</th>\n",
       "      <th>Residential Building (Apartment / Condo)</th>\n",
       "      <th>Shopping Mall</th>\n",
       "      <th>Spa</th>\n",
       "    </tr>\n",
       "  </thead>\n",
       "  <tbody>\n",
       "    <tr>\n",
       "      <td>0</td>\n",
       "      <td>Agege</td>\n",
       "      <td>0</td>\n",
       "      <td>0</td>\n",
       "      <td>0</td>\n",
       "      <td>0</td>\n",
       "      <td>0</td>\n",
       "      <td>0</td>\n",
       "      <td>0</td>\n",
       "      <td>1</td>\n",
       "      <td>0</td>\n",
       "      <td>0</td>\n",
       "      <td>0</td>\n",
       "      <td>0</td>\n",
       "      <td>0</td>\n",
       "      <td>0</td>\n",
       "      <td>0</td>\n",
       "      <td>0</td>\n",
       "      <td>0</td>\n",
       "      <td>0</td>\n",
       "      <td>0</td>\n",
       "      <td>0</td>\n",
       "    </tr>\n",
       "    <tr>\n",
       "      <td>1</td>\n",
       "      <td>Agege</td>\n",
       "      <td>0</td>\n",
       "      <td>0</td>\n",
       "      <td>0</td>\n",
       "      <td>0</td>\n",
       "      <td>0</td>\n",
       "      <td>0</td>\n",
       "      <td>0</td>\n",
       "      <td>0</td>\n",
       "      <td>0</td>\n",
       "      <td>0</td>\n",
       "      <td>0</td>\n",
       "      <td>0</td>\n",
       "      <td>0</td>\n",
       "      <td>0</td>\n",
       "      <td>1</td>\n",
       "      <td>0</td>\n",
       "      <td>0</td>\n",
       "      <td>0</td>\n",
       "      <td>0</td>\n",
       "      <td>0</td>\n",
       "    </tr>\n",
       "    <tr>\n",
       "      <td>2</td>\n",
       "      <td>Alimosho</td>\n",
       "      <td>0</td>\n",
       "      <td>0</td>\n",
       "      <td>0</td>\n",
       "      <td>0</td>\n",
       "      <td>0</td>\n",
       "      <td>0</td>\n",
       "      <td>0</td>\n",
       "      <td>0</td>\n",
       "      <td>1</td>\n",
       "      <td>0</td>\n",
       "      <td>0</td>\n",
       "      <td>0</td>\n",
       "      <td>0</td>\n",
       "      <td>0</td>\n",
       "      <td>0</td>\n",
       "      <td>0</td>\n",
       "      <td>0</td>\n",
       "      <td>0</td>\n",
       "      <td>0</td>\n",
       "      <td>0</td>\n",
       "    </tr>\n",
       "    <tr>\n",
       "      <td>3</td>\n",
       "      <td>Alimosho</td>\n",
       "      <td>0</td>\n",
       "      <td>0</td>\n",
       "      <td>1</td>\n",
       "      <td>0</td>\n",
       "      <td>0</td>\n",
       "      <td>0</td>\n",
       "      <td>0</td>\n",
       "      <td>0</td>\n",
       "      <td>0</td>\n",
       "      <td>0</td>\n",
       "      <td>0</td>\n",
       "      <td>0</td>\n",
       "      <td>0</td>\n",
       "      <td>0</td>\n",
       "      <td>0</td>\n",
       "      <td>0</td>\n",
       "      <td>0</td>\n",
       "      <td>0</td>\n",
       "      <td>0</td>\n",
       "      <td>0</td>\n",
       "    </tr>\n",
       "    <tr>\n",
       "      <td>4</td>\n",
       "      <td>Ikeja</td>\n",
       "      <td>1</td>\n",
       "      <td>0</td>\n",
       "      <td>0</td>\n",
       "      <td>0</td>\n",
       "      <td>0</td>\n",
       "      <td>0</td>\n",
       "      <td>0</td>\n",
       "      <td>0</td>\n",
       "      <td>0</td>\n",
       "      <td>0</td>\n",
       "      <td>0</td>\n",
       "      <td>0</td>\n",
       "      <td>0</td>\n",
       "      <td>0</td>\n",
       "      <td>0</td>\n",
       "      <td>0</td>\n",
       "      <td>0</td>\n",
       "      <td>0</td>\n",
       "      <td>0</td>\n",
       "      <td>0</td>\n",
       "    </tr>\n",
       "  </tbody>\n",
       "</table>\n",
       "</div>"
      ],
      "text/plain": [
       "  Neighborhood  African Restaurant  Bakery  Bar  Bridal Shop  Cafeteria  \\\n",
       "0        Agege                   0       0    0            0          0   \n",
       "1        Agege                   0       0    0            0          0   \n",
       "2     Alimosho                   0       0    0            0          0   \n",
       "3     Alimosho                   0       0    1            0          0   \n",
       "4        Ikeja                   1       0    0            0          0   \n",
       "\n",
       "   Candy Store  Department Store  Fast Food Restaurant  Food Truck  Hotel  \\\n",
       "0            0                 0                     1           0      0   \n",
       "1            0                 0                     0           0      0   \n",
       "2            0                 0                     0           1      0   \n",
       "3            0                 0                     0           0      0   \n",
       "4            0                 0                     0           0      0   \n",
       "\n",
       "   Hotel Bar  Lounge  Movie Theater  Nightclub  Park  Pharmacy  Pool Hall  \\\n",
       "0          0       0              0          0     0         0          0   \n",
       "1          0       0              0          0     1         0          0   \n",
       "2          0       0              0          0     0         0          0   \n",
       "3          0       0              0          0     0         0          0   \n",
       "4          0       0              0          0     0         0          0   \n",
       "\n",
       "   Residential Building (Apartment / Condo)  Shopping Mall  Spa  \n",
       "0                                         0              0    0  \n",
       "1                                         0              0    0  \n",
       "2                                         0              0    0  \n",
       "3                                         0              0    0  \n",
       "4                                         0              0    0  "
      ]
     },
     "execution_count": 216,
     "metadata": {},
     "output_type": "execute_result"
    }
   ],
   "source": [
    "# one hot encoding\n",
    "lagos_complete_df_venue_onehot = pd.get_dummies(lagos_complete_df_venue[['Venue Category']], prefix=\"\", prefix_sep=\"\")\n",
    "\n",
    "# add neighborhood column back to dataframe\n",
    "lagos_complete_df_venue_onehot['Neighborhood'] = lagos_complete_df_venue['Neighborhood'] \n",
    "\n",
    "# move neighborhood column to the first column\n",
    "fixed_columns = [lagos_complete_df_venue_onehot.columns[-1]] + list(lagos_complete_df_venue_onehot.columns[:-1])\n",
    "lagos_complete_df_venue_onehot = lagos_complete_df_venue_onehot[fixed_columns]\n",
    "\n",
    "lagos_complete_df_venue_onehot.head()\n"
   ]
  },
  {
   "cell_type": "markdown",
   "metadata": {},
   "source": [
    "#### Next, let's group rows by neighborhood and by taking the mean of the frequency of occurrence of each category"
   ]
  },
  {
   "cell_type": "code",
   "execution_count": 217,
   "metadata": {},
   "outputs": [
    {
     "data": {
      "text/html": [
       "<div>\n",
       "<style scoped>\n",
       "    .dataframe tbody tr th:only-of-type {\n",
       "        vertical-align: middle;\n",
       "    }\n",
       "\n",
       "    .dataframe tbody tr th {\n",
       "        vertical-align: top;\n",
       "    }\n",
       "\n",
       "    .dataframe thead th {\n",
       "        text-align: right;\n",
       "    }\n",
       "</style>\n",
       "<table border=\"1\" class=\"dataframe\">\n",
       "  <thead>\n",
       "    <tr style=\"text-align: right;\">\n",
       "      <th></th>\n",
       "      <th>Neighborhood</th>\n",
       "      <th>African Restaurant</th>\n",
       "      <th>Bakery</th>\n",
       "      <th>Bar</th>\n",
       "      <th>Bridal Shop</th>\n",
       "      <th>Cafeteria</th>\n",
       "      <th>Candy Store</th>\n",
       "      <th>Department Store</th>\n",
       "      <th>Fast Food Restaurant</th>\n",
       "      <th>Food Truck</th>\n",
       "      <th>Hotel</th>\n",
       "      <th>Hotel Bar</th>\n",
       "      <th>Lounge</th>\n",
       "      <th>Movie Theater</th>\n",
       "      <th>Nightclub</th>\n",
       "      <th>Park</th>\n",
       "      <th>Pharmacy</th>\n",
       "      <th>Pool Hall</th>\n",
       "      <th>Residential Building (Apartment / Condo)</th>\n",
       "      <th>Shopping Mall</th>\n",
       "      <th>Spa</th>\n",
       "    </tr>\n",
       "  </thead>\n",
       "  <tbody>\n",
       "    <tr>\n",
       "      <td>0</td>\n",
       "      <td>Agege</td>\n",
       "      <td>0.00</td>\n",
       "      <td>0.00</td>\n",
       "      <td>0.0</td>\n",
       "      <td>0.0</td>\n",
       "      <td>0.0</td>\n",
       "      <td>0.0</td>\n",
       "      <td>0.0</td>\n",
       "      <td>0.50</td>\n",
       "      <td>0.0</td>\n",
       "      <td>0.0</td>\n",
       "      <td>0.0</td>\n",
       "      <td>0.0</td>\n",
       "      <td>0.0</td>\n",
       "      <td>0.0</td>\n",
       "      <td>0.5</td>\n",
       "      <td>0.00</td>\n",
       "      <td>0.0</td>\n",
       "      <td>0.0</td>\n",
       "      <td>0.0</td>\n",
       "      <td>0.0</td>\n",
       "    </tr>\n",
       "    <tr>\n",
       "      <td>1</td>\n",
       "      <td>Alimosho</td>\n",
       "      <td>0.00</td>\n",
       "      <td>0.00</td>\n",
       "      <td>0.5</td>\n",
       "      <td>0.0</td>\n",
       "      <td>0.0</td>\n",
       "      <td>0.0</td>\n",
       "      <td>0.0</td>\n",
       "      <td>0.00</td>\n",
       "      <td>0.5</td>\n",
       "      <td>0.0</td>\n",
       "      <td>0.0</td>\n",
       "      <td>0.0</td>\n",
       "      <td>0.0</td>\n",
       "      <td>0.0</td>\n",
       "      <td>0.0</td>\n",
       "      <td>0.00</td>\n",
       "      <td>0.0</td>\n",
       "      <td>0.0</td>\n",
       "      <td>0.0</td>\n",
       "      <td>0.0</td>\n",
       "    </tr>\n",
       "    <tr>\n",
       "      <td>2</td>\n",
       "      <td>Apapa</td>\n",
       "      <td>0.00</td>\n",
       "      <td>0.00</td>\n",
       "      <td>0.0</td>\n",
       "      <td>0.0</td>\n",
       "      <td>0.0</td>\n",
       "      <td>0.0</td>\n",
       "      <td>0.0</td>\n",
       "      <td>1.00</td>\n",
       "      <td>0.0</td>\n",
       "      <td>0.0</td>\n",
       "      <td>0.0</td>\n",
       "      <td>0.0</td>\n",
       "      <td>0.0</td>\n",
       "      <td>0.0</td>\n",
       "      <td>0.0</td>\n",
       "      <td>0.00</td>\n",
       "      <td>0.0</td>\n",
       "      <td>0.0</td>\n",
       "      <td>0.0</td>\n",
       "      <td>0.0</td>\n",
       "    </tr>\n",
       "    <tr>\n",
       "      <td>3</td>\n",
       "      <td>Ikeja</td>\n",
       "      <td>0.25</td>\n",
       "      <td>0.25</td>\n",
       "      <td>0.0</td>\n",
       "      <td>0.0</td>\n",
       "      <td>0.0</td>\n",
       "      <td>0.0</td>\n",
       "      <td>0.0</td>\n",
       "      <td>0.25</td>\n",
       "      <td>0.0</td>\n",
       "      <td>0.0</td>\n",
       "      <td>0.0</td>\n",
       "      <td>0.0</td>\n",
       "      <td>0.0</td>\n",
       "      <td>0.0</td>\n",
       "      <td>0.0</td>\n",
       "      <td>0.25</td>\n",
       "      <td>0.0</td>\n",
       "      <td>0.0</td>\n",
       "      <td>0.0</td>\n",
       "      <td>0.0</td>\n",
       "    </tr>\n",
       "    <tr>\n",
       "      <td>4</td>\n",
       "      <td>Ikorodu</td>\n",
       "      <td>0.00</td>\n",
       "      <td>0.00</td>\n",
       "      <td>0.5</td>\n",
       "      <td>0.0</td>\n",
       "      <td>0.0</td>\n",
       "      <td>0.5</td>\n",
       "      <td>0.0</td>\n",
       "      <td>0.00</td>\n",
       "      <td>0.0</td>\n",
       "      <td>0.0</td>\n",
       "      <td>0.0</td>\n",
       "      <td>0.0</td>\n",
       "      <td>0.0</td>\n",
       "      <td>0.0</td>\n",
       "      <td>0.0</td>\n",
       "      <td>0.00</td>\n",
       "      <td>0.0</td>\n",
       "      <td>0.0</td>\n",
       "      <td>0.0</td>\n",
       "      <td>0.0</td>\n",
       "    </tr>\n",
       "  </tbody>\n",
       "</table>\n",
       "</div>"
      ],
      "text/plain": [
       "  Neighborhood  African Restaurant  Bakery  Bar  Bridal Shop  Cafeteria  \\\n",
       "0        Agege                0.00    0.00  0.0          0.0        0.0   \n",
       "1     Alimosho                0.00    0.00  0.5          0.0        0.0   \n",
       "2        Apapa                0.00    0.00  0.0          0.0        0.0   \n",
       "3        Ikeja                0.25    0.25  0.0          0.0        0.0   \n",
       "4      Ikorodu                0.00    0.00  0.5          0.0        0.0   \n",
       "\n",
       "   Candy Store  Department Store  Fast Food Restaurant  Food Truck  Hotel  \\\n",
       "0          0.0               0.0                  0.50         0.0    0.0   \n",
       "1          0.0               0.0                  0.00         0.5    0.0   \n",
       "2          0.0               0.0                  1.00         0.0    0.0   \n",
       "3          0.0               0.0                  0.25         0.0    0.0   \n",
       "4          0.5               0.0                  0.00         0.0    0.0   \n",
       "\n",
       "   Hotel Bar  Lounge  Movie Theater  Nightclub  Park  Pharmacy  Pool Hall  \\\n",
       "0        0.0     0.0            0.0        0.0   0.5      0.00        0.0   \n",
       "1        0.0     0.0            0.0        0.0   0.0      0.00        0.0   \n",
       "2        0.0     0.0            0.0        0.0   0.0      0.00        0.0   \n",
       "3        0.0     0.0            0.0        0.0   0.0      0.25        0.0   \n",
       "4        0.0     0.0            0.0        0.0   0.0      0.00        0.0   \n",
       "\n",
       "   Residential Building (Apartment / Condo)  Shopping Mall  Spa  \n",
       "0                                       0.0            0.0  0.0  \n",
       "1                                       0.0            0.0  0.0  \n",
       "2                                       0.0            0.0  0.0  \n",
       "3                                       0.0            0.0  0.0  \n",
       "4                                       0.0            0.0  0.0  "
      ]
     },
     "execution_count": 217,
     "metadata": {},
     "output_type": "execute_result"
    }
   ],
   "source": [
    "lagos_complete_df_venue_onehot_grouped = lagos_complete_df_venue_onehot.groupby('Neighborhood').mean().reset_index()\n",
    "lagos_complete_df_venue_onehot_grouped.head()"
   ]
  },
  {
   "cell_type": "markdown",
   "metadata": {},
   "source": [
    "#### Let's confirm the new size"
   ]
  },
  {
   "cell_type": "code",
   "execution_count": 218,
   "metadata": {},
   "outputs": [
    {
     "data": {
      "text/plain": [
       "(11, 21)"
      ]
     },
     "execution_count": 218,
     "metadata": {},
     "output_type": "execute_result"
    }
   ],
   "source": [
    "lagos_complete_df_venue_onehot_grouped.shape"
   ]
  },
  {
   "cell_type": "markdown",
   "metadata": {},
   "source": [
    "#### Check the 10 most common venues in each neighborhood."
   ]
  },
  {
   "cell_type": "code",
   "execution_count": 219,
   "metadata": {},
   "outputs": [
    {
     "data": {
      "text/html": [
       "<div>\n",
       "<style scoped>\n",
       "    .dataframe tbody tr th:only-of-type {\n",
       "        vertical-align: middle;\n",
       "    }\n",
       "\n",
       "    .dataframe tbody tr th {\n",
       "        vertical-align: top;\n",
       "    }\n",
       "\n",
       "    .dataframe thead th {\n",
       "        text-align: right;\n",
       "    }\n",
       "</style>\n",
       "<table border=\"1\" class=\"dataframe\">\n",
       "  <thead>\n",
       "    <tr style=\"text-align: right;\">\n",
       "      <th></th>\n",
       "      <th>Neighborhood</th>\n",
       "      <th>1st Most Common Venue</th>\n",
       "      <th>2nd Most Common Venue</th>\n",
       "      <th>3rd Most Common Venue</th>\n",
       "      <th>4th Most Common Venue</th>\n",
       "      <th>5th Most Common Venue</th>\n",
       "      <th>6th Most Common Venue</th>\n",
       "      <th>7th Most Common Venue</th>\n",
       "      <th>8th Most Common Venue</th>\n",
       "      <th>9th Most Common Venue</th>\n",
       "      <th>10th Most Common Venue</th>\n",
       "    </tr>\n",
       "  </thead>\n",
       "  <tbody>\n",
       "    <tr>\n",
       "      <td>0</td>\n",
       "      <td>Agege</td>\n",
       "      <td>Park</td>\n",
       "      <td>Fast Food Restaurant</td>\n",
       "      <td>Spa</td>\n",
       "      <td>Food Truck</td>\n",
       "      <td>Bakery</td>\n",
       "      <td>Bar</td>\n",
       "      <td>Bridal Shop</td>\n",
       "      <td>Cafeteria</td>\n",
       "      <td>Candy Store</td>\n",
       "      <td>Department Store</td>\n",
       "    </tr>\n",
       "    <tr>\n",
       "      <td>1</td>\n",
       "      <td>Alimosho</td>\n",
       "      <td>Bar</td>\n",
       "      <td>Food Truck</td>\n",
       "      <td>Spa</td>\n",
       "      <td>Shopping Mall</td>\n",
       "      <td>Bakery</td>\n",
       "      <td>Bridal Shop</td>\n",
       "      <td>Cafeteria</td>\n",
       "      <td>Candy Store</td>\n",
       "      <td>Department Store</td>\n",
       "      <td>Fast Food Restaurant</td>\n",
       "    </tr>\n",
       "    <tr>\n",
       "      <td>2</td>\n",
       "      <td>Apapa</td>\n",
       "      <td>Fast Food Restaurant</td>\n",
       "      <td>Spa</td>\n",
       "      <td>Shopping Mall</td>\n",
       "      <td>Bakery</td>\n",
       "      <td>Bar</td>\n",
       "      <td>Bridal Shop</td>\n",
       "      <td>Cafeteria</td>\n",
       "      <td>Candy Store</td>\n",
       "      <td>Department Store</td>\n",
       "      <td>Food Truck</td>\n",
       "    </tr>\n",
       "    <tr>\n",
       "      <td>3</td>\n",
       "      <td>Ikeja</td>\n",
       "      <td>African Restaurant</td>\n",
       "      <td>Bakery</td>\n",
       "      <td>Pharmacy</td>\n",
       "      <td>Fast Food Restaurant</td>\n",
       "      <td>Food Truck</td>\n",
       "      <td>Bar</td>\n",
       "      <td>Bridal Shop</td>\n",
       "      <td>Cafeteria</td>\n",
       "      <td>Candy Store</td>\n",
       "      <td>Department Store</td>\n",
       "    </tr>\n",
       "    <tr>\n",
       "      <td>4</td>\n",
       "      <td>Ikorodu</td>\n",
       "      <td>Bar</td>\n",
       "      <td>Candy Store</td>\n",
       "      <td>Spa</td>\n",
       "      <td>Shopping Mall</td>\n",
       "      <td>Bakery</td>\n",
       "      <td>Bridal Shop</td>\n",
       "      <td>Cafeteria</td>\n",
       "      <td>Department Store</td>\n",
       "      <td>Fast Food Restaurant</td>\n",
       "      <td>Food Truck</td>\n",
       "    </tr>\n",
       "  </tbody>\n",
       "</table>\n",
       "</div>"
      ],
      "text/plain": [
       "  Neighborhood 1st Most Common Venue 2nd Most Common Venue  \\\n",
       "0        Agege                  Park  Fast Food Restaurant   \n",
       "1     Alimosho                   Bar            Food Truck   \n",
       "2        Apapa  Fast Food Restaurant                   Spa   \n",
       "3        Ikeja    African Restaurant                Bakery   \n",
       "4      Ikorodu                   Bar           Candy Store   \n",
       "\n",
       "  3rd Most Common Venue 4th Most Common Venue 5th Most Common Venue  \\\n",
       "0                   Spa            Food Truck                Bakery   \n",
       "1                   Spa         Shopping Mall                Bakery   \n",
       "2         Shopping Mall                Bakery                   Bar   \n",
       "3              Pharmacy  Fast Food Restaurant            Food Truck   \n",
       "4                   Spa         Shopping Mall                Bakery   \n",
       "\n",
       "  6th Most Common Venue 7th Most Common Venue 8th Most Common Venue  \\\n",
       "0                   Bar           Bridal Shop             Cafeteria   \n",
       "1           Bridal Shop             Cafeteria           Candy Store   \n",
       "2           Bridal Shop             Cafeteria           Candy Store   \n",
       "3                   Bar           Bridal Shop             Cafeteria   \n",
       "4           Bridal Shop             Cafeteria      Department Store   \n",
       "\n",
       "  9th Most Common Venue 10th Most Common Venue  \n",
       "0           Candy Store       Department Store  \n",
       "1      Department Store   Fast Food Restaurant  \n",
       "2      Department Store             Food Truck  \n",
       "3           Candy Store       Department Store  \n",
       "4  Fast Food Restaurant             Food Truck  "
      ]
     },
     "execution_count": 219,
     "metadata": {},
     "output_type": "execute_result"
    }
   ],
   "source": [
    "def return_most_common_venues(row, num_top_venues):\n",
    "    row_categories = row.iloc[1:]\n",
    "    row_categories_sorted = row_categories.sort_values(ascending=False)\n",
    "    return row_categories_sorted.index.values[0:num_top_venues]\n",
    "\n",
    "num_top_venues = 10\n",
    "\n",
    "indicators = ['st', 'nd', 'rd']\n",
    "\n",
    "# create columns according to number of top venues\n",
    "columns = ['Neighborhood']\n",
    "for ind in np.arange(num_top_venues):\n",
    "    try:\n",
    "        columns.append('{}{} Most Common Venue'.format(ind+1, indicators[ind]))\n",
    "    except:\n",
    "        columns.append('{}th Most Common Venue'.format(ind+1))\n",
    "\n",
    "# create a new dataframe\n",
    "neighborhoods_venues_sorted = pd.DataFrame(columns=columns)\n",
    "neighborhoods_venues_sorted['Neighborhood'] = lagos_complete_df_venue_onehot_grouped['Neighborhood']\n",
    "\n",
    "for ind in np.arange(lagos_complete_df_venue_onehot_grouped.shape[0]):\n",
    "    neighborhoods_venues_sorted.iloc[ind, 1:] = return_most_common_venues(lagos_complete_df_venue_onehot_grouped.iloc[ind, :], num_top_venues)\n",
    "\n",
    "neighborhoods_venues_sorted.head()"
   ]
  },
  {
   "cell_type": "markdown",
   "metadata": {},
   "source": [
    "##  Cluster Neighborhoods"
   ]
  },
  {
   "cell_type": "code",
   "execution_count": 220,
   "metadata": {},
   "outputs": [
    {
     "data": {
      "text/plain": [
       "array([2, 4, 2, 3, 4, 0, 3, 3, 4, 1])"
      ]
     },
     "execution_count": 220,
     "metadata": {},
     "output_type": "execute_result"
    }
   ],
   "source": [
    "\n",
    "# set number of clusters\n",
    "kclusters = 5\n",
    "\n",
    "lagos_complete_df_venue_onehot_grouped_clustering = lagos_complete_df_venue_onehot_grouped.drop('Neighborhood', 1)\n",
    "\n",
    "# run k-means clustering\n",
    "kmeans = KMeans(n_clusters=kclusters, random_state=0).fit(lagos_complete_df_venue_onehot_grouped_clustering)\n",
    "\n",
    "# check cluster labels generated for each row in the dataframe\n",
    "kmeans.labels_[0:10] "
   ]
  },
  {
   "cell_type": "code",
   "execution_count": 221,
   "metadata": {},
   "outputs": [
    {
     "data": {
      "text/html": [
       "<div>\n",
       "<style scoped>\n",
       "    .dataframe tbody tr th:only-of-type {\n",
       "        vertical-align: middle;\n",
       "    }\n",
       "\n",
       "    .dataframe tbody tr th {\n",
       "        vertical-align: top;\n",
       "    }\n",
       "\n",
       "    .dataframe thead th {\n",
       "        text-align: right;\n",
       "    }\n",
       "</style>\n",
       "<table border=\"1\" class=\"dataframe\">\n",
       "  <thead>\n",
       "    <tr style=\"text-align: right;\">\n",
       "      <th></th>\n",
       "      <th>LGA name</th>\n",
       "      <th>Area(KM SQUARE)</th>\n",
       "      <th>CENSUS 2006 POPULATION</th>\n",
       "      <th>ADMINISTRATIVE CAPITAL</th>\n",
       "      <th>POSTAL CODE</th>\n",
       "      <th>latitude</th>\n",
       "      <th>longitude</th>\n",
       "      <th>Cluster Labels</th>\n",
       "      <th>1st Most Common Venue</th>\n",
       "      <th>2nd Most Common Venue</th>\n",
       "      <th>3rd Most Common Venue</th>\n",
       "      <th>4th Most Common Venue</th>\n",
       "      <th>5th Most Common Venue</th>\n",
       "      <th>6th Most Common Venue</th>\n",
       "      <th>7th Most Common Venue</th>\n",
       "      <th>8th Most Common Venue</th>\n",
       "      <th>9th Most Common Venue</th>\n",
       "      <th>10th Most Common Venue</th>\n",
       "    </tr>\n",
       "  </thead>\n",
       "  <tbody>\n",
       "    <tr>\n",
       "      <td>0</td>\n",
       "      <td>Agege</td>\n",
       "      <td>11</td>\n",
       "      <td>459939</td>\n",
       "      <td>Agege</td>\n",
       "      <td>100</td>\n",
       "      <td>6.6180</td>\n",
       "      <td>3.3209</td>\n",
       "      <td>2.0</td>\n",
       "      <td>Park</td>\n",
       "      <td>Fast Food Restaurant</td>\n",
       "      <td>Spa</td>\n",
       "      <td>Food Truck</td>\n",
       "      <td>Bakery</td>\n",
       "      <td>Bar</td>\n",
       "      <td>Bridal Shop</td>\n",
       "      <td>Cafeteria</td>\n",
       "      <td>Candy Store</td>\n",
       "      <td>Department Store</td>\n",
       "    </tr>\n",
       "    <tr>\n",
       "      <td>1</td>\n",
       "      <td>Alimosho</td>\n",
       "      <td>185</td>\n",
       "      <td>1277714</td>\n",
       "      <td>Ikotun</td>\n",
       "      <td>100</td>\n",
       "      <td>6.5744</td>\n",
       "      <td>3.2570</td>\n",
       "      <td>4.0</td>\n",
       "      <td>Bar</td>\n",
       "      <td>Food Truck</td>\n",
       "      <td>Spa</td>\n",
       "      <td>Shopping Mall</td>\n",
       "      <td>Bakery</td>\n",
       "      <td>Bridal Shop</td>\n",
       "      <td>Cafeteria</td>\n",
       "      <td>Candy Store</td>\n",
       "      <td>Department Store</td>\n",
       "      <td>Fast Food Restaurant</td>\n",
       "    </tr>\n",
       "    <tr>\n",
       "      <td>2</td>\n",
       "      <td>Ifako-Ijaye</td>\n",
       "      <td>27</td>\n",
       "      <td>427878</td>\n",
       "      <td>Ifako</td>\n",
       "      <td>100</td>\n",
       "      <td>6.6850</td>\n",
       "      <td>3.2885</td>\n",
       "      <td>NaN</td>\n",
       "      <td>NaN</td>\n",
       "      <td>NaN</td>\n",
       "      <td>NaN</td>\n",
       "      <td>NaN</td>\n",
       "      <td>NaN</td>\n",
       "      <td>NaN</td>\n",
       "      <td>NaN</td>\n",
       "      <td>NaN</td>\n",
       "      <td>NaN</td>\n",
       "      <td>NaN</td>\n",
       "    </tr>\n",
       "    <tr>\n",
       "      <td>3</td>\n",
       "      <td>Ikeja</td>\n",
       "      <td>46</td>\n",
       "      <td>313196</td>\n",
       "      <td>Ikeja</td>\n",
       "      <td>100</td>\n",
       "      <td>6.6018</td>\n",
       "      <td>3.3515</td>\n",
       "      <td>3.0</td>\n",
       "      <td>African Restaurant</td>\n",
       "      <td>Bakery</td>\n",
       "      <td>Pharmacy</td>\n",
       "      <td>Fast Food Restaurant</td>\n",
       "      <td>Food Truck</td>\n",
       "      <td>Bar</td>\n",
       "      <td>Bridal Shop</td>\n",
       "      <td>Cafeteria</td>\n",
       "      <td>Candy Store</td>\n",
       "      <td>Department Store</td>\n",
       "    </tr>\n",
       "    <tr>\n",
       "      <td>4</td>\n",
       "      <td>Kosofe</td>\n",
       "      <td>81</td>\n",
       "      <td>665393</td>\n",
       "      <td>Kosofe</td>\n",
       "      <td>100</td>\n",
       "      <td>6.5691</td>\n",
       "      <td>3.3793</td>\n",
       "      <td>0.0</td>\n",
       "      <td>Spa</td>\n",
       "      <td>Residential Building (Apartment / Condo)</td>\n",
       "      <td>Food Truck</td>\n",
       "      <td>Bakery</td>\n",
       "      <td>Bar</td>\n",
       "      <td>Bridal Shop</td>\n",
       "      <td>Cafeteria</td>\n",
       "      <td>Candy Store</td>\n",
       "      <td>Department Store</td>\n",
       "      <td>Fast Food Restaurant</td>\n",
       "    </tr>\n",
       "  </tbody>\n",
       "</table>\n",
       "</div>"
      ],
      "text/plain": [
       "      LGA name  Area(KM SQUARE)  CENSUS 2006 POPULATION  \\\n",
       "0        Agege               11                  459939   \n",
       "1     Alimosho              185                 1277714   \n",
       "2  Ifako-Ijaye               27                  427878   \n",
       "3        Ikeja               46                  313196   \n",
       "4       Kosofe               81                  665393   \n",
       "\n",
       "  ADMINISTRATIVE CAPITAL POSTAL CODE  latitude  longitude  Cluster Labels  \\\n",
       "0                  Agege         100    6.6180     3.3209             2.0   \n",
       "1                 Ikotun         100    6.5744     3.2570             4.0   \n",
       "2                  Ifako         100    6.6850     3.2885             NaN   \n",
       "3                  Ikeja         100    6.6018     3.3515             3.0   \n",
       "4                 Kosofe         100    6.5691     3.3793             0.0   \n",
       "\n",
       "  1st Most Common Venue                     2nd Most Common Venue  \\\n",
       "0                  Park                      Fast Food Restaurant   \n",
       "1                   Bar                                Food Truck   \n",
       "2                   NaN                                       NaN   \n",
       "3    African Restaurant                                    Bakery   \n",
       "4                   Spa  Residential Building (Apartment / Condo)   \n",
       "\n",
       "  3rd Most Common Venue 4th Most Common Venue 5th Most Common Venue  \\\n",
       "0                   Spa            Food Truck                Bakery   \n",
       "1                   Spa         Shopping Mall                Bakery   \n",
       "2                   NaN                   NaN                   NaN   \n",
       "3              Pharmacy  Fast Food Restaurant            Food Truck   \n",
       "4            Food Truck                Bakery                   Bar   \n",
       "\n",
       "  6th Most Common Venue 7th Most Common Venue 8th Most Common Venue  \\\n",
       "0                   Bar           Bridal Shop             Cafeteria   \n",
       "1           Bridal Shop             Cafeteria           Candy Store   \n",
       "2                   NaN                   NaN                   NaN   \n",
       "3                   Bar           Bridal Shop             Cafeteria   \n",
       "4           Bridal Shop             Cafeteria           Candy Store   \n",
       "\n",
       "  9th Most Common Venue 10th Most Common Venue  \n",
       "0           Candy Store       Department Store  \n",
       "1      Department Store   Fast Food Restaurant  \n",
       "2                   NaN                    NaN  \n",
       "3           Candy Store       Department Store  \n",
       "4      Department Store   Fast Food Restaurant  "
      ]
     },
     "execution_count": 221,
     "metadata": {},
     "output_type": "execute_result"
    }
   ],
   "source": [
    "# add clustering labels\n",
    "neighborhoods_venues_sorted.insert(0, 'Cluster Labels', kmeans.labels_)\n",
    "\n",
    "lagos_complete_df_merged = lagos_complete_df\n",
    "\n",
    "# merge toronto_grouped with toronto_data to add latitude/longitude for each neighborhood\n",
    "lagos_complete_df_merged = lagos_complete_df_merged.join(neighborhoods_venues_sorted.set_index('Neighborhood'), on='LGA name')\n",
    "\n",
    "lagos_complete_df_merged.head() # check the last columns!"
   ]
  },
  {
   "cell_type": "markdown",
   "metadata": {},
   "source": [
    "#### Lets drop the Cluster Labels column containing NAN value to enable us visualize the clusters on a map"
   ]
  },
  {
   "cell_type": "code",
   "execution_count": 222,
   "metadata": {},
   "outputs": [
    {
     "data": {
      "text/html": [
       "<div>\n",
       "<style scoped>\n",
       "    .dataframe tbody tr th:only-of-type {\n",
       "        vertical-align: middle;\n",
       "    }\n",
       "\n",
       "    .dataframe tbody tr th {\n",
       "        vertical-align: top;\n",
       "    }\n",
       "\n",
       "    .dataframe thead th {\n",
       "        text-align: right;\n",
       "    }\n",
       "</style>\n",
       "<table border=\"1\" class=\"dataframe\">\n",
       "  <thead>\n",
       "    <tr style=\"text-align: right;\">\n",
       "      <th></th>\n",
       "      <th>index</th>\n",
       "      <th>LGA name</th>\n",
       "      <th>Area(KM SQUARE)</th>\n",
       "      <th>CENSUS 2006 POPULATION</th>\n",
       "      <th>ADMINISTRATIVE CAPITAL</th>\n",
       "      <th>POSTAL CODE</th>\n",
       "      <th>latitude</th>\n",
       "      <th>longitude</th>\n",
       "      <th>Cluster Labels</th>\n",
       "      <th>1st Most Common Venue</th>\n",
       "      <th>2nd Most Common Venue</th>\n",
       "      <th>3rd Most Common Venue</th>\n",
       "      <th>4th Most Common Venue</th>\n",
       "      <th>5th Most Common Venue</th>\n",
       "      <th>6th Most Common Venue</th>\n",
       "      <th>7th Most Common Venue</th>\n",
       "      <th>8th Most Common Venue</th>\n",
       "      <th>9th Most Common Venue</th>\n",
       "      <th>10th Most Common Venue</th>\n",
       "    </tr>\n",
       "  </thead>\n",
       "  <tbody>\n",
       "    <tr>\n",
       "      <td>0</td>\n",
       "      <td>0</td>\n",
       "      <td>Agege</td>\n",
       "      <td>11</td>\n",
       "      <td>459939</td>\n",
       "      <td>Agege</td>\n",
       "      <td>100</td>\n",
       "      <td>6.6180</td>\n",
       "      <td>3.3209</td>\n",
       "      <td>2.0</td>\n",
       "      <td>Park</td>\n",
       "      <td>Fast Food Restaurant</td>\n",
       "      <td>Spa</td>\n",
       "      <td>Food Truck</td>\n",
       "      <td>Bakery</td>\n",
       "      <td>Bar</td>\n",
       "      <td>Bridal Shop</td>\n",
       "      <td>Cafeteria</td>\n",
       "      <td>Candy Store</td>\n",
       "      <td>Department Store</td>\n",
       "    </tr>\n",
       "    <tr>\n",
       "      <td>1</td>\n",
       "      <td>1</td>\n",
       "      <td>Alimosho</td>\n",
       "      <td>185</td>\n",
       "      <td>1277714</td>\n",
       "      <td>Ikotun</td>\n",
       "      <td>100</td>\n",
       "      <td>6.5744</td>\n",
       "      <td>3.2570</td>\n",
       "      <td>4.0</td>\n",
       "      <td>Bar</td>\n",
       "      <td>Food Truck</td>\n",
       "      <td>Spa</td>\n",
       "      <td>Shopping Mall</td>\n",
       "      <td>Bakery</td>\n",
       "      <td>Bridal Shop</td>\n",
       "      <td>Cafeteria</td>\n",
       "      <td>Candy Store</td>\n",
       "      <td>Department Store</td>\n",
       "      <td>Fast Food Restaurant</td>\n",
       "    </tr>\n",
       "    <tr>\n",
       "      <td>2</td>\n",
       "      <td>3</td>\n",
       "      <td>Ikeja</td>\n",
       "      <td>46</td>\n",
       "      <td>313196</td>\n",
       "      <td>Ikeja</td>\n",
       "      <td>100</td>\n",
       "      <td>6.6018</td>\n",
       "      <td>3.3515</td>\n",
       "      <td>3.0</td>\n",
       "      <td>African Restaurant</td>\n",
       "      <td>Bakery</td>\n",
       "      <td>Pharmacy</td>\n",
       "      <td>Fast Food Restaurant</td>\n",
       "      <td>Food Truck</td>\n",
       "      <td>Bar</td>\n",
       "      <td>Bridal Shop</td>\n",
       "      <td>Cafeteria</td>\n",
       "      <td>Candy Store</td>\n",
       "      <td>Department Store</td>\n",
       "    </tr>\n",
       "    <tr>\n",
       "      <td>3</td>\n",
       "      <td>4</td>\n",
       "      <td>Kosofe</td>\n",
       "      <td>81</td>\n",
       "      <td>665393</td>\n",
       "      <td>Kosofe</td>\n",
       "      <td>100</td>\n",
       "      <td>6.5691</td>\n",
       "      <td>3.3793</td>\n",
       "      <td>0.0</td>\n",
       "      <td>Spa</td>\n",
       "      <td>Residential Building (Apartment / Condo)</td>\n",
       "      <td>Food Truck</td>\n",
       "      <td>Bakery</td>\n",
       "      <td>Bar</td>\n",
       "      <td>Bridal Shop</td>\n",
       "      <td>Cafeteria</td>\n",
       "      <td>Candy Store</td>\n",
       "      <td>Department Store</td>\n",
       "      <td>Fast Food Restaurant</td>\n",
       "    </tr>\n",
       "    <tr>\n",
       "      <td>4</td>\n",
       "      <td>5</td>\n",
       "      <td>Mushin</td>\n",
       "      <td>17</td>\n",
       "      <td>633009</td>\n",
       "      <td>Mushin</td>\n",
       "      <td>100</td>\n",
       "      <td>6.5273</td>\n",
       "      <td>3.3414</td>\n",
       "      <td>4.0</td>\n",
       "      <td>Bakery</td>\n",
       "      <td>Bar</td>\n",
       "      <td>Spa</td>\n",
       "      <td>Shopping Mall</td>\n",
       "      <td>Bridal Shop</td>\n",
       "      <td>Cafeteria</td>\n",
       "      <td>Candy Store</td>\n",
       "      <td>Department Store</td>\n",
       "      <td>Fast Food Restaurant</td>\n",
       "      <td>Food Truck</td>\n",
       "    </tr>\n",
       "    <tr>\n",
       "      <td>5</td>\n",
       "      <td>6</td>\n",
       "      <td>Oshodi-Isolo</td>\n",
       "      <td>45</td>\n",
       "      <td>621509</td>\n",
       "      <td>Oshodi/Isolo</td>\n",
       "      <td>100</td>\n",
       "      <td>6.5355</td>\n",
       "      <td>3.3087</td>\n",
       "      <td>1.0</td>\n",
       "      <td>Bakery</td>\n",
       "      <td>Spa</td>\n",
       "      <td>Shopping Mall</td>\n",
       "      <td>Bar</td>\n",
       "      <td>Bridal Shop</td>\n",
       "      <td>Cafeteria</td>\n",
       "      <td>Candy Store</td>\n",
       "      <td>Department Store</td>\n",
       "      <td>Fast Food Restaurant</td>\n",
       "      <td>Food Truck</td>\n",
       "    </tr>\n",
       "    <tr>\n",
       "      <td>6</td>\n",
       "      <td>8</td>\n",
       "      <td>Apapa</td>\n",
       "      <td>27</td>\n",
       "      <td>217362</td>\n",
       "      <td>Apapa</td>\n",
       "      <td>101</td>\n",
       "      <td>6.4553</td>\n",
       "      <td>3.3641</td>\n",
       "      <td>2.0</td>\n",
       "      <td>Fast Food Restaurant</td>\n",
       "      <td>Spa</td>\n",
       "      <td>Shopping Mall</td>\n",
       "      <td>Bakery</td>\n",
       "      <td>Bar</td>\n",
       "      <td>Bridal Shop</td>\n",
       "      <td>Cafeteria</td>\n",
       "      <td>Candy Store</td>\n",
       "      <td>Department Store</td>\n",
       "      <td>Food Truck</td>\n",
       "    </tr>\n",
       "    <tr>\n",
       "      <td>7</td>\n",
       "      <td>10</td>\n",
       "      <td>Lagos Island</td>\n",
       "      <td>9</td>\n",
       "      <td>209437</td>\n",
       "      <td>Lagos Island</td>\n",
       "      <td>101</td>\n",
       "      <td>6.4549</td>\n",
       "      <td>3.4246</td>\n",
       "      <td>3.0</td>\n",
       "      <td>Hotel</td>\n",
       "      <td>Pool Hall</td>\n",
       "      <td>Bar</td>\n",
       "      <td>Hotel Bar</td>\n",
       "      <td>Food Truck</td>\n",
       "      <td>Bakery</td>\n",
       "      <td>Bridal Shop</td>\n",
       "      <td>Cafeteria</td>\n",
       "      <td>Candy Store</td>\n",
       "      <td>Department Store</td>\n",
       "    </tr>\n",
       "    <tr>\n",
       "      <td>8</td>\n",
       "      <td>11</td>\n",
       "      <td>Lagos Mainland</td>\n",
       "      <td>19</td>\n",
       "      <td>317720</td>\n",
       "      <td>Lagos Mainland</td>\n",
       "      <td>101</td>\n",
       "      <td>6.5059</td>\n",
       "      <td>3.3781</td>\n",
       "      <td>3.0</td>\n",
       "      <td>Fast Food Restaurant</td>\n",
       "      <td>Nightclub</td>\n",
       "      <td>African Restaurant</td>\n",
       "      <td>Movie Theater</td>\n",
       "      <td>Department Store</td>\n",
       "      <td>Shopping Mall</td>\n",
       "      <td>Bakery</td>\n",
       "      <td>Bar</td>\n",
       "      <td>Bridal Shop</td>\n",
       "      <td>Cafeteria</td>\n",
       "    </tr>\n",
       "    <tr>\n",
       "      <td>9</td>\n",
       "      <td>12</td>\n",
       "      <td>Surulere</td>\n",
       "      <td>23</td>\n",
       "      <td>503975</td>\n",
       "      <td>Surulere</td>\n",
       "      <td>101</td>\n",
       "      <td>6.4983</td>\n",
       "      <td>3.3486</td>\n",
       "      <td>3.0</td>\n",
       "      <td>Bar</td>\n",
       "      <td>Fast Food Restaurant</td>\n",
       "      <td>Spa</td>\n",
       "      <td>Lounge</td>\n",
       "      <td>Bridal Shop</td>\n",
       "      <td>Cafeteria</td>\n",
       "      <td>African Restaurant</td>\n",
       "      <td>Pharmacy</td>\n",
       "      <td>Movie Theater</td>\n",
       "      <td>Nightclub</td>\n",
       "    </tr>\n",
       "    <tr>\n",
       "      <td>10</td>\n",
       "      <td>17</td>\n",
       "      <td>Ikorodu</td>\n",
       "      <td>394</td>\n",
       "      <td>535619</td>\n",
       "      <td>Ikorodu</td>\n",
       "      <td>104</td>\n",
       "      <td>6.6194</td>\n",
       "      <td>3.5105</td>\n",
       "      <td>4.0</td>\n",
       "      <td>Bar</td>\n",
       "      <td>Candy Store</td>\n",
       "      <td>Spa</td>\n",
       "      <td>Shopping Mall</td>\n",
       "      <td>Bakery</td>\n",
       "      <td>Bridal Shop</td>\n",
       "      <td>Cafeteria</td>\n",
       "      <td>Department Store</td>\n",
       "      <td>Fast Food Restaurant</td>\n",
       "      <td>Food Truck</td>\n",
       "    </tr>\n",
       "  </tbody>\n",
       "</table>\n",
       "</div>"
      ],
      "text/plain": [
       "    index        LGA name  Area(KM SQUARE)  CENSUS 2006 POPULATION  \\\n",
       "0       0           Agege               11                  459939   \n",
       "1       1        Alimosho              185                 1277714   \n",
       "2       3           Ikeja               46                  313196   \n",
       "3       4          Kosofe               81                  665393   \n",
       "4       5          Mushin               17                  633009   \n",
       "5       6    Oshodi-Isolo               45                  621509   \n",
       "6       8           Apapa               27                  217362   \n",
       "7      10    Lagos Island                9                  209437   \n",
       "8      11  Lagos Mainland               19                  317720   \n",
       "9      12        Surulere               23                  503975   \n",
       "10     17         Ikorodu              394                  535619   \n",
       "\n",
       "   ADMINISTRATIVE CAPITAL POSTAL CODE  latitude  longitude  Cluster Labels  \\\n",
       "0                   Agege         100    6.6180     3.3209             2.0   \n",
       "1                  Ikotun         100    6.5744     3.2570             4.0   \n",
       "2                   Ikeja         100    6.6018     3.3515             3.0   \n",
       "3                  Kosofe         100    6.5691     3.3793             0.0   \n",
       "4                  Mushin         100    6.5273     3.3414             4.0   \n",
       "5            Oshodi/Isolo         100    6.5355     3.3087             1.0   \n",
       "6                   Apapa         101    6.4553     3.3641             2.0   \n",
       "7            Lagos Island         101    6.4549     3.4246             3.0   \n",
       "8          Lagos Mainland         101    6.5059     3.3781             3.0   \n",
       "9                Surulere         101    6.4983     3.3486             3.0   \n",
       "10                Ikorodu         104    6.6194     3.5105             4.0   \n",
       "\n",
       "   1st Most Common Venue                     2nd Most Common Venue  \\\n",
       "0                   Park                      Fast Food Restaurant   \n",
       "1                    Bar                                Food Truck   \n",
       "2     African Restaurant                                    Bakery   \n",
       "3                    Spa  Residential Building (Apartment / Condo)   \n",
       "4                 Bakery                                       Bar   \n",
       "5                 Bakery                                       Spa   \n",
       "6   Fast Food Restaurant                                       Spa   \n",
       "7                  Hotel                                 Pool Hall   \n",
       "8   Fast Food Restaurant                                 Nightclub   \n",
       "9                    Bar                      Fast Food Restaurant   \n",
       "10                   Bar                               Candy Store   \n",
       "\n",
       "   3rd Most Common Venue 4th Most Common Venue 5th Most Common Venue  \\\n",
       "0                    Spa            Food Truck                Bakery   \n",
       "1                    Spa         Shopping Mall                Bakery   \n",
       "2               Pharmacy  Fast Food Restaurant            Food Truck   \n",
       "3             Food Truck                Bakery                   Bar   \n",
       "4                    Spa         Shopping Mall           Bridal Shop   \n",
       "5          Shopping Mall                   Bar           Bridal Shop   \n",
       "6          Shopping Mall                Bakery                   Bar   \n",
       "7                    Bar             Hotel Bar            Food Truck   \n",
       "8     African Restaurant         Movie Theater      Department Store   \n",
       "9                    Spa                Lounge           Bridal Shop   \n",
       "10                   Spa         Shopping Mall                Bakery   \n",
       "\n",
       "   6th Most Common Venue 7th Most Common Venue 8th Most Common Venue  \\\n",
       "0                    Bar           Bridal Shop             Cafeteria   \n",
       "1            Bridal Shop             Cafeteria           Candy Store   \n",
       "2                    Bar           Bridal Shop             Cafeteria   \n",
       "3            Bridal Shop             Cafeteria           Candy Store   \n",
       "4              Cafeteria           Candy Store      Department Store   \n",
       "5              Cafeteria           Candy Store      Department Store   \n",
       "6            Bridal Shop             Cafeteria           Candy Store   \n",
       "7                 Bakery           Bridal Shop             Cafeteria   \n",
       "8          Shopping Mall                Bakery                   Bar   \n",
       "9              Cafeteria    African Restaurant              Pharmacy   \n",
       "10           Bridal Shop             Cafeteria      Department Store   \n",
       "\n",
       "   9th Most Common Venue 10th Most Common Venue  \n",
       "0            Candy Store       Department Store  \n",
       "1       Department Store   Fast Food Restaurant  \n",
       "2            Candy Store       Department Store  \n",
       "3       Department Store   Fast Food Restaurant  \n",
       "4   Fast Food Restaurant             Food Truck  \n",
       "5   Fast Food Restaurant             Food Truck  \n",
       "6       Department Store             Food Truck  \n",
       "7            Candy Store       Department Store  \n",
       "8            Bridal Shop              Cafeteria  \n",
       "9          Movie Theater              Nightclub  \n",
       "10  Fast Food Restaurant             Food Truck  "
      ]
     },
     "execution_count": 222,
     "metadata": {},
     "output_type": "execute_result"
    }
   ],
   "source": [
    "# Now, dropping all the rows with the NaNs\n",
    "lagos_complete_df_merged = lagos_complete_df_merged[lagos_complete_df_merged['Cluster Labels'].notna()].reset_index()\n",
    "lagos_complete_df_merged"
   ]
  },
  {
   "cell_type": "code",
   "execution_count": null,
   "metadata": {},
   "outputs": [],
   "source": []
  },
  {
   "cell_type": "code",
   "execution_count": 223,
   "metadata": {},
   "outputs": [
    {
     "data": {
      "text/html": [
       "<div style=\"width:100%;\"><div style=\"position:relative;width:100%;height:0;padding-bottom:60%;\"><span style=\"color:#565656\">Make this Notebook Trusted to load map: File -> Trust Notebook</span><iframe src=\"about:blank\" style=\"position:absolute;width:100%;height:100%;left:0;top:0;border:none !important;\" data-html=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 onload=\"this.contentDocument.open();this.contentDocument.write(atob(this.getAttribute('data-html')));this.contentDocument.close();\" allowfullscreen webkitallowfullscreen mozallowfullscreen></iframe></div></div>"
      ],
      "text/plain": [
       "<folium.folium.Map at 0x1b6e1e8688>"
      ]
     },
     "execution_count": 223,
     "metadata": {},
     "output_type": "execute_result"
    }
   ],
   "source": [
    "lagos_complete_df_merged = lagos_complete_df_merged.astype({\"Cluster Labels\":'int64'})\n",
    "# create map\n",
    "map_clusters = folium.Map(location=[latitude, longitude], zoom_start=11)\n",
    "\n",
    "# set color scheme for the clusters\n",
    "x = np.arange(kclusters)\n",
    "ys = [i + x + (i*x)**2 for i in range(kclusters)]\n",
    "colors_array = cm.rainbow(np.linspace(0, 1, len(ys)))\n",
    "rainbow = [colors.rgb2hex(i) for i in colors_array]\n",
    "\n",
    "# add markers to the map\n",
    "markers_colors = []\n",
    "for lat, lon, poi, cluster in zip(lagos_complete_df_merged['latitude'], lagos_complete_df_merged['longitude'], lagos_complete_df_merged['LGA name'], lagos_complete_df_merged['Cluster Labels']):\n",
    "    label = folium.Popup(str(poi) + ' Cluster ' + str(cluster), parse_html=True)\n",
    "    folium.CircleMarker(\n",
    "        [lat, lon],\n",
    "        radius=5,\n",
    "        popup=label,\n",
    "        color=rainbow[cluster-1],\n",
    "        fill=True,\n",
    "        fill_color=rainbow[cluster-1],\n",
    "        fill_opacity=0.7).add_to(map_clusters)\n",
    "       \n",
    "map_clusters"
   ]
  },
  {
   "cell_type": "markdown",
   "metadata": {},
   "source": [
    "#### Finally, let's Examine each of the clusters"
   ]
  },
  {
   "cell_type": "markdown",
   "metadata": {},
   "source": [
    "### Cluster 1"
   ]
  },
  {
   "cell_type": "code",
   "execution_count": 224,
   "metadata": {},
   "outputs": [
    {
     "data": {
      "text/html": [
       "<div>\n",
       "<style scoped>\n",
       "    .dataframe tbody tr th:only-of-type {\n",
       "        vertical-align: middle;\n",
       "    }\n",
       "\n",
       "    .dataframe tbody tr th {\n",
       "        vertical-align: top;\n",
       "    }\n",
       "\n",
       "    .dataframe thead th {\n",
       "        text-align: right;\n",
       "    }\n",
       "</style>\n",
       "<table border=\"1\" class=\"dataframe\">\n",
       "  <thead>\n",
       "    <tr style=\"text-align: right;\">\n",
       "      <th></th>\n",
       "      <th>LGA name</th>\n",
       "      <th>POSTAL CODE</th>\n",
       "      <th>latitude</th>\n",
       "      <th>longitude</th>\n",
       "      <th>Cluster Labels</th>\n",
       "      <th>1st Most Common Venue</th>\n",
       "      <th>2nd Most Common Venue</th>\n",
       "      <th>3rd Most Common Venue</th>\n",
       "      <th>4th Most Common Venue</th>\n",
       "      <th>5th Most Common Venue</th>\n",
       "      <th>6th Most Common Venue</th>\n",
       "      <th>7th Most Common Venue</th>\n",
       "      <th>8th Most Common Venue</th>\n",
       "      <th>9th Most Common Venue</th>\n",
       "      <th>10th Most Common Venue</th>\n",
       "    </tr>\n",
       "  </thead>\n",
       "  <tbody>\n",
       "    <tr>\n",
       "      <td>3</td>\n",
       "      <td>Kosofe</td>\n",
       "      <td>100</td>\n",
       "      <td>6.5691</td>\n",
       "      <td>3.3793</td>\n",
       "      <td>0</td>\n",
       "      <td>Spa</td>\n",
       "      <td>Residential Building (Apartment / Condo)</td>\n",
       "      <td>Food Truck</td>\n",
       "      <td>Bakery</td>\n",
       "      <td>Bar</td>\n",
       "      <td>Bridal Shop</td>\n",
       "      <td>Cafeteria</td>\n",
       "      <td>Candy Store</td>\n",
       "      <td>Department Store</td>\n",
       "      <td>Fast Food Restaurant</td>\n",
       "    </tr>\n",
       "  </tbody>\n",
       "</table>\n",
       "</div>"
      ],
      "text/plain": [
       "  LGA name POSTAL CODE  latitude  longitude  Cluster Labels  \\\n",
       "3   Kosofe         100    6.5691     3.3793               0   \n",
       "\n",
       "  1st Most Common Venue                     2nd Most Common Venue  \\\n",
       "3                   Spa  Residential Building (Apartment / Condo)   \n",
       "\n",
       "  3rd Most Common Venue 4th Most Common Venue 5th Most Common Venue  \\\n",
       "3            Food Truck                Bakery                   Bar   \n",
       "\n",
       "  6th Most Common Venue 7th Most Common Venue 8th Most Common Venue  \\\n",
       "3           Bridal Shop             Cafeteria           Candy Store   \n",
       "\n",
       "  9th Most Common Venue 10th Most Common Venue  \n",
       "3      Department Store   Fast Food Restaurant  "
      ]
     },
     "execution_count": 224,
     "metadata": {},
     "output_type": "execute_result"
    }
   ],
   "source": [
    "lagos_complete_df_merged.loc[lagos_complete_df_merged['Cluster Labels'] == 0.0, lagos_complete_df_merged.columns[[1] + list(range(5, lagos_complete_df_merged.shape[1]))]]\n"
   ]
  },
  {
   "cell_type": "markdown",
   "metadata": {},
   "source": [
    "### Cluster 2"
   ]
  },
  {
   "cell_type": "code",
   "execution_count": 225,
   "metadata": {},
   "outputs": [
    {
     "data": {
      "text/html": [
       "<div>\n",
       "<style scoped>\n",
       "    .dataframe tbody tr th:only-of-type {\n",
       "        vertical-align: middle;\n",
       "    }\n",
       "\n",
       "    .dataframe tbody tr th {\n",
       "        vertical-align: top;\n",
       "    }\n",
       "\n",
       "    .dataframe thead th {\n",
       "        text-align: right;\n",
       "    }\n",
       "</style>\n",
       "<table border=\"1\" class=\"dataframe\">\n",
       "  <thead>\n",
       "    <tr style=\"text-align: right;\">\n",
       "      <th></th>\n",
       "      <th>LGA name</th>\n",
       "      <th>POSTAL CODE</th>\n",
       "      <th>latitude</th>\n",
       "      <th>longitude</th>\n",
       "      <th>Cluster Labels</th>\n",
       "      <th>1st Most Common Venue</th>\n",
       "      <th>2nd Most Common Venue</th>\n",
       "      <th>3rd Most Common Venue</th>\n",
       "      <th>4th Most Common Venue</th>\n",
       "      <th>5th Most Common Venue</th>\n",
       "      <th>6th Most Common Venue</th>\n",
       "      <th>7th Most Common Venue</th>\n",
       "      <th>8th Most Common Venue</th>\n",
       "      <th>9th Most Common Venue</th>\n",
       "      <th>10th Most Common Venue</th>\n",
       "    </tr>\n",
       "  </thead>\n",
       "  <tbody>\n",
       "    <tr>\n",
       "      <td>5</td>\n",
       "      <td>Oshodi-Isolo</td>\n",
       "      <td>100</td>\n",
       "      <td>6.5355</td>\n",
       "      <td>3.3087</td>\n",
       "      <td>1</td>\n",
       "      <td>Bakery</td>\n",
       "      <td>Spa</td>\n",
       "      <td>Shopping Mall</td>\n",
       "      <td>Bar</td>\n",
       "      <td>Bridal Shop</td>\n",
       "      <td>Cafeteria</td>\n",
       "      <td>Candy Store</td>\n",
       "      <td>Department Store</td>\n",
       "      <td>Fast Food Restaurant</td>\n",
       "      <td>Food Truck</td>\n",
       "    </tr>\n",
       "  </tbody>\n",
       "</table>\n",
       "</div>"
      ],
      "text/plain": [
       "       LGA name POSTAL CODE  latitude  longitude  Cluster Labels  \\\n",
       "5  Oshodi-Isolo         100    6.5355     3.3087               1   \n",
       "\n",
       "  1st Most Common Venue 2nd Most Common Venue 3rd Most Common Venue  \\\n",
       "5                Bakery                   Spa         Shopping Mall   \n",
       "\n",
       "  4th Most Common Venue 5th Most Common Venue 6th Most Common Venue  \\\n",
       "5                   Bar           Bridal Shop             Cafeteria   \n",
       "\n",
       "  7th Most Common Venue 8th Most Common Venue 9th Most Common Venue  \\\n",
       "5           Candy Store      Department Store  Fast Food Restaurant   \n",
       "\n",
       "  10th Most Common Venue  \n",
       "5             Food Truck  "
      ]
     },
     "execution_count": 225,
     "metadata": {},
     "output_type": "execute_result"
    }
   ],
   "source": [
    "lagos_complete_df_merged.loc[lagos_complete_df_merged['Cluster Labels'] == 1.0, lagos_complete_df_merged.columns[[1] + list(range(5, lagos_complete_df_merged.shape[1]))]]\n"
   ]
  },
  {
   "cell_type": "markdown",
   "metadata": {},
   "source": [
    "### cluster 3"
   ]
  },
  {
   "cell_type": "code",
   "execution_count": 226,
   "metadata": {},
   "outputs": [
    {
     "data": {
      "text/html": [
       "<div>\n",
       "<style scoped>\n",
       "    .dataframe tbody tr th:only-of-type {\n",
       "        vertical-align: middle;\n",
       "    }\n",
       "\n",
       "    .dataframe tbody tr th {\n",
       "        vertical-align: top;\n",
       "    }\n",
       "\n",
       "    .dataframe thead th {\n",
       "        text-align: right;\n",
       "    }\n",
       "</style>\n",
       "<table border=\"1\" class=\"dataframe\">\n",
       "  <thead>\n",
       "    <tr style=\"text-align: right;\">\n",
       "      <th></th>\n",
       "      <th>LGA name</th>\n",
       "      <th>POSTAL CODE</th>\n",
       "      <th>latitude</th>\n",
       "      <th>longitude</th>\n",
       "      <th>Cluster Labels</th>\n",
       "      <th>1st Most Common Venue</th>\n",
       "      <th>2nd Most Common Venue</th>\n",
       "      <th>3rd Most Common Venue</th>\n",
       "      <th>4th Most Common Venue</th>\n",
       "      <th>5th Most Common Venue</th>\n",
       "      <th>6th Most Common Venue</th>\n",
       "      <th>7th Most Common Venue</th>\n",
       "      <th>8th Most Common Venue</th>\n",
       "      <th>9th Most Common Venue</th>\n",
       "      <th>10th Most Common Venue</th>\n",
       "    </tr>\n",
       "  </thead>\n",
       "  <tbody>\n",
       "    <tr>\n",
       "      <td>0</td>\n",
       "      <td>Agege</td>\n",
       "      <td>100</td>\n",
       "      <td>6.6180</td>\n",
       "      <td>3.3209</td>\n",
       "      <td>2</td>\n",
       "      <td>Park</td>\n",
       "      <td>Fast Food Restaurant</td>\n",
       "      <td>Spa</td>\n",
       "      <td>Food Truck</td>\n",
       "      <td>Bakery</td>\n",
       "      <td>Bar</td>\n",
       "      <td>Bridal Shop</td>\n",
       "      <td>Cafeteria</td>\n",
       "      <td>Candy Store</td>\n",
       "      <td>Department Store</td>\n",
       "    </tr>\n",
       "    <tr>\n",
       "      <td>6</td>\n",
       "      <td>Apapa</td>\n",
       "      <td>101</td>\n",
       "      <td>6.4553</td>\n",
       "      <td>3.3641</td>\n",
       "      <td>2</td>\n",
       "      <td>Fast Food Restaurant</td>\n",
       "      <td>Spa</td>\n",
       "      <td>Shopping Mall</td>\n",
       "      <td>Bakery</td>\n",
       "      <td>Bar</td>\n",
       "      <td>Bridal Shop</td>\n",
       "      <td>Cafeteria</td>\n",
       "      <td>Candy Store</td>\n",
       "      <td>Department Store</td>\n",
       "      <td>Food Truck</td>\n",
       "    </tr>\n",
       "  </tbody>\n",
       "</table>\n",
       "</div>"
      ],
      "text/plain": [
       "  LGA name POSTAL CODE  latitude  longitude  Cluster Labels  \\\n",
       "0    Agege         100    6.6180     3.3209               2   \n",
       "6    Apapa         101    6.4553     3.3641               2   \n",
       "\n",
       "  1st Most Common Venue 2nd Most Common Venue 3rd Most Common Venue  \\\n",
       "0                  Park  Fast Food Restaurant                   Spa   \n",
       "6  Fast Food Restaurant                   Spa         Shopping Mall   \n",
       "\n",
       "  4th Most Common Venue 5th Most Common Venue 6th Most Common Venue  \\\n",
       "0            Food Truck                Bakery                   Bar   \n",
       "6                Bakery                   Bar           Bridal Shop   \n",
       "\n",
       "  7th Most Common Venue 8th Most Common Venue 9th Most Common Venue  \\\n",
       "0           Bridal Shop             Cafeteria           Candy Store   \n",
       "6             Cafeteria           Candy Store      Department Store   \n",
       "\n",
       "  10th Most Common Venue  \n",
       "0       Department Store  \n",
       "6             Food Truck  "
      ]
     },
     "execution_count": 226,
     "metadata": {},
     "output_type": "execute_result"
    }
   ],
   "source": [
    "lagos_complete_df_merged.loc[lagos_complete_df_merged['Cluster Labels'] == 2.0, lagos_complete_df_merged.columns[[1] + list(range(5, lagos_complete_df_merged.shape[1]))]]\n"
   ]
  },
  {
   "cell_type": "markdown",
   "metadata": {},
   "source": [
    "### Cluster 4"
   ]
  },
  {
   "cell_type": "code",
   "execution_count": 227,
   "metadata": {},
   "outputs": [
    {
     "data": {
      "text/html": [
       "<div>\n",
       "<style scoped>\n",
       "    .dataframe tbody tr th:only-of-type {\n",
       "        vertical-align: middle;\n",
       "    }\n",
       "\n",
       "    .dataframe tbody tr th {\n",
       "        vertical-align: top;\n",
       "    }\n",
       "\n",
       "    .dataframe thead th {\n",
       "        text-align: right;\n",
       "    }\n",
       "</style>\n",
       "<table border=\"1\" class=\"dataframe\">\n",
       "  <thead>\n",
       "    <tr style=\"text-align: right;\">\n",
       "      <th></th>\n",
       "      <th>LGA name</th>\n",
       "      <th>POSTAL CODE</th>\n",
       "      <th>latitude</th>\n",
       "      <th>longitude</th>\n",
       "      <th>Cluster Labels</th>\n",
       "      <th>1st Most Common Venue</th>\n",
       "      <th>2nd Most Common Venue</th>\n",
       "      <th>3rd Most Common Venue</th>\n",
       "      <th>4th Most Common Venue</th>\n",
       "      <th>5th Most Common Venue</th>\n",
       "      <th>6th Most Common Venue</th>\n",
       "      <th>7th Most Common Venue</th>\n",
       "      <th>8th Most Common Venue</th>\n",
       "      <th>9th Most Common Venue</th>\n",
       "      <th>10th Most Common Venue</th>\n",
       "    </tr>\n",
       "  </thead>\n",
       "  <tbody>\n",
       "    <tr>\n",
       "      <td>2</td>\n",
       "      <td>Ikeja</td>\n",
       "      <td>100</td>\n",
       "      <td>6.6018</td>\n",
       "      <td>3.3515</td>\n",
       "      <td>3</td>\n",
       "      <td>African Restaurant</td>\n",
       "      <td>Bakery</td>\n",
       "      <td>Pharmacy</td>\n",
       "      <td>Fast Food Restaurant</td>\n",
       "      <td>Food Truck</td>\n",
       "      <td>Bar</td>\n",
       "      <td>Bridal Shop</td>\n",
       "      <td>Cafeteria</td>\n",
       "      <td>Candy Store</td>\n",
       "      <td>Department Store</td>\n",
       "    </tr>\n",
       "    <tr>\n",
       "      <td>7</td>\n",
       "      <td>Lagos Island</td>\n",
       "      <td>101</td>\n",
       "      <td>6.4549</td>\n",
       "      <td>3.4246</td>\n",
       "      <td>3</td>\n",
       "      <td>Hotel</td>\n",
       "      <td>Pool Hall</td>\n",
       "      <td>Bar</td>\n",
       "      <td>Hotel Bar</td>\n",
       "      <td>Food Truck</td>\n",
       "      <td>Bakery</td>\n",
       "      <td>Bridal Shop</td>\n",
       "      <td>Cafeteria</td>\n",
       "      <td>Candy Store</td>\n",
       "      <td>Department Store</td>\n",
       "    </tr>\n",
       "    <tr>\n",
       "      <td>8</td>\n",
       "      <td>Lagos Mainland</td>\n",
       "      <td>101</td>\n",
       "      <td>6.5059</td>\n",
       "      <td>3.3781</td>\n",
       "      <td>3</td>\n",
       "      <td>Fast Food Restaurant</td>\n",
       "      <td>Nightclub</td>\n",
       "      <td>African Restaurant</td>\n",
       "      <td>Movie Theater</td>\n",
       "      <td>Department Store</td>\n",
       "      <td>Shopping Mall</td>\n",
       "      <td>Bakery</td>\n",
       "      <td>Bar</td>\n",
       "      <td>Bridal Shop</td>\n",
       "      <td>Cafeteria</td>\n",
       "    </tr>\n",
       "    <tr>\n",
       "      <td>9</td>\n",
       "      <td>Surulere</td>\n",
       "      <td>101</td>\n",
       "      <td>6.4983</td>\n",
       "      <td>3.3486</td>\n",
       "      <td>3</td>\n",
       "      <td>Bar</td>\n",
       "      <td>Fast Food Restaurant</td>\n",
       "      <td>Spa</td>\n",
       "      <td>Lounge</td>\n",
       "      <td>Bridal Shop</td>\n",
       "      <td>Cafeteria</td>\n",
       "      <td>African Restaurant</td>\n",
       "      <td>Pharmacy</td>\n",
       "      <td>Movie Theater</td>\n",
       "      <td>Nightclub</td>\n",
       "    </tr>\n",
       "  </tbody>\n",
       "</table>\n",
       "</div>"
      ],
      "text/plain": [
       "         LGA name POSTAL CODE  latitude  longitude  Cluster Labels  \\\n",
       "2           Ikeja         100    6.6018     3.3515               3   \n",
       "7    Lagos Island         101    6.4549     3.4246               3   \n",
       "8  Lagos Mainland         101    6.5059     3.3781               3   \n",
       "9        Surulere         101    6.4983     3.3486               3   \n",
       "\n",
       "  1st Most Common Venue 2nd Most Common Venue 3rd Most Common Venue  \\\n",
       "2    African Restaurant                Bakery              Pharmacy   \n",
       "7                 Hotel             Pool Hall                   Bar   \n",
       "8  Fast Food Restaurant             Nightclub    African Restaurant   \n",
       "9                   Bar  Fast Food Restaurant                   Spa   \n",
       "\n",
       "  4th Most Common Venue 5th Most Common Venue 6th Most Common Venue  \\\n",
       "2  Fast Food Restaurant            Food Truck                   Bar   \n",
       "7             Hotel Bar            Food Truck                Bakery   \n",
       "8         Movie Theater      Department Store         Shopping Mall   \n",
       "9                Lounge           Bridal Shop             Cafeteria   \n",
       "\n",
       "  7th Most Common Venue 8th Most Common Venue 9th Most Common Venue  \\\n",
       "2           Bridal Shop             Cafeteria           Candy Store   \n",
       "7           Bridal Shop             Cafeteria           Candy Store   \n",
       "8                Bakery                   Bar           Bridal Shop   \n",
       "9    African Restaurant              Pharmacy         Movie Theater   \n",
       "\n",
       "  10th Most Common Venue  \n",
       "2       Department Store  \n",
       "7       Department Store  \n",
       "8              Cafeteria  \n",
       "9              Nightclub  "
      ]
     },
     "execution_count": 227,
     "metadata": {},
     "output_type": "execute_result"
    }
   ],
   "source": [
    "lagos_complete_df_merged.loc[lagos_complete_df_merged['Cluster Labels'] == 3.0, lagos_complete_df_merged.columns[[1] + list(range(5, lagos_complete_df_merged.shape[1]))]]\n"
   ]
  },
  {
   "cell_type": "markdown",
   "metadata": {},
   "source": [
    "### Cluster 5"
   ]
  },
  {
   "cell_type": "code",
   "execution_count": 228,
   "metadata": {},
   "outputs": [
    {
     "data": {
      "text/html": [
       "<div>\n",
       "<style scoped>\n",
       "    .dataframe tbody tr th:only-of-type {\n",
       "        vertical-align: middle;\n",
       "    }\n",
       "\n",
       "    .dataframe tbody tr th {\n",
       "        vertical-align: top;\n",
       "    }\n",
       "\n",
       "    .dataframe thead th {\n",
       "        text-align: right;\n",
       "    }\n",
       "</style>\n",
       "<table border=\"1\" class=\"dataframe\">\n",
       "  <thead>\n",
       "    <tr style=\"text-align: right;\">\n",
       "      <th></th>\n",
       "      <th>LGA name</th>\n",
       "      <th>POSTAL CODE</th>\n",
       "      <th>latitude</th>\n",
       "      <th>longitude</th>\n",
       "      <th>Cluster Labels</th>\n",
       "      <th>1st Most Common Venue</th>\n",
       "      <th>2nd Most Common Venue</th>\n",
       "      <th>3rd Most Common Venue</th>\n",
       "      <th>4th Most Common Venue</th>\n",
       "      <th>5th Most Common Venue</th>\n",
       "      <th>6th Most Common Venue</th>\n",
       "      <th>7th Most Common Venue</th>\n",
       "      <th>8th Most Common Venue</th>\n",
       "      <th>9th Most Common Venue</th>\n",
       "      <th>10th Most Common Venue</th>\n",
       "    </tr>\n",
       "  </thead>\n",
       "  <tbody>\n",
       "    <tr>\n",
       "      <td>1</td>\n",
       "      <td>Alimosho</td>\n",
       "      <td>100</td>\n",
       "      <td>6.5744</td>\n",
       "      <td>3.2570</td>\n",
       "      <td>4</td>\n",
       "      <td>Bar</td>\n",
       "      <td>Food Truck</td>\n",
       "      <td>Spa</td>\n",
       "      <td>Shopping Mall</td>\n",
       "      <td>Bakery</td>\n",
       "      <td>Bridal Shop</td>\n",
       "      <td>Cafeteria</td>\n",
       "      <td>Candy Store</td>\n",
       "      <td>Department Store</td>\n",
       "      <td>Fast Food Restaurant</td>\n",
       "    </tr>\n",
       "    <tr>\n",
       "      <td>4</td>\n",
       "      <td>Mushin</td>\n",
       "      <td>100</td>\n",
       "      <td>6.5273</td>\n",
       "      <td>3.3414</td>\n",
       "      <td>4</td>\n",
       "      <td>Bakery</td>\n",
       "      <td>Bar</td>\n",
       "      <td>Spa</td>\n",
       "      <td>Shopping Mall</td>\n",
       "      <td>Bridal Shop</td>\n",
       "      <td>Cafeteria</td>\n",
       "      <td>Candy Store</td>\n",
       "      <td>Department Store</td>\n",
       "      <td>Fast Food Restaurant</td>\n",
       "      <td>Food Truck</td>\n",
       "    </tr>\n",
       "    <tr>\n",
       "      <td>10</td>\n",
       "      <td>Ikorodu</td>\n",
       "      <td>104</td>\n",
       "      <td>6.6194</td>\n",
       "      <td>3.5105</td>\n",
       "      <td>4</td>\n",
       "      <td>Bar</td>\n",
       "      <td>Candy Store</td>\n",
       "      <td>Spa</td>\n",
       "      <td>Shopping Mall</td>\n",
       "      <td>Bakery</td>\n",
       "      <td>Bridal Shop</td>\n",
       "      <td>Cafeteria</td>\n",
       "      <td>Department Store</td>\n",
       "      <td>Fast Food Restaurant</td>\n",
       "      <td>Food Truck</td>\n",
       "    </tr>\n",
       "  </tbody>\n",
       "</table>\n",
       "</div>"
      ],
      "text/plain": [
       "    LGA name POSTAL CODE  latitude  longitude  Cluster Labels  \\\n",
       "1   Alimosho         100    6.5744     3.2570               4   \n",
       "4     Mushin         100    6.5273     3.3414               4   \n",
       "10   Ikorodu         104    6.6194     3.5105               4   \n",
       "\n",
       "   1st Most Common Venue 2nd Most Common Venue 3rd Most Common Venue  \\\n",
       "1                    Bar            Food Truck                   Spa   \n",
       "4                 Bakery                   Bar                   Spa   \n",
       "10                   Bar           Candy Store                   Spa   \n",
       "\n",
       "   4th Most Common Venue 5th Most Common Venue 6th Most Common Venue  \\\n",
       "1          Shopping Mall                Bakery           Bridal Shop   \n",
       "4          Shopping Mall           Bridal Shop             Cafeteria   \n",
       "10         Shopping Mall                Bakery           Bridal Shop   \n",
       "\n",
       "   7th Most Common Venue 8th Most Common Venue 9th Most Common Venue  \\\n",
       "1              Cafeteria           Candy Store      Department Store   \n",
       "4            Candy Store      Department Store  Fast Food Restaurant   \n",
       "10             Cafeteria      Department Store  Fast Food Restaurant   \n",
       "\n",
       "   10th Most Common Venue  \n",
       "1    Fast Food Restaurant  \n",
       "4              Food Truck  \n",
       "10             Food Truck  "
      ]
     },
     "execution_count": 228,
     "metadata": {},
     "output_type": "execute_result"
    }
   ],
   "source": [
    "lagos_complete_df_merged.loc[lagos_complete_df_merged['Cluster Labels'] == 4.0, lagos_complete_df_merged.columns[[1] + list(range(5, lagos_complete_df_merged.shape[1]))]]\n"
   ]
  },
  {
   "cell_type": "code",
   "execution_count": null,
   "metadata": {},
   "outputs": [],
   "source": []
  }
 ],
 "metadata": {
  "kernelspec": {
   "display_name": "Python 3",
   "language": "python",
   "name": "python3"
  },
  "language_info": {
   "codemirror_mode": {
    "name": "ipython",
    "version": 3
   },
   "file_extension": ".py",
   "mimetype": "text/x-python",
   "name": "python",
   "nbconvert_exporter": "python",
   "pygments_lexer": "ipython3",
   "version": "3.7.4"
  }
 },
 "nbformat": 4,
 "nbformat_minor": 2
}
